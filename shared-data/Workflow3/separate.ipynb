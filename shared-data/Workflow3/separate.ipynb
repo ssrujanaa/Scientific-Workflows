{
 "cells": [
  {
   "cell_type": "code",
   "execution_count": 85,
   "metadata": {},
   "outputs": [],
   "source": [
    "#!/usr/bin/env python3\n",
    "from glob import glob\n",
    "\n",
    "input_files = glob('nums[0-9].txt')\n",
    "even_file = 'even.txt'\n",
    "odd_file = 'odd.txt'\n",
    "\n",
    "even=[]\n",
    "odd=[]\n",
    "\n",
    "with open(even_file, \"w\") as e_file, open(odd_file,\"w\") as o_file:\n",
    "    for file in input_files:\n",
    "        with open(file, \"r\")as in_file,open(even_file, \"a\") as e_file, open(odd_file,\"a\") as o_file:\n",
    "            num = in_file.read().split('\\n')\n",
    "            for n in num:\n",
    "                if int(n) % 2 == 0:\n",
    "                    e_file.write(n)\n",
    "                    e_file.write('\\n')\n",
    "                else:\n",
    "                    o_file.write(n)\n",
    "                    o_file.write('\\n')\n"
   ]
  },
  {
   "cell_type": "code",
   "execution_count": null,
   "metadata": {},
   "outputs": [],
   "source": []
  },
  {
   "cell_type": "code",
   "execution_count": 73,
   "metadata": {},
   "outputs": [],
   "source": []
  },
  {
   "cell_type": "code",
   "execution_count": null,
   "metadata": {},
   "outputs": [],
   "source": [
    "\n"
   ]
  }
 ],
 "metadata": {
  "kernelspec": {
   "display_name": "Python 3",
   "language": "python",
   "name": "python3"
  },
  "language_info": {
   "codemirror_mode": {
    "name": "ipython",
    "version": 3
   },
   "file_extension": ".py",
   "mimetype": "text/x-python",
   "name": "python",
   "nbconvert_exporter": "python",
   "pygments_lexer": "ipython3",
   "version": "3.6.8"
  }
 },
 "nbformat": 4,
 "nbformat_minor": 4
}
