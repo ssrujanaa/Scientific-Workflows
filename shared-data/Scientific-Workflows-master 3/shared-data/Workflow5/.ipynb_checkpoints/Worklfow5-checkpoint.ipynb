{
 "cells": [
  {
   "cell_type": "code",
   "execution_count": 1,
   "metadata": {},
   "outputs": [],
   "source": [
    "#!/usr/bin/env python3\n",
    "import logging\n",
    "from pathlib import Path\n",
    "\n",
    "from Pegasus.api import *\n",
    "\n",
    "logging.basicConfig(level=logging.DEBUG)\n",
    "\n",
    "# Properties\n",
    "props = Properties()\n",
    "props[\"pegasus.data.configuration\"] = \"condorio\"\n",
    "props[\"dagman.retry\"] = \"5\"\n",
    "props.write()\n",
    "\n",
    "#Replica\n",
    "# rc = ReplicaCatalog()\\\n",
    "#         .add_replica(\"local\", \"saved_stated.txt\", Path(\".\").resolve() / \"saved_stated.txt\")\\\n",
    "#         .write()\n",
    "\n",
    "# Transformation\n",
    "check = Transformation(\n",
    "        \"print_nums.py\",\n",
    "        site=\"local\",\n",
    "        pfn=str(Path(\".\").resolve() / \"print_nums.py\"),\n",
    "        is_stageable=True\n",
    "    )\n",
    "\n",
    "tc = TransformationCatalog().add_transformations(check).write()\n",
    "\n",
    "# Workflow\n",
    "job = Job(check)\\\n",
    "        .add_checkpoint(File(\"saved_stated.txt\"), stage_out=True)\\\n",
    "        .set_stdout(\"output.txt\")\\\n",
    "        .add_profiles(Namespace.PEGASUS, key=\"checkpoint.time\", value=1)\\\n",
    "        .add_profiles(Namespace.PEGASUS, key=\"maxwalltime\", value=2)\n",
    "\n",
    "\n",
    "wf = Workflow(\"checkpoint-wf\").add_jobs(job)"
   ]
  },
  {
   "cell_type": "code",
   "execution_count": null,
   "metadata": {},
   "outputs": [
    {
     "name": "stderr",
     "output_type": "stream",
     "text": [
      "\n",
      "################\n",
      "# pegasus-plan #\n",
      "################\n",
      "[main] WARN  schema.JsonMetaSchema  - Unknown keyword $defs - you should define your own Meta Schema. If the keyword is irrelevant for validation, just use a NonValidationKeyword\n",
      "[main] WARN  schema.JsonMetaSchema  - Unknown keyword additionalItems - you should define your own Meta Schema. If the keyword is irrelevant for validation, just use a NonValidationKeyword\n",
      "[main] WARN  schema.JsonMetaSchema  - Unknown keyword examples - you should define your own Meta Schema. If the keyword is irrelevant for validation, just use a NonValidationKeyword\n",
      "2020.09.10 18:08:04.721 UTC:\n",
      "2020.09.10 18:08:04.726 UTC:   -----------------------------------------------------------------------\n",
      "2020.09.10 18:08:04.732 UTC:   File for submitting this DAG to HTCondor           : checkpoint-wf-0.dag.condor.sub\n",
      "2020.09.10 18:08:04.737 UTC:   Log of DAGMan debugging messages                 : checkpoint-wf-0.dag.dagman.out\n",
      "2020.09.10 18:08:04.743 UTC:   Log of HTCondor library output                     : checkpoint-wf-0.dag.lib.out\n",
      "2020.09.10 18:08:04.748 UTC:   Log of HTCondor library error messages             : checkpoint-wf-0.dag.lib.err\n",
      "2020.09.10 18:08:04.754 UTC:   Log of the life of condor_dagman itself          : checkpoint-wf-0.dag.dagman.log\n",
      "2020.09.10 18:08:04.760 UTC:\n",
      "2020.09.10 18:08:04.765 UTC:   -no_submit given, not submitting DAG to HTCondor.  You can do this with:\n",
      "2020.09.10 18:08:04.777 UTC:   -----------------------------------------------------------------------\n",
      "2020.09.10 18:08:06.150 UTC:   Your database is compatible with Pegasus version: 5.0.0dev\n",
      "2020.09.10 18:08:07.851 UTC:   Created Pegasus database in: sqlite:////home/scitech/shared-data/Workflow5/scitech/pegasus/checkpoint-wf/run0011/checkpoint-wf-0.replicas.db\n",
      "2020.09.10 18:08:07.856 UTC:   Your database is compatible with Pegasus version: 5.0.0dev\n",
      "2020.09.10 18:08:07.928 UTC:   Output replica catalog set to jdbc:sqlite:/home/scitech/shared-data/Workflow5/scitech/pegasus/checkpoint-wf/run0011/checkpoint-wf-0.replicas.db\n",
      "2020.09.10 18:08:08.247 UTC:   Submitting to condor checkpoint-wf-0.dag.condor.sub\n",
      "2020.09.10 18:08:08.306 UTC:\n",
      "2020.09.10 18:08:08.312 UTC:   Your workflow has been started and is running in the base directory:\n",
      "2020.09.10 18:08:08.317 UTC:\n",
      "2020.09.10 18:08:08.323 UTC:   /home/scitech/shared-data/Workflow5/scitech/pegasus/checkpoint-wf/run0011\n",
      "2020.09.10 18:08:08.328 UTC:\n",
      "2020.09.10 18:08:08.334 UTC:   *** To monitor the workflow you can run ***\n",
      "2020.09.10 18:08:08.340 UTC:\n",
      "2020.09.10 18:08:08.346 UTC:   pegasus-status -l /home/scitech/shared-data/Workflow5/scitech/pegasus/checkpoint-wf/run0011\n",
      "2020.09.10 18:08:08.352 UTC:\n",
      "2020.09.10 18:08:08.358 UTC:   *** To remove your workflow run ***\n",
      "2020.09.10 18:08:08.364 UTC:\n",
      "2020.09.10 18:08:08.370 UTC:   pegasus-remove /home/scitech/shared-data/Workflow5/scitech/pegasus/checkpoint-wf/run0011\n",
      "2020.09.10 18:08:09.688 UTC:   Time taken to execute is 6.318 seconds\n",
      "2020.09.10 18:08:04.004 UTC: [WARNING]  Replica Catalog is either down or connection to it was never opened  \n",
      "\n"
     ]
    },
    {
     "name": "stdout",
     "output_type": "stream",
     "text": [
      "\r",
      "[--------------------------------------------------]   0.0% .."
     ]
    }
   ],
   "source": [
    "try:\n",
    "    wf.plan(submit=True)\\\n",
    "        .wait()\\\n",
    "        .analyze()\\\n",
    "        .statistics()\n",
    "except PegasusClientError as e:\n",
    "    print(e.output)"
   ]
  },
  {
   "cell_type": "code",
   "execution_count": null,
   "metadata": {},
   "outputs": [],
   "source": []
  }
 ],
 "metadata": {
  "kernelspec": {
   "display_name": "Python 3",
   "language": "python",
   "name": "python3"
  },
  "language_info": {
   "codemirror_mode": {
    "name": "ipython",
    "version": 3
   },
   "file_extension": ".py",
   "mimetype": "text/x-python",
   "name": "python",
   "nbconvert_exporter": "python",
   "pygments_lexer": "ipython3",
   "version": "3.6.8"
  }
 },
 "nbformat": 4,
 "nbformat_minor": 4
}
