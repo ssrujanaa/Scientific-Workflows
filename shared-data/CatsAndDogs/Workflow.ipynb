{
 "cells": [
  {
   "cell_type": "code",
   "execution_count": null,
   "metadata": {},
   "outputs": [],
   "source": [
    "# !sudo pip3 install --upgrade pip keras==2.1.5 tensorflow==1.13.1 numpy pandas pillow sklearn optuna scikit-image  optkeras"
   ]
  },
  {
   "cell_type": "code",
   "execution_count": 137,
   "metadata": {},
   "outputs": [
    {
     "data": {
      "text/plain": [
       "<Pegasus.api.workflow.Workflow at 0x7f5cef973940>"
      ]
     },
     "execution_count": 137,
     "metadata": {},
     "output_type": "execute_result"
    }
   ],
   "source": [
    "#!/usr/bin/env python3\n",
    "import os\n",
    "import logging\n",
    "from pathlib import Path\n",
    "import requests \n",
    "from glob import glob\n",
    "from zipfile import ZipFile\n",
    "import pickle\n",
    "import pandas as pd\n",
    "\n",
    "logging.basicConfig(level=logging.DEBUG)\n",
    "\n",
    "#Import Pegasus API\n",
    "from Pegasus.api import *\n",
    "\n",
    "#Properties\n",
    "props = Properties()\n",
    "props[\"dagman.retry\"] = \"2\"\n",
    "props[\"pegasus.transfer.arguments\"] = \"-m 1\"\n",
    "props.write()\n",
    "\n",
    "#Replica Catalog\n",
    "rc = ReplicaCatalog()\n",
    "input_files = glob('*.jpg')\n",
    "input_files.sort()\n",
    "in_files=[]\n",
    "\n",
    "checkpoint_file = \"checkpoint1.csv\"\n",
    "\n",
    "\n",
    "if not os.path.isfile(checkpoint_file):\n",
    "    df = pd.DataFrame(list())\n",
    "    df.to_csv(checkpoint_file)\n",
    "        \n",
    "\n",
    "for file in input_files:\n",
    "    in_files.append(File(file))\n",
    "    rc.add_replica(\"local\", File(file), str(Path(\".\").resolve() / file))  \n",
    "rc.add_replica(\"local\", File(checkpoint_file), str(Path(\".\").resolve() / file)) \n",
    "rc.write()\n",
    "\n",
    "\n",
    "#Transformation\n",
    "pre_process_resize = Transformation( \"preprocess1.py\",\n",
    "        site = \"local\",\n",
    "        pfn = \"/home/scitech/shared-data/CatsAndDogs/preprocess1.py\",\n",
    "        is_stageable=True)\n",
    "\n",
    "pre_process_augment = Transformation( \"Augmentation.py\",\n",
    "        site = \"local\",\n",
    "        pfn = \"/home/scitech/shared-data/CatsAndDogs/Augmentation.py\",\n",
    "        is_stageable=True)\n",
    "\n",
    "data_split  = Transformation( \"Data_Split.py\",\n",
    "        site = \"local\",\n",
    "        pfn = \"/home/scitech/shared-data/CatsAndDogs/Data_Split.py\",\n",
    "        is_stageable=True)\n",
    "\n",
    "vgg_model  = Transformation( \"VGG_model.py\",\n",
    "        site = \"local\",\n",
    "        pfn = \"/home/scitech/shared-data/CatsAndDogs/VGG_model.py\",\n",
    "        is_stageable=True)\n",
    "\n",
    "hpo =  Transformation( \"hpo_checkpointing.py\",\n",
    "        site = \"local\",\n",
    "        pfn=str(Path(\".\").resolve() /\"hpo_checkpointing.py\"),\n",
    "        is_stageable=True)\n",
    "                    \n",
    "tc = TransformationCatalog()\\\n",
    "    .add_transformations(pre_process_resize,pre_process_augment,data_split,vgg_model,hpo)\\\n",
    "    .write()\n",
    "\n",
    "#Workflow\n",
    "wf = Workflow(\"Cats_and_Dogs\", infer_dependencies=True)\n",
    "\n",
    "\n",
    "resized_images = File('resized_images.txt')\n",
    "all_files = [File(\"resized_{}\".format(f.lfn)) for f in in_files]\n",
    "labels = File('labels.txt')\n",
    "\n",
    "job_preprocess1 = Job(pre_process_resize)\\\n",
    "                    .add_inputs(*in_files)\\\n",
    "                    .add_outputs(*all_files,resized_images,labels) \n",
    "\n",
    "aug_images_txt = File('augmentation.txt')\n",
    "aug_labels_txt = File('aug_labels.txt')\n",
    "augmented_files = []\n",
    "for f in all_files:\n",
    "    augmented_files.extend([File(str(f).replace(\"{}\".format(os.path.splitext(str(f))[0]), \"Aug_{}_{}\".format(os.path.splitext(str(f))[0],i))) for i in range(3)])\n",
    "\n",
    "    \n",
    "job_preprocess2 = Job(pre_process_augment)\\\n",
    "                    .add_inputs(*all_files,labels)\\\n",
    "                    .add_outputs(aug_images_txt,aug_labels_txt,*augmented_files)\n",
    "\n",
    "training_data = File('training.pkl')\n",
    "testing_data = File('testing.pkl')\n",
    "val_data = File('validation.pkl')\n",
    "\n",
    "job_data_split = Job(data_split)\\\n",
    "                    .add_inputs(*augmented_files,labels)\\\n",
    "                    .add_outputs(training_data,testing_data,val_data)\n",
    "\n",
    "model = File('model.h5')\n",
    "\n",
    "job_vgg_model = Job(vgg_model)\\\n",
    "                    .add_inputs(*augmented_files,training_data,testing_data,val_data)\\\n",
    "                    .add_outputs(model)\n",
    "\n",
    "job_hpo = Job(hpo)\\\n",
    "                    .add_checkpoint(File(checkpoint_file), stage_out=True)\\\n",
    "                    .add_inputs(model,*augmented_files,training_data,testing_data,val_data)\\\n",
    "                    .add_profiles(Namespace.PEGASUS, key=\"maxwalltime\", value=100)\n",
    "\n",
    "wf.add_jobs(job_preprocess1,job_preprocess2,job_data_split,job_vgg_model,job_hpo)                                    "
   ]
  },
  {
   "cell_type": "code",
   "execution_count": 138,
   "metadata": {
    "scrolled": true
   },
   "outputs": [
    {
     "name": "stderr",
     "output_type": "stream",
     "text": [
      "\n",
      "################\n",
      "# pegasus-plan #\n",
      "################\n",
      "[main] WARN  schema.JsonMetaSchema  - Unknown keyword $defs - you should define your own Meta Schema. If the keyword is irrelevant for validation, just use a NonValidationKeyword\n",
      "[main] WARN  schema.JsonMetaSchema  - Unknown keyword additionalItems - you should define your own Meta Schema. If the keyword is irrelevant for validation, just use a NonValidationKeyword\n",
      "[main] WARN  schema.JsonMetaSchema  - Unknown keyword examples - you should define your own Meta Schema. If the keyword is irrelevant for validation, just use a NonValidationKeyword\n",
      "2020.09.24 18:45:06.333 UTC:\n",
      "2020.09.24 18:45:06.338 UTC:   -----------------------------------------------------------------------\n",
      "2020.09.24 18:45:06.344 UTC:   File for submitting this DAG to HTCondor           : Cats_and_Dogs-0.dag.condor.sub\n",
      "2020.09.24 18:45:06.349 UTC:   Log of DAGMan debugging messages                 : Cats_and_Dogs-0.dag.dagman.out\n",
      "2020.09.24 18:45:06.355 UTC:   Log of HTCondor library output                     : Cats_and_Dogs-0.dag.lib.out\n",
      "2020.09.24 18:45:06.361 UTC:   Log of HTCondor library error messages             : Cats_and_Dogs-0.dag.lib.err\n",
      "2020.09.24 18:45:06.366 UTC:   Log of the life of condor_dagman itself          : Cats_and_Dogs-0.dag.dagman.log\n",
      "2020.09.24 18:45:06.372 UTC:\n",
      "2020.09.24 18:45:06.378 UTC:   -no_submit given, not submitting DAG to HTCondor.  You can do this with:\n",
      "2020.09.24 18:45:06.389 UTC:   -----------------------------------------------------------------------\n",
      "2020.09.24 18:45:07.677 UTC:   Your database is compatible with Pegasus version: 5.0.0dev\n",
      "2020.09.24 18:45:09.410 UTC:   Created Pegasus database in: sqlite:////home/scitech/shared-data/CatsAndDogs/scitech/pegasus/Cats_and_Dogs/run0027/Cats_and_Dogs-0.replicas.db\n",
      "2020.09.24 18:45:09.416 UTC:   Your database is compatible with Pegasus version: 5.0.0dev\n",
      "2020.09.24 18:45:09.502 UTC:   Output replica catalog set to jdbc:sqlite:/home/scitech/shared-data/CatsAndDogs/scitech/pegasus/Cats_and_Dogs/run0027/Cats_and_Dogs-0.replicas.db\n",
      "2020.09.24 18:45:09.770 UTC:   Submitting to condor Cats_and_Dogs-0.dag.condor.sub\n",
      "2020.09.24 18:45:09.818 UTC:\n",
      "2020.09.24 18:45:09.823 UTC:   Your workflow has been started and is running in the base directory:\n",
      "2020.09.24 18:45:09.829 UTC:\n",
      "2020.09.24 18:45:09.836 UTC:   /home/scitech/shared-data/CatsAndDogs/scitech/pegasus/Cats_and_Dogs/run0027\n",
      "2020.09.24 18:45:09.842 UTC:\n",
      "2020.09.24 18:45:09.847 UTC:   *** To monitor the workflow you can run ***\n",
      "2020.09.24 18:45:09.854 UTC:\n",
      "2020.09.24 18:45:09.860 UTC:   pegasus-status -l /home/scitech/shared-data/CatsAndDogs/scitech/pegasus/Cats_and_Dogs/run0027\n",
      "2020.09.24 18:45:09.865 UTC:\n",
      "2020.09.24 18:45:09.871 UTC:   *** To remove your workflow run ***\n",
      "2020.09.24 18:45:09.877 UTC:\n",
      "2020.09.24 18:45:09.882 UTC:   pegasus-remove /home/scitech/shared-data/CatsAndDogs/scitech/pegasus/Cats_and_Dogs/run0027\n",
      "2020.09.24 18:45:10.783 UTC:   Time taken to execute is 6.672 seconds\n",
      "\n"
     ]
    },
    {
     "name": "stdout",
     "output_type": "stream",
     "text": [
      "[--------------------------------------------------]   0.0% ..Running (Completed: 0, Queued: 0, Running: 0, Failed: 0)--------------------------------------------------]   0.0% ..Running (Completed: 0, Queued: 0, Running: 2, Failed: 0)--------------------------------------------------]   0.0% ..Running (Completed: 0, Queued: 0, Running: 0, Failed: 0)####----------------------------------------------]   7.7% ..Running (Completed: 2, Queued: 6, Running: 0, Failed: 0)####----------------------------------------------]   7.7% ..Running (Completed: 2, Queued: 0, Running: 6, Failed: 0)####----------------------------------------------]   7.7% ..Running (Completed: 2, Queued: 0, Running: 6, Failed: 0)####----------------------------------------------]   7.7% ..Running (Completed: 2, Queued: 0, Running: 1, Failed: 0)#############-------------------------------------]  26.9% ..Running (Completed: 7, Queued: 0, Running: 0, Failed: 0)###############-----------------------------------]  30.8% ..Running (Completed: 8, Queued: 1, Running: 0, Failed: 0)###############-----------------------------------]  30.8% ..Running (Completed: 8, Queued: 0, Running: 1, Failed: 0)###############-----------------------------------]  30.8% ..Running (Completed: 8, Queued: 0, Running: 1, Failed: 0)###############-----------------------------------]  30.8% ..Running (Completed: 8, Queued: 0, Running: 0, Failed: 0)#################---------------------------------]  34.6% ..Running (Completed: 9, Queued: 3, Running: 0, Failed: 0)#################---------------------------------]  34.6% ..Running (Completed: 9, Queued: 0, Running: 3, Failed: 0)#################---------------------------------]  34.6% ..Running (Completed: 9, Queued: 0, Running: 3, Failed: 0)#################---------------------------------]  34.6% ..Running (Completed: 9, Queued: 0, Running: 2, Failed: 0)###################-------------------------------]  38.5% ..Running (Completed: 10, Queued: 2, Running: 1, Failed: 0)#####################-----------------------------]  42.3% ..Running (Completed: 11, Queued: 2, Running: 2, Failed: 0)#######################---------------------------]  46.2% ..Running (Completed: 12, Queued: 0, Running: 3, Failed: 0)#########################-------------------------]  50.0% ..Running (Completed: 13, Queued: 2, Running: 3, Failed: 0)#########################-------------------------]  50.0% ..Running (Completed: 13, Queued: 0, Running: 5, Failed: 0)###############################-------------------]  61.5% ..Running (Completed: 16, Queued: 3, Running: 2, Failed: 0)###############################-------------------]  61.5% ..Running (Completed: 16, Queued: 1, Running: 3, Failed: 0)#################################-----------------]  65.4% ..Running (Completed: 17, Queued: 1, Running: 3, Failed: 0)#################################-----------------]  65.4% ..Running (Completed: 17, Queued: 1, Running: 2, Failed: 0)###################################---------------]  69.2% ..Running (Completed: 18, Queued: 0, Running: 2, Failed: 0)#####################################-------------]  73.1% ..Running (Completed: 19, Queued: 0, Running: 2, Failed: 0)#####################################-------------]  73.1% ..Running (Completed: 19, Queued: 0, Running: 1, Failed: 0)######################################------------]  76.9% ..Running (Completed: 20, Queued: 0, Running: 1, Failed: 0)######################################------------]  76.9% ..Running (Completed: 20, Queued: 0, Running: 1, Failed: 0)######################################------------]  76.9% ..Running (Completed: 20, Queued: 0, Running: 0, Failed: 0)########################################----------]  80.8% ..Running (Completed: 21, Queued: 0, Running: 2, Failed: 0)########################################----------]  80.8% ..Running (Completed: 21, Queued: 0, Running: 2, Failed: 0)########################################----------]  80.8% ..Running (Completed: 21, Queued: 0, Running: 1, Failed: 0)##########################################--------]  84.6% ..Running (Completed: 22, Queued: 2, Running: 1, Failed: 0)##########################################--------]  84.6% ..Running (Completed: 22, Queued: 0, Running: 3, Failed: 0)##########################################--------]  84.6% ..Running (Completed: 22, Queued: 0, Running: 0, Failed: 0)################################################--]  96.2% ..Running (Completed: 25, Queued: 1, Running: 0, Failed: 0)################################################--]  96.2% ..Running (Completed: 25, Queued: 0, Running: 1, Failed: 0)################################################--]  96.2% ..Running (Completed: 25, Queued: 0, Running: 1, Failed: 0)################################################--]  96.2% ..Running (Completed: 25, Queued: 0, Running: 0, Failed: 0)##################################################] 100.0% ..Success (Completed: 26, Queued: 0, Running: 0, Failed: 0)\n"
     ]
    },
    {
     "name": "stderr",
     "output_type": "stream",
     "text": [
      "\n",
      "####################\n",
      "# pegasus-analyzer #\n",
      "####################\n",
      "Your database is compatible with Pegasus version: 5.0.0dev\n",
      "\n",
      "************************************Summary*************************************\n",
      "\n",
      "Submit Directory   : /home/scitech/shared-data/CatsAndDogs/scitech/pegasus/Cats_and_Dogs/run0027\n",
      "Total jobs         :     26 (100.00%)\n",
      "# jobs succeeded   :     26 (100.00%)\n",
      "# jobs failed      :      0 (0.00%)\n",
      "# jobs held        :      0 (0.00%)\n",
      "# jobs unsubmitted :      0 (0.00%)\n",
      "\n",
      "\n",
      "\n",
      "######################\n",
      "# pegasus-statistics #\n",
      "######################\n",
      "Your database is compatible with Pegasus version: 5.0.0dev\n",
      "\n",
      "#\n",
      "# Pegasus Workflow Management System - http://pegasus.isi.edu\n",
      "#\n",
      "# Workflow summary:\n",
      "#   Summary of the workflow execution. It shows total\n",
      "#   tasks/jobs/sub workflows run, how many succeeded/failed etc.\n",
      "#   In case of hierarchical workflow the calculation shows the\n",
      "#   statistics across all the sub workflows.It shows the following\n",
      "#   statistics about tasks, jobs and sub workflows.\n",
      "#     * Succeeded - total count of succeeded tasks/jobs/sub workflows.\n",
      "#     * Failed - total count of failed tasks/jobs/sub workflows.\n",
      "#     * Incomplete - total count of tasks/jobs/sub workflows that are\n",
      "#       not in succeeded or failed state. This includes all the jobs\n",
      "#       that are not submitted, submitted but not completed etc. This\n",
      "#       is calculated as  difference between 'total' count and sum of\n",
      "#       'succeeded' and 'failed' count.\n",
      "#     * Total - total count of tasks/jobs/sub workflows.\n",
      "#     * Retries - total retry count of tasks/jobs/sub workflows.\n",
      "#     * Total+Retries - total count of tasks/jobs/sub workflows executed\n",
      "#       during workflow run. This is the cumulative of retries,\n",
      "#       succeeded and failed count.\n",
      "# Workflow wall time:\n",
      "#   The wall time from the start of the workflow execution to the end as\n",
      "#   reported by the DAGMAN.In case of rescue dag the value is the\n",
      "#   cumulative of all retries.\n",
      "# Cumulative job wall time:\n",
      "#   The sum of the wall time of all jobs as reported by kickstart.\n",
      "#   In case of job retries the value is the cumulative of all retries.\n",
      "#   For workflows having sub workflow jobs (i.e SUBDAG and SUBDAX jobs),\n",
      "#   the wall time value includes jobs from the sub workflows as well.\n",
      "# Cumulative job wall time as seen from submit side:\n",
      "#   The sum of the wall time of all jobs as reported by DAGMan.\n",
      "#   This is similar to the regular cumulative job wall time, but includes\n",
      "#   job management overhead and delays. In case of job retries the value\n",
      "#   is the cumulative of all retries. For workflows having sub workflow\n",
      "#   jobs (i.e SUBDAG and SUBDAX jobs), the wall time value includes jobs\n",
      "#   from the sub workflows as well.\n",
      "# Cumulative job badput wall time:\n",
      "#   The sum of the wall time of all failed jobs as reported by kickstart.\n",
      "#   In case of job retries the value is the cumulative of all retries.\n",
      "#   For workflows having sub workflow jobs (i.e SUBDAG and SUBDAX jobs),\n",
      "#   the wall time value includes jobs from the sub workflows as well.\n",
      "# Cumulative job badput wall time as seen from submit side:\n",
      "#   The sum of the wall time of all failed jobs as reported by DAGMan.\n",
      "#   This is similar to the regular cumulative job badput wall time, but includes\n",
      "#   job management overhead and delays. In case of job retries the value\n",
      "#   is the cumulative of all retries. For workflows having sub workflow\n",
      "#   jobs (i.e SUBDAG and SUBDAX jobs), the wall time value includes jobs\n",
      "#   from the sub workflows as well.\n",
      "------------------------------------------------------------------------------\n",
      "Type           Succeeded Failed  Incomplete  Total     Retries   Total+Retries\n",
      "Tasks          4         0       0           4         0         4\n",
      "Jobs           26        0       0           26        0         26\n",
      "Sub-Workflows  0         0       0           0         0         0\n",
      "------------------------------------------------------------------------------\n",
      "\n",
      "Workflow wall time                                       : 3 mins, 41 secs\n",
      "Cumulative job wall time                                 : 3 mins, 2 secs\n",
      "Cumulative job wall time as seen from submit side        : 3 mins, 8 secs\n",
      "Cumulative job badput wall time                          : 0.0 secs\n",
      "Cumulative job badput wall time as seen from submit side : 0.0 secs\n",
      "\n",
      "# Integrity Metrics\n",
      "# Number of files for which checksums were compared/computed along with total time spent doing it.\n",
      "257 files checksums compared with total duration of 20.65 secs\n",
      "112 files checksums generated with total duration of 1.55 secs\n",
      "\n",
      "# Integrity Errors\n",
      "# Total:\n",
      "#       Total number of integrity errors encountered across all job executions(including retries) of a workflow.\n",
      "# Failures:\n",
      "#       Number of failed jobs where the last job instance had integrity errors.\n",
      "Failures: 0 job failures had integrity errors\n",
      "\n",
      "Summary                       : /home/scitech/shared-data/CatsAndDogs/scitech/pegasus/Cats_and_Dogs/run0027/statistics/summary.txt\n",
      "\n",
      "\n"
     ]
    }
   ],
   "source": [
    "try:\n",
    "     wf.plan(submit=True)\\\n",
    "        .wait()\\\n",
    "        .analyze()\\\n",
    "        .statistics()\n",
    "except PegasusClientError as e:\n",
    "    print(e.output)"
   ]
  },
  {
   "cell_type": "code",
   "execution_count": 139,
   "metadata": {},
   "outputs": [
    {
     "ename": "UnicodeDecodeError",
     "evalue": "'utf-8' codec can't decode byte 0xff in position 0: invalid start byte",
     "output_type": "error",
     "traceback": [
      "\u001b[0;31m---------------------------------------------------------------------------\u001b[0m",
      "\u001b[0;31mUnicodeDecodeError\u001b[0m                        Traceback (most recent call last)",
      "\u001b[0;32m<ipython-input-139-d64a44bde5b2>\u001b[0m in \u001b[0;36m<module>\u001b[0;34m\u001b[0m\n\u001b[1;32m      4\u001b[0m     \u001b[0mcsvreader\u001b[0m \u001b[0;34m=\u001b[0m \u001b[0mcsv\u001b[0m\u001b[0;34m.\u001b[0m\u001b[0mreader\u001b[0m\u001b[0;34m(\u001b[0m\u001b[0mcsvfile\u001b[0m\u001b[0;34m,\u001b[0m \u001b[0mdelimiter\u001b[0m\u001b[0;34m=\u001b[0m\u001b[0;34m\",\"\u001b[0m\u001b[0;34m)\u001b[0m\u001b[0;34m\u001b[0m\u001b[0;34m\u001b[0m\u001b[0m\n\u001b[1;32m      5\u001b[0m \u001b[0;34m\u001b[0m\u001b[0m\n\u001b[0;32m----> 6\u001b[0;31m     \u001b[0;32mfor\u001b[0m \u001b[0mrow\u001b[0m \u001b[0;32min\u001b[0m \u001b[0mcsvreader\u001b[0m\u001b[0;34m:\u001b[0m\u001b[0;34m\u001b[0m\u001b[0;34m\u001b[0m\u001b[0m\n\u001b[0m\u001b[1;32m      7\u001b[0m         \u001b[0mprint\u001b[0m\u001b[0;34m(\u001b[0m\u001b[0;34m\": \"\u001b[0m\u001b[0;34m.\u001b[0m\u001b[0mjoin\u001b[0m\u001b[0;34m(\u001b[0m\u001b[0mrow\u001b[0m\u001b[0;34m)\u001b[0m\u001b[0;34m)\u001b[0m\u001b[0;34m\u001b[0m\u001b[0;34m\u001b[0m\u001b[0m\n",
      "\u001b[0;32m/usr/lib64/python3.6/codecs.py\u001b[0m in \u001b[0;36mdecode\u001b[0;34m(self, input, final)\u001b[0m\n\u001b[1;32m    319\u001b[0m         \u001b[0;31m# decode input (taking the buffer into account)\u001b[0m\u001b[0;34m\u001b[0m\u001b[0;34m\u001b[0m\u001b[0;34m\u001b[0m\u001b[0m\n\u001b[1;32m    320\u001b[0m         \u001b[0mdata\u001b[0m \u001b[0;34m=\u001b[0m \u001b[0mself\u001b[0m\u001b[0;34m.\u001b[0m\u001b[0mbuffer\u001b[0m \u001b[0;34m+\u001b[0m \u001b[0minput\u001b[0m\u001b[0;34m\u001b[0m\u001b[0;34m\u001b[0m\u001b[0m\n\u001b[0;32m--> 321\u001b[0;31m         \u001b[0;34m(\u001b[0m\u001b[0mresult\u001b[0m\u001b[0;34m,\u001b[0m \u001b[0mconsumed\u001b[0m\u001b[0;34m)\u001b[0m \u001b[0;34m=\u001b[0m \u001b[0mself\u001b[0m\u001b[0;34m.\u001b[0m\u001b[0m_buffer_decode\u001b[0m\u001b[0;34m(\u001b[0m\u001b[0mdata\u001b[0m\u001b[0;34m,\u001b[0m \u001b[0mself\u001b[0m\u001b[0;34m.\u001b[0m\u001b[0merrors\u001b[0m\u001b[0;34m,\u001b[0m \u001b[0mfinal\u001b[0m\u001b[0;34m)\u001b[0m\u001b[0;34m\u001b[0m\u001b[0;34m\u001b[0m\u001b[0m\n\u001b[0m\u001b[1;32m    322\u001b[0m         \u001b[0;31m# keep undecoded input until the next call\u001b[0m\u001b[0;34m\u001b[0m\u001b[0;34m\u001b[0m\u001b[0;34m\u001b[0m\u001b[0m\n\u001b[1;32m    323\u001b[0m         \u001b[0mself\u001b[0m\u001b[0;34m.\u001b[0m\u001b[0mbuffer\u001b[0m \u001b[0;34m=\u001b[0m \u001b[0mdata\u001b[0m\u001b[0;34m[\u001b[0m\u001b[0mconsumed\u001b[0m\u001b[0;34m:\u001b[0m\u001b[0;34m]\u001b[0m\u001b[0;34m\u001b[0m\u001b[0;34m\u001b[0m\u001b[0m\n",
      "\u001b[0;31mUnicodeDecodeError\u001b[0m: 'utf-8' codec can't decode byte 0xff in position 0: invalid start byte"
     ]
    }
   ],
   "source": [
    "import csv\n",
    "\n",
    "with open(\"wf-output/checkpoint1.csv\", encoding=\"utf8\") as csvfile:\n",
    "    csvreader = csv.reader(csvfile, delimiter=\",\")\n",
    "\n",
    "    for row in csvreader:\n",
    "        print(\": \".join(row))"
   ]
  },
  {
   "cell_type": "code",
   "execution_count": 140,
   "metadata": {
    "scrolled": true
   },
   "outputs": [
    {
     "ename": "Error",
     "evalue": "line contains NULL byte",
     "output_type": "error",
     "traceback": [
      "\u001b[0;31m---------------------------------------------------------------------------\u001b[0m",
      "\u001b[0;31mError\u001b[0m                                     Traceback (most recent call last)",
      "\u001b[0;32m<ipython-input-140-ad8f42cefed8>\u001b[0m in \u001b[0;36m<module>\u001b[0;34m\u001b[0m\n\u001b[1;32m      1\u001b[0m \u001b[0;32mwith\u001b[0m \u001b[0mopen\u001b[0m\u001b[0;34m(\u001b[0m\u001b[0;34m\"wf-output/checkpoint1.csv\"\u001b[0m\u001b[0;34m,\u001b[0m \u001b[0;34m'r'\u001b[0m\u001b[0;34m,\u001b[0m \u001b[0mencoding\u001b[0m\u001b[0;34m=\u001b[0m\u001b[0;34m'ISO-8859-1'\u001b[0m\u001b[0;34m,\u001b[0m \u001b[0mnewline\u001b[0m\u001b[0;34m=\u001b[0m\u001b[0;34m''\u001b[0m\u001b[0;34m)\u001b[0m \u001b[0;32mas\u001b[0m \u001b[0mcsvfile\u001b[0m\u001b[0;34m:\u001b[0m\u001b[0;34m\u001b[0m\u001b[0;34m\u001b[0m\u001b[0m\n\u001b[1;32m      2\u001b[0m     \u001b[0mcsvreader\u001b[0m \u001b[0;34m=\u001b[0m \u001b[0mcsv\u001b[0m\u001b[0;34m.\u001b[0m\u001b[0mreader\u001b[0m\u001b[0;34m(\u001b[0m\u001b[0mcsvfile\u001b[0m\u001b[0;34m,\u001b[0m \u001b[0mdelimiter\u001b[0m\u001b[0;34m=\u001b[0m\u001b[0;34m\",\"\u001b[0m\u001b[0;34m)\u001b[0m\u001b[0;34m\u001b[0m\u001b[0;34m\u001b[0m\u001b[0m\n\u001b[0;32m----> 3\u001b[0;31m     \u001b[0;32mfor\u001b[0m \u001b[0mrow\u001b[0m \u001b[0;32min\u001b[0m \u001b[0mcsvreader\u001b[0m\u001b[0;34m:\u001b[0m\u001b[0;34m\u001b[0m\u001b[0;34m\u001b[0m\u001b[0m\n\u001b[0m\u001b[1;32m      4\u001b[0m         \u001b[0mprint\u001b[0m\u001b[0;34m(\u001b[0m\u001b[0;34m', '\u001b[0m\u001b[0;34m.\u001b[0m\u001b[0mjoin\u001b[0m\u001b[0;34m(\u001b[0m\u001b[0mrow\u001b[0m\u001b[0;34m)\u001b[0m\u001b[0;34m)\u001b[0m\u001b[0;34m\u001b[0m\u001b[0;34m\u001b[0m\u001b[0m\n",
      "\u001b[0;31mError\u001b[0m: line contains NULL byte"
     ]
    }
   ],
   "source": [
    "with open(\"wf-output/checkpoint1.csv\", 'r', encoding='ISO-8859-1', newline='') as csvfile:\n",
    "    csvreader = csv.reader(csvfile, delimiter=\",\")\n",
    "    for row in csvreader:\n",
    "        print(', '.join(row))"
   ]
  },
  {
   "cell_type": "code",
   "execution_count": null,
   "metadata": {},
   "outputs": [],
   "source": []
  },
  {
   "cell_type": "code",
   "execution_count": 126,
   "metadata": {},
   "outputs": [],
   "source": [
    "import codecs\n",
    "csvReader = csv.reader(codecs.open(\"wf-output/checkpoint.csv\", 'rU', 'ISO-8859-1'))"
   ]
  },
  {
   "cell_type": "code",
   "execution_count": 127,
   "metadata": {},
   "outputs": [
    {
     "ename": "Error",
     "evalue": "line contains NULL byte",
     "output_type": "error",
     "traceback": [
      "\u001b[0;31m---------------------------------------------------------------------------\u001b[0m",
      "\u001b[0;31mError\u001b[0m                                     Traceback (most recent call last)",
      "\u001b[0;32m<ipython-input-127-07459f791c32>\u001b[0m in \u001b[0;36m<module>\u001b[0;34m\u001b[0m\n\u001b[0;32m----> 1\u001b[0;31m \u001b[0;32mfor\u001b[0m \u001b[0mrow\u001b[0m \u001b[0;32min\u001b[0m \u001b[0mcsvReader\u001b[0m\u001b[0;34m:\u001b[0m\u001b[0;34m\u001b[0m\u001b[0;34m\u001b[0m\u001b[0m\n\u001b[0m\u001b[1;32m      2\u001b[0m         \u001b[0mprint\u001b[0m\u001b[0;34m(\u001b[0m\u001b[0;34m', '\u001b[0m\u001b[0;34m.\u001b[0m\u001b[0mjoin\u001b[0m\u001b[0;34m(\u001b[0m\u001b[0mrow\u001b[0m\u001b[0;34m)\u001b[0m\u001b[0;34m)\u001b[0m\u001b[0;34m\u001b[0m\u001b[0;34m\u001b[0m\u001b[0m\n",
      "\u001b[0;31mError\u001b[0m: line contains NULL byte"
     ]
    }
   ],
   "source": [
    "for row in csvReader:\n",
    "        print(', '.join(row))"
   ]
  },
  {
   "cell_type": "code",
   "execution_count": null,
   "metadata": {},
   "outputs": [],
   "source": []
  }
 ],
 "metadata": {
  "kernelspec": {
   "display_name": "Python 3",
   "language": "python",
   "name": "python3"
  },
  "language_info": {
   "codemirror_mode": {
    "name": "ipython",
    "version": 3
   },
   "file_extension": ".py",
   "mimetype": "text/x-python",
   "name": "python",
   "nbconvert_exporter": "python",
   "pygments_lexer": "ipython3",
   "version": "3.6.8"
  }
 },
 "nbformat": 4,
 "nbformat_minor": 4
}
