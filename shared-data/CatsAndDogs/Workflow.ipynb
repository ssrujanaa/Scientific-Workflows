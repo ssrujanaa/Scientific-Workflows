{
 "cells": [
  {
   "cell_type": "code",
   "execution_count": null,
   "metadata": {},
   "outputs": [],
   "source": [
    "#!/usr/bin/env python3\n",
    "import os\n",
    "import logging\n",
    "from pathlib import Path\n",
    "import requests \n",
    "from zipfile import ZipFile\n",
    "\n",
    "logging.basicConfig(level=logging.DEBUG)\n",
    "\n",
    "#Import Pegasus API\n",
    "from Pegasus.api import *\n",
    "\n",
    "#Downloading dataset\n",
    "zipurl = 'https://download.microsoft.com/download/3/E/1/3E1C3F21-ECDB-4869-8368-6DEBA77B919F/kagglecatsanddogs_3367a.zip'    \n",
    "r = requests.get(zipurl, stream = True) \n",
    "  \n",
    "with open(\"dataset.zip\",\"wb\") as pdf: \n",
    "    for chunk in r.iter_content(chunk_size=1024): \n",
    "         if chunk: \n",
    "            pdf.write(chunk)\n",
    "            \n",
    "# Extract all the contents of zip file in current directory            \n",
    "with ZipFile('dataset.zip', 'r') as zipObj:\n",
    "    zipObj.extractall()"
   ]
  },
  {
   "cell_type": "code",
   "execution_count": 8,
   "metadata": {},
   "outputs": [
    {
     "data": {
      "text/plain": [
       "<Pegasus.api.workflow.Workflow at 0x7fb4b2346f28>"
      ]
     },
     "execution_count": 8,
     "metadata": {},
     "output_type": "execute_result"
    }
   ],
   "source": [
    "#!/usr/bin/env python3\n",
    "import os\n",
    "import logging\n",
    "from pathlib import Path\n",
    "import requests \n",
    "from glob import glob\n",
    "from zipfile import ZipFile\n",
    "\n",
    "logging.basicConfig(level=logging.DEBUG)\n",
    "\n",
    "#Import Pegasus API\n",
    "from Pegasus.api import *\n",
    "\n",
    "input_files = glob('python/PetImages/*/*.jpg')\n",
    "all_files=[]\n",
    "\n",
    "rc = ReplicaCatalog()\n",
    "for file in input_files:\n",
    "    all_files.append(File(file))\n",
    "    rc.add_replica(\"local\", File(file), str(Path(\".\").resolve() / file))\n",
    "rc.write()\n",
    "\n",
    "#Transformation\n",
    "pre_process_resize = Transformation( \"Preprocessing_resize.py\",\n",
    "        site = \"local\",\n",
    "        pfn = str(Path(\".\").resolve() / \"Preprocessing_resize.py\"),\n",
    "        is_stageable=True)\n",
    "                                    \n",
    "tc = TransformationCatalog()\\\n",
    "    .add_transformations(pre_process_resize)\\\n",
    "    .write()\n",
    "\n",
    "#Workflow\n",
    "wf = Workflow(\"Cats_and_Dogs\", infer_dependencies=True)\n",
    "\n",
    "output_file1 = File('dogs_vs_cats_photos.npy')\n",
    "outputfile2 = File('dogs_vs_cats_labels.npy')                                   \n",
    "\n",
    "job_preprocess1 = Job(pre_process_resize)\\\n",
    "                    .add_inputs(*all_files)\\\n",
    "                    .add_outputs(output_file1,outputfile2)                         \n",
    "\n",
    "wf.add_jobs(job_preprocess1)                                    "
   ]
  },
  {
   "cell_type": "code",
   "execution_count": null,
   "metadata": {},
   "outputs": [],
   "source": []
  },
  {
   "cell_type": "code",
   "execution_count": 9,
   "metadata": {},
   "outputs": [
    {
     "name": "stderr",
     "output_type": "stream",
     "text": [
      "Plan:\n",
      "[main] WARN  schema.JsonMetaSchema  - Unknown keyword $defs - you should define your own Meta Schema. If the keyword is irrelevant for validation, just use a NonValidationKeyword\n",
      "[main] WARN  schema.JsonMetaSchema  - Unknown keyword additionalItems - you should define your own Meta Schema. If the keyword is irrelevant for validation, just use a NonValidationKeyword\n",
      "[main] WARN  schema.JsonMetaSchema  - Unknown keyword examples - you should define your own Meta Schema. If the keyword is irrelevant for validation, just use a NonValidationKeyword\n",
      "2020.07.24 14:38:57.589 UTC:    \n",
      "2020.07.24 14:38:57.594 UTC:   ----------------------------------------------------------------------- \n",
      "2020.07.24 14:38:57.599 UTC:   File for submitting this DAG to HTCondor           : Cats_and_Dogs-0.dag.condor.sub \n",
      "2020.07.24 14:38:57.605 UTC:   Log of DAGMan debugging messages                 : Cats_and_Dogs-0.dag.dagman.out \n",
      "2020.07.24 14:38:57.610 UTC:   Log of HTCondor library output                     : Cats_and_Dogs-0.dag.lib.out \n",
      "2020.07.24 14:38:57.616 UTC:   Log of HTCondor library error messages             : Cats_and_Dogs-0.dag.lib.err \n",
      "2020.07.24 14:38:57.621 UTC:   Log of the life of condor_dagman itself          : Cats_and_Dogs-0.dag.dagman.log \n",
      "2020.07.24 14:38:57.626 UTC:    \n",
      "2020.07.24 14:38:57.632 UTC:   -no_submit given, not submitting DAG to HTCondor.  You can do this with: \n",
      "2020.07.24 14:38:57.642 UTC:   ----------------------------------------------------------------------- \n",
      "2020.07.24 14:38:58.677 UTC:   Your database is compatible with Pegasus version: 5.0.0dev \n",
      "2020.07.24 14:39:00.131 UTC:   Created Pegasus database in: sqlite:////home/scitech/shared-data/CatsAndDogs/scitech/pegasus/Cats_and_Dogs/run0007/Cats_and_Dogs-0.replicas.db \n",
      "2020.07.24 14:39:00.137 UTC:   Your database is compatible with Pegasus version: 5.0.0dev \n",
      "2020.07.24 14:39:00.195 UTC:   Output replica catalog set to jdbc:sqlite:/home/scitech/shared-data/CatsAndDogs/scitech/pegasus/Cats_and_Dogs/run0007/Cats_and_Dogs-0.replicas.db \n",
      "2020.07.24 14:39:00.477 UTC:   Submitting to condor Cats_and_Dogs-0.dag.condor.sub \n",
      "2020.07.24 14:39:00.521 UTC:    \n",
      "2020.07.24 14:39:00.527 UTC:   Your workflow has been started and is running in the base directory: \n",
      "2020.07.24 14:39:00.532 UTC:    \n",
      "2020.07.24 14:39:00.538 UTC:   /home/scitech/shared-data/CatsAndDogs/scitech/pegasus/Cats_and_Dogs/run0007 \n",
      "2020.07.24 14:39:00.543 UTC:    \n",
      "2020.07.24 14:39:00.549 UTC:   *** To monitor the workflow you can run *** \n",
      "2020.07.24 14:39:00.554 UTC:    \n",
      "2020.07.24 14:39:00.560 UTC:   pegasus-status -l /home/scitech/shared-data/CatsAndDogs/scitech/pegasus/Cats_and_Dogs/run0007 \n",
      "2020.07.24 14:39:00.565 UTC:    \n",
      "2020.07.24 14:39:00.570 UTC:   *** To remove your workflow run *** \n",
      "2020.07.24 14:39:00.576 UTC:    \n",
      "2020.07.24 14:39:00.581 UTC:   pegasus-remove /home/scitech/shared-data/CatsAndDogs/scitech/pegasus/Cats_and_Dogs/run0007 \n",
      "2020.07.24 14:39:01.316 UTC:   Time taken to execute is 5.207 seconds \n",
      " \n",
      "\n"
     ]
    }
   ],
   "source": [
    "try:\n",
    "    wf.plan(\n",
    "        sites=[\"condorpool\"],\n",
    "        submit=True,\n",
    "        staging_sites={\"condorpool\":\"stage\"}\n",
    "    )\n",
    "except PegasusClientError as e:\n",
    "    print(e.output)"
   ]
  },
  {
   "cell_type": "code",
   "execution_count": null,
   "metadata": {},
   "outputs": [],
   "source": []
  },
  {
   "cell_type": "code",
   "execution_count": null,
   "metadata": {},
   "outputs": [],
   "source": []
  }
 ],
 "metadata": {
  "kernelspec": {
   "display_name": "Python 3",
   "language": "python",
   "name": "python3"
  },
  "language_info": {
   "codemirror_mode": {
    "name": "ipython",
    "version": 3
   },
   "file_extension": ".py",
   "mimetype": "text/x-python",
   "name": "python",
   "nbconvert_exporter": "python",
   "pygments_lexer": "ipython3",
   "version": "3.6.8"
  }
 },
 "nbformat": 4,
 "nbformat_minor": 4
}
