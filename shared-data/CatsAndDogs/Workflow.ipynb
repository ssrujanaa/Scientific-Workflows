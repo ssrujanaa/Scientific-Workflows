{
 "cells": [
  {
   "cell_type": "code",
   "execution_count": 1,
   "metadata": {},
   "outputs": [],
   "source": [
    "# #!/usr/bin/env python3\n",
    "# import os\n",
    "# import logging\n",
    "# from pathlib import Path\n",
    "# import requests from optkeras.optkeras import OptKeras\n",
    "# import optkeras\n",
    "# import pickle\n",
    "# from os import listdir\n",
    "# from numpy import asarray\n",
    "# from numpy import save\n",
    "# from keras.preprocessing.image import load_img\n",
    "# from keras.preprocessing.image import img_to_array\n",
    "# import numpy as np\n",
    "# from keras import layers\n",
    "# from keras.layers import Input,Dense,BatchNormalization,Flatten,Dropout,GlobalAveragePooling2D\n",
    "# from keras.models import Model, load_model\n",
    "# from keras.utils import layer_utils\n",
    "# from keras.optimizers import Adam\n",
    "# from keras.callbacks import ModelCheckpoint\n",
    "# from keras.callbacks import EarlyStopping\n",
    "# import keras.backend as K\n",
    "# from keras.applications.vgg16 import VGG16\n",
    "# from keras.models import Model,load_model\n",
    "# from keras.optimizers import RMSprop\n",
    "\n",
    "# import optuna\n",
    "# from zipfile import ZipFile\n",
    "\n",
    "# logging.basicConfig(level=logging.DEBUG)\n",
    "\n",
    "# #Import Pegasus API\n",
    "# from Pegasus.api import *\n",
    "\n",
    "# #Downloading dataset\n",
    "# zipurl = 'https://download.microsoft.com/download/3/E/1/3E1C3F21-ECDB-4869-8368-6DEBA77B919F/kagglecatsanddogs_3367a.zip'    \n",
    "# r = requests.get(zipurl, stream = True) \n",
    "  \n",
    "# with open(\"dataset.zip\",\"wb\") as pdf: \n",
    "#     for chunk in r.iter_content(chunk_size=1024): \n",
    "#          if chunk: \n",
    "#             pdf.write(chunk)\n",
    "            \n",
    "# # Extract all the contents of zip file in current directory            \n",
    "# with ZipFile('dataset.zip', 'r') as zipObj:\n",
    "#     zipObj.extractall()"
   ]
  },
  {
   "cell_type": "code",
   "execution_count": 2,
   "metadata": {},
   "outputs": [
    {
     "name": "stderr",
     "output_type": "stream",
     "text": [
      "Using TensorFlow backend.\n",
      "/usr/local/lib/python3.6/site-packages/tensorflow/python/framework/dtypes.py:526: FutureWarning: Passing (type, 1) or '1type' as a synonym of type is deprecated; in a future version of numpy, it will be understood as (type, (1,)) / '(1,)type'.\n",
      "  _np_qint8 = np.dtype([(\"qint8\", np.int8, 1)])\n",
      "/usr/local/lib/python3.6/site-packages/tensorflow/python/framework/dtypes.py:527: FutureWarning: Passing (type, 1) or '1type' as a synonym of type is deprecated; in a future version of numpy, it will be understood as (type, (1,)) / '(1,)type'.\n",
      "  _np_quint8 = np.dtype([(\"quint8\", np.uint8, 1)])\n",
      "/usr/local/lib/python3.6/site-packages/tensorflow/python/framework/dtypes.py:528: FutureWarning: Passing (type, 1) or '1type' as a synonym of type is deprecated; in a future version of numpy, it will be understood as (type, (1,)) / '(1,)type'.\n",
      "  _np_qint16 = np.dtype([(\"qint16\", np.int16, 1)])\n",
      "/usr/local/lib/python3.6/site-packages/tensorflow/python/framework/dtypes.py:529: FutureWarning: Passing (type, 1) or '1type' as a synonym of type is deprecated; in a future version of numpy, it will be understood as (type, (1,)) / '(1,)type'.\n",
      "  _np_quint16 = np.dtype([(\"quint16\", np.uint16, 1)])\n",
      "/usr/local/lib/python3.6/site-packages/tensorflow/python/framework/dtypes.py:530: FutureWarning: Passing (type, 1) or '1type' as a synonym of type is deprecated; in a future version of numpy, it will be understood as (type, (1,)) / '(1,)type'.\n",
      "  _np_qint32 = np.dtype([(\"qint32\", np.int32, 1)])\n",
      "/usr/local/lib/python3.6/site-packages/tensorflow/python/framework/dtypes.py:535: FutureWarning: Passing (type, 1) or '1type' as a synonym of type is deprecated; in a future version of numpy, it will be understood as (type, (1,)) / '(1,)type'.\n",
      "  np_resource = np.dtype([(\"resource\", np.ubyte, 1)])\n",
      "/usr/local/lib/python3.6/site-packages/optuna/structs.py:21: FutureWarning: `structs` is deprecated. Classes have moved to the following modules. `structs.StudyDirection`->`study.StudyDirection`, `structs.StudySummary`->`study.StudySummary`, `structs.FrozenTrial`->`trial.FrozenTrial`, `structs.TrialState`->`trial.TrialState`, `structs.TrialPruned`->`exceptions.TrialPruned`.\n",
      "  warnings.warn(_message, FutureWarning)\n"
     ]
    }
   ],
   "source": [
    "from optkeras.optkeras import OptKeras\n",
    "import optkeras\n",
    "import pickle\n",
    "from os import listdir\n",
    "from numpy import asarray\n",
    "from numpy import save\n",
    "from keras.preprocessing.image import load_img\n",
    "from keras.preprocessing.image import img_to_array\n",
    "import numpy as np\n",
    "from keras import layers\n",
    "from keras.layers import Input,Dense,BatchNormalization,Flatten,Dropout,GlobalAveragePooling2D\n",
    "from keras.models import Model, load_model\n",
    "from keras.utils import layer_utils\n",
    "from keras.optimizers import Adam\n",
    "from keras.callbacks import ModelCheckpoint\n",
    "from keras.callbacks import EarlyStopping\n",
    "import keras.backend as K\n",
    "from keras.applications.vgg16 import VGG16\n",
    "from keras.models import Model,load_model\n",
    "from keras.optimizers import RMSprop\n",
    "\n",
    "import optuna"
   ]
  },
  {
   "cell_type": "code",
   "execution_count": 3,
   "metadata": {},
   "outputs": [],
   "source": [
    "# !sudo pip3 install --upgrade pip"
   ]
  },
  {
   "cell_type": "code",
   "execution_count": 4,
   "metadata": {
    "scrolled": true
   },
   "outputs": [],
   "source": [
    "# !sudo pip3 install --upgrade pip keras==2.1.5 tensorflow==1.13.1 numpy pandas pillow sklearn optuna scikit-image  optkeras"
   ]
  },
  {
   "cell_type": "code",
   "execution_count": null,
   "metadata": {
    "scrolled": true
   },
   "outputs": [],
   "source": []
  },
  {
   "cell_type": "code",
   "execution_count": null,
   "metadata": {
    "scrolled": true
   },
   "outputs": [],
   "source": []
  },
  {
   "cell_type": "code",
   "execution_count": null,
   "metadata": {},
   "outputs": [],
   "source": []
  },
  {
   "cell_type": "code",
   "execution_count": 5,
   "metadata": {},
   "outputs": [],
   "source": [
    "\n",
    "import os\n",
    "import signal\n",
    "import sys\n",
    "import time\n",
    "import traceback\n",
    "\n",
    "from pathlib import Path"
   ]
  },
  {
   "cell_type": "code",
   "execution_count": 8,
   "metadata": {},
   "outputs": [
    {
     "data": {
      "text/plain": [
       "<Pegasus.api.workflow.Workflow at 0x7f4e28e9b358>"
      ]
     },
     "execution_count": 8,
     "metadata": {},
     "output_type": "execute_result"
    }
   ],
   "source": [
    "#!/usr/bin/env python3\n",
    "import os\n",
    "import logging\n",
    "from pathlib import Path\n",
    "import requests \n",
    "from glob import glob\n",
    "from zipfile import ZipFile\n",
    "\n",
    "logging.basicConfig(level=logging.DEBUG)\n",
    "\n",
    "#Import Pegasus API\n",
    "from Pegasus.api import *\n",
    "\n",
    "#Properties\n",
    "props = Properties()\n",
    "props[\"pegasus.data.configuration\"] = \"condorio\"\n",
    "props[\"dagman.retry\"] = \"100\"\n",
    "props.write()\n",
    "\n",
    "#Replica Catalog\n",
    "rc = ReplicaCatalog()\n",
    "input_files = glob('*.jpg')\n",
    "input_files.sort()\n",
    "in_files=[]\n",
    "\n",
    "import os\n",
    "import pickle\n",
    "        \n",
    "checkpoint_file = \"checkpoint_vgg.pkl\"\n",
    "if not os.path.isfile(checkpoint_file):\n",
    "    with open(checkpoint_file,'wb') as file:\n",
    "        pickle.dump(\"0\", file)\n",
    "\n",
    "\n",
    "for file in input_files:\n",
    "    in_files.append(File(file))\n",
    "    rc.add_replica(\"local\", File(file), str(Path(\".\").resolve() / file))  \n",
    "rc.add_replica(\"local\", File(checkpoint_file), str(Path(\".\").resolve() / file)) \n",
    "rc.write()\n",
    "\n",
    "\n",
    "#Transformation\n",
    "pre_process_resize = Transformation( \"preprocess1.py\",\n",
    "        site = \"local\",\n",
    "        pfn = \"/home/scitech/shared-data/CatsAndDogs/preprocess1.py\",\n",
    "        is_stageable=True)\n",
    "\n",
    "pre_process_augment = Transformation( \"Augmentation.py\",\n",
    "        site = \"local\",\n",
    "        pfn = \"/home/scitech/shared-data/CatsAndDogs/Augmentation.py\",\n",
    "        is_stageable=True)\n",
    "\n",
    "data_split  = Transformation( \"Data_Split.py\",\n",
    "        site = \"local\",\n",
    "        pfn = \"/home/scitech/shared-data/CatsAndDogs/Data_Split.py\",\n",
    "        is_stageable=True)\n",
    "\n",
    "vgg_model  = Transformation( \"VGG_model.py\",\n",
    "        site = \"local\",\n",
    "        pfn = \"/home/scitech/shared-data/CatsAndDogs/VGG_model.py\",\n",
    "        is_stageable=True)\n",
    "\n",
    "hpo =  Transformation( \"hpo_checkpointing.py\",\n",
    "        site = \"local\",\n",
    "        pfn = \"/home/scitech/shared-data/CatsAndDogs/hpo_checkpointing.py\",\n",
    "        is_stageable=True)\n",
    "                    \n",
    "tc = TransformationCatalog()\\\n",
    "    .add_transformations(pre_process_resize,pre_process_augment,data_split,vgg_model,hpo)\\\n",
    "    .write()\n",
    "\n",
    "#Workflow\n",
    "wf = Workflow(\"Cats_and_Dogs\", infer_dependencies=True)\n",
    "\n",
    "\n",
    "resized_images = File('resized_images.txt')\n",
    "all_files = [File(\"resized_{}\".format(f.lfn)) for f in in_files]\n",
    "labels = File('labels.txt')\n",
    "\n",
    "job_preprocess1 = Job(pre_process_resize)\\\n",
    "                    .add_inputs(*in_files)\\\n",
    "                    .add_outputs(*all_files,resized_images,labels) \n",
    "\n",
    "aug_images_txt = File('augmentation.txt')\n",
    "aug_labels_txt = File('aug_labels.txt')\n",
    "augmented_files = []\n",
    "for f in all_files:\n",
    "    augmented_files.extend([File(str(f).replace(\"{}\".format(os.path.splitext(str(f))[0]), \"Aug_{}_{}\".format(os.path.splitext(str(f))[0],i))) for i in range(3)])\n",
    "\n",
    "    \n",
    "job_preprocess2 = Job(pre_process_augment)\\\n",
    "                    .add_inputs(*all_files,labels)\\\n",
    "                    .add_outputs(aug_images_txt,aug_labels_txt,*augmented_files)\n",
    "\n",
    "training_data = File('training.pkl')\n",
    "testing_data = File('testing.pkl')\n",
    "val_data = File('validation.pkl')\n",
    "\n",
    "job_data_split = Job(data_split)\\\n",
    "                    .add_inputs(*augmented_files,labels)\\\n",
    "                    .add_outputs(training_data,testing_data,val_data)\n",
    "\n",
    "model = File('model.h5')\n",
    "\n",
    "job_vgg_model = Job(vgg_model)\\\n",
    "                    .add_inputs(*augmented_files,training_data,testing_data,val_data)\\\n",
    "                    .add_outputs(model)\n",
    "\n",
    "model1 = File('model_hpo.h5')\n",
    "optuna_csv = File(\"Optuna_log_file.csv\")\n",
    "\n",
    "\n",
    "job_hpo = Job(hpo)\\\n",
    "                    .add_checkpoint(File(checkpoint_file), stage_out=True)\\\n",
    "                    .add_inputs(model,*augmented_files,training_data,testing_data,val_data)\\\n",
    "                    .add_outputs(model1)\\\n",
    "                    .add_profiles(Namespace.PEGASUS, key=\"maxwalltime\", value=5)\n",
    "\n",
    "\n",
    "wf.add_jobs(job_preprocess1,job_preprocess2,job_data_split,job_vgg_model,job_hpo)                                    "
   ]
  },
  {
   "cell_type": "code",
   "execution_count": null,
   "metadata": {},
   "outputs": [],
   "source": []
  },
  {
   "cell_type": "code",
   "execution_count": null,
   "metadata": {},
   "outputs": [],
   "source": []
  },
  {
   "cell_type": "code",
   "execution_count": null,
   "metadata": {},
   "outputs": [],
   "source": []
  },
  {
   "cell_type": "code",
   "execution_count": null,
   "metadata": {},
   "outputs": [],
   "source": []
  },
  {
   "cell_type": "code",
   "execution_count": null,
   "metadata": {
    "scrolled": true
   },
   "outputs": [
    {
     "name": "stderr",
     "output_type": "stream",
     "text": [
      "\n",
      "################\n",
      "# pegasus-plan #\n",
      "################\n",
      "[main] WARN  schema.JsonMetaSchema  - Unknown keyword $defs - you should define your own Meta Schema. If the keyword is irrelevant for validation, just use a NonValidationKeyword\n",
      "[main] WARN  schema.JsonMetaSchema  - Unknown keyword additionalItems - you should define your own Meta Schema. If the keyword is irrelevant for validation, just use a NonValidationKeyword\n",
      "[main] WARN  schema.JsonMetaSchema  - Unknown keyword examples - you should define your own Meta Schema. If the keyword is irrelevant for validation, just use a NonValidationKeyword\n",
      "2020.09.10 20:33:15.923 UTC:\n",
      "2020.09.10 20:33:15.928 UTC:   -----------------------------------------------------------------------\n",
      "2020.09.10 20:33:15.937 UTC:   File for submitting this DAG to HTCondor           : Cats_and_Dogs-0.dag.condor.sub\n",
      "2020.09.10 20:33:15.942 UTC:   Log of DAGMan debugging messages                 : Cats_and_Dogs-0.dag.dagman.out\n",
      "2020.09.10 20:33:15.960 UTC:   Log of HTCondor library output                     : Cats_and_Dogs-0.dag.lib.out\n",
      "2020.09.10 20:33:15.969 UTC:   Log of HTCondor library error messages             : Cats_and_Dogs-0.dag.lib.err\n",
      "2020.09.10 20:33:15.976 UTC:   Log of the life of condor_dagman itself          : Cats_and_Dogs-0.dag.dagman.log\n",
      "2020.09.10 20:33:15.982 UTC:\n",
      "2020.09.10 20:33:15.988 UTC:   -no_submit given, not submitting DAG to HTCondor.  You can do this with:\n",
      "2020.09.10 20:33:16.000 UTC:   -----------------------------------------------------------------------\n",
      "2020.09.10 20:33:17.556 UTC:   Your database is compatible with Pegasus version: 5.0.0dev\n",
      "2020.09.10 20:33:19.529 UTC:   Created Pegasus database in: sqlite:////home/scitech/shared-data/CatsAndDogs/scitech/pegasus/Cats_and_Dogs/run0004/Cats_and_Dogs-0.replicas.db\n",
      "2020.09.10 20:33:19.535 UTC:   Your database is compatible with Pegasus version: 5.0.0dev\n",
      "2020.09.10 20:33:19.606 UTC:   Output replica catalog set to jdbc:sqlite:/home/scitech/shared-data/CatsAndDogs/scitech/pegasus/Cats_and_Dogs/run0004/Cats_and_Dogs-0.replicas.db\n",
      "2020.09.10 20:33:19.988 UTC:   Submitting to condor Cats_and_Dogs-0.dag.condor.sub\n",
      "2020.09.10 20:33:20.021 UTC:\n",
      "2020.09.10 20:33:20.027 UTC:   Your workflow has been started and is running in the base directory:\n",
      "2020.09.10 20:33:20.033 UTC:\n",
      "2020.09.10 20:33:20.039 UTC:   /home/scitech/shared-data/CatsAndDogs/scitech/pegasus/Cats_and_Dogs/run0004\n",
      "2020.09.10 20:33:20.044 UTC:\n",
      "2020.09.10 20:33:20.050 UTC:   *** To monitor the workflow you can run ***\n",
      "2020.09.10 20:33:20.057 UTC:\n",
      "2020.09.10 20:33:20.062 UTC:   pegasus-status -l /home/scitech/shared-data/CatsAndDogs/scitech/pegasus/Cats_and_Dogs/run0004\n",
      "2020.09.10 20:33:20.069 UTC:\n",
      "2020.09.10 20:33:20.074 UTC:   *** To remove your workflow run ***\n",
      "2020.09.10 20:33:20.080 UTC:\n",
      "2020.09.10 20:33:20.085 UTC:   pegasus-remove /home/scitech/shared-data/CatsAndDogs/scitech/pegasus/Cats_and_Dogs/run0004\n",
      "2020.09.10 20:33:20.898 UTC:   Time taken to execute is 9.788 seconds\n",
      "\n"
     ]
    },
    {
     "name": "stdout",
     "output_type": "stream",
     "text": [
      "[--------------------------------------------------]   0.0% ..--------------------------------------------------]   0.0% ..Running (Completed: 0, Queued: 0, Running: 0, Failed: 0)--------------------------------------------------]   0.0% ..Running (Completed: 0, Queued: 0, Running: 1, Failed: 0)--------------------------------------------------]   0.0% ..Running (Completed: 0, Queued: 0, Running: 0, Failed: 0)##------------------------------------------------]   3.3% ..Running (Completed: 1, Queued: 7, Running: 0, Failed: 0)##------------------------------------------------]   3.3% ..Running (Completed: 1, Queued: 0, Running: 1, Failed: 0)############--------------------------------------]  23.3% ..Running (Completed: 7, Queued: 0, Running: 1, Failed: 0)############--------------------------------------]  23.3% ..Running (Completed: 7, Queued: 0, Running: 1, Failed: 0)############--------------------------------------]  23.3% ..Running (Completed: 7, Queued: 0, Running: 1, Failed: 0)############--------------------------------------]  23.3% ..Running (Completed: 7, Queued: 0, Running: 1, Failed: 0)############--------------------------------------]  23.3% ..Running (Completed: 7, Queued: 0, Running: 1, Failed: 0)############--------------------------------------]  23.3% ..Running (Completed: 7, Queued: 0, Running: 1, Failed: 0)############--------------------------------------]  23.3% ..Running (Completed: 7, Queued: 0, Running: 1, Failed: 0)############--------------------------------------]  23.3% ..Running (Completed: 7, Queued: 0, Running: 1, Failed: 0)############--------------------------------------]  23.3% ..Running (Completed: 7, Queued: 0, Running: 1, Failed: 0)############--------------------------------------]  23.3% ..Running (Completed: 7, Queued: 0, Running: 1, Failed: 0)############--------------------------------------]  23.3% ..Running (Completed: 7, Queued: 0, Running: 1, Failed: 0)############--------------------------------------]  23.3% ..Running (Completed: 7, Queued: 0, Running: 1, Failed: 0)############--------------------------------------]  23.3% ..Running (Completed: 7, Queued: 0, Running: 1, Failed: 0)############--------------------------------------]  23.3% ..Running (Completed: 7, Queued: 0, Running: 1, Failed: 0)############--------------------------------------]  23.3% ..Running (Completed: 7, Queued: 0, Running: 0, Failed: 0)#############-------------------------------------]  26.7% ..Running (Completed: 8, Queued: 0, Running: 1, Failed: 0)#############-------------------------------------]  26.7% ..Running (Completed: 8, Queued: 0, Running: 1, Failed: 0)#############-------------------------------------]  26.7% ..Running (Completed: 8, Queued: 0, Running: 1, Failed: 0)#############-------------------------------------]  26.7% ..Running (Completed: 8, Queued: 0, Running: 1, Failed: 0)#############-------------------------------------]  26.7% ..Running (Completed: 8, Queued: 0, Running: 1, Failed: 0)###############-----------------------------------]  30.0% ..Running (Completed: 9, Queued: 3, Running: 0, Failed: 0)###############-----------------------------------]  30.0% ..Running (Completed: 9, Queued: 0, Running: 3, Failed: 0)###############-----------------------------------]  30.0% ..Running (Completed: 9, Queued: 0, Running: 3, Failed: 0)###############-----------------------------------]  30.0% ..Running (Completed: 9, Queued: 0, Running: 3, Failed: 0)###############-----------------------------------]  30.0% ..Running (Completed: 9, Queued: 0, Running: 2, Failed: 0)#################---------------------------------]  33.3% ..Running (Completed: 10, Queued: 0, Running: 2, Failed: 0)#################---------------------------------]  33.3% ..Running (Completed: 10, Queued: 0, Running: 2, Failed: 0)#################---------------------------------]  33.3% ..Running (Completed: 10, Queued: 0, Running: 2, Failed: 0)#################---------------------------------]  33.3% ..Running (Completed: 10, Queued: 0, Running: 2, Failed: 0)#################---------------------------------]  33.3% ..Running (Completed: 10, Queued: 0, Running: 2, Failed: 0)#################---------------------------------]  33.3% ..Running (Completed: 10, Queued: 0, Running: 2, Failed: 0)#################---------------------------------]  33.3% ..Running (Completed: 10, Queued: 0, Running: 1, Failed: 0)#################---------------------------------]  33.3% ..Running (Completed: 10, Queued: 0, Running: 1, Failed: 0)##################--------------------------------]  36.7% ..Running (Completed: 11, Queued: 2, Running: 1, Failed: 0)##################--------------------------------]  36.7% ..Running (Completed: 11, Queued: 0, Running: 3, Failed: 0)##################--------------------------------]  36.7% ..Running (Completed: 11, Queued: 0, Running: 2, Failed: 0)####################------------------------------]  40.0% ..Running (Completed: 12, Queued: 2, Running: 2, Failed: 0)####################------------------------------]  40.0% ..Running (Completed: 12, Queued: 0, Running: 4, Failed: 0)####################------------------------------]  40.0% ..Running (Completed: 12, Queued: 0, Running: 4, Failed: 0)####################------------------------------]  40.0% ..Running (Completed: 12, Queued: 0, Running: 4, Failed: 0)####################------------------------------]  40.0% ..Running (Completed: 12, Queued: 0, Running: 4, Failed: 0)#######################---------------------------]  46.7% ..Running (Completed: 14, Queued: 0, Running: 2, Failed: 0)#######################---------------------------]  46.7% ..Running (Completed: 14, Queued: 0, Running: 2, Failed: 0)#######################---------------------------]  46.7% ..Running (Completed: 14, Queued: 0, Running: 2, Failed: 0)#######################---------------------------]  46.7% ..Running (Completed: 14, Queued: 0, Running: 1, Failed: 0)#########################-------------------------]  50.0% ..Running (Completed: 15, Queued: 2, Running: 1, Failed: 0)#########################-------------------------]  50.0% ..Running (Completed: 15, Queued: 0, Running: 3, Failed: 0)#########################-------------------------]  50.0% ..Running (Completed: 15, Queued: 0, Running: 3, Failed: 0)#########################-------------------------]  50.0% ..Running (Completed: 15, Queued: 0, Running: 2, Failed: 0)###########################-----------------------]  53.3% ..Running (Completed: 16, Queued: 1, Running: 2, Failed: 0)###########################-----------------------]  53.3% ..Running (Completed: 16, Queued: 0, Running: 3, Failed: 0)###########################-----------------------]  53.3% ..Running (Completed: 16, Queued: 0, Running: 3, Failed: 0)###########################-----------------------]  53.3% ..Running (Completed: 16, Queued: 0, Running: 3, Failed: 0)###########################-----------------------]  53.3% ..Running (Completed: 16, Queued: 0, Running: 2, Failed: 0)############################----------------------]  56.7% ..Running (Completed: 17, Queued: 0, Running: 2, Failed: 0)############################----------------------]  56.7% ..Running (Completed: 17, Queued: 0, Running: 2, Failed: 0)############################----------------------]  56.7% ..Running (Completed: 17, Queued: 0, Running: 2, Failed: 0)############################----------------------]  56.7% ..Running (Completed: 17, Queued: 0, Running: 2, Failed: 0)############################----------------------]  56.7% ..Running (Completed: 17, Queued: 0, Running: 2, Failed: 0)############################----------------------]  56.7% ..Running (Completed: 17, Queued: 0, Running: 2, Failed: 0)############################----------------------]  56.7% ..Running (Completed: 17, Queued: 0, Running: 2, Failed: 0)############################----------------------]  56.7% ..Running (Completed: 17, Queued: 0, Running: 2, Failed: 0)############################----------------------]  56.7% ..Running (Completed: 17, Queued: 0, Running: 2, Failed: 0)############################----------------------]  56.7% ..Running (Completed: 17, Queued: 0, Running: 1, Failed: 0)##############################"
     ]
    },
    {
     "name": "stdout",
     "output_type": "stream",
     "text": [
      "[-------------------]  60.0% ..Running (Completed: 18, Queued: 2, Running: 1, Failed: 0)##############################--------------------]  60.0% ..Running (Completed: 18, Queued: 0, Running: 3, Failed: 0)##############################--------------------]  60.0% ..Running (Completed: 18, Queued: 0, Running: 2, Failed: 0)################################------------------]  63.3% ..Running (Completed: 19, Queued: 0, Running: 1, Failed: 0)#################################-----------------]  66.7% ..Running (Completed: 20, Queued: 0, Running: 1, Failed: 0)#################################-----------------]  66.7% ..Running (Completed: 20, Queued: 0, Running: 1, Failed: 0)#################################-----------------]  66.7% ..Running (Completed: 20, Queued: 0, Running: 1, Failed: 0)#################################-----------------]  66.7% ..Running (Completed: 20, Queued: 0, Running: 1, Failed: 0)#################################-----------------]  66.7% ..Running (Completed: 20, Queued: 0, Running: 1, Failed: 0)#################################-----------------]  66.7% ..Running (Completed: 20, Queued: 0, Running: 1, Failed: 0)#################################-----------------]  66.7% ..Running (Completed: 20, Queued: 0, Running: 1, Failed: 0)#################################-----------------]  66.7% ..Running (Completed: 20, Queued: 0, Running: 1, Failed: 0)#################################-----------------]  66.7% ..Running (Completed: 20, Queued: 0, Running: 1, Failed: 0)#################################-----------------]  66.7% ..Running (Completed: 20, Queued: 0, Running: 1, Failed: 0)#################################-----------------]  66.7% ..Running (Completed: 20, Queued: 0, Running: 1, Failed: 0)#################################-----------------]  66.7% ..Running (Completed: 20, Queued: 0, Running: 1, Failed: 0)#################################-----------------]  66.7% ..Running (Completed: 20, Queued: 0, Running: 1, Failed: 0)#################################-----------------]  66.7% ..Running (Completed: 20, Queued: 0, Running: 1, Failed: 0)#################################-----------------]  66.7% ..Running (Completed: 20, Queued: 0, Running: 1, Failed: 0)#################################-----------------]  66.7% ..Running (Completed: 20, Queued: 0, Running: 1, Failed: 0)#################################-----------------]  66.7% ..Running (Completed: 20, Queued: 0, Running: 1, Failed: 0)#################################-----------------]  66.7% ..Running (Completed: 20, Queued: 0, Running: 1, Failed: 0)#################################-----------------]  66.7% ..Running (Completed: 20, Queued: 0, Running: 1, Failed: 0)#################################-----------------]  66.7% ..Running (Completed: 20, Queued: 0, Running: 1, Failed: 0)#################################-----------------]  66.7% ..Running (Completed: 20, Queued: 0, Running: 1, Failed: 0)#################################-----------------]  66.7% ..Running (Completed: 20, Queued: 0, Running: 1, Failed: 0)#################################-----------------]  66.7% ..Running (Completed: 20, Queued: 0, Running: 1, Failed: 0)#################################-----------------]  66.7% ..Running (Completed: 20, Queued: 0, Running: 1, Failed: 0)#################################-----------------]  66.7% ..Running (Completed: 20, Queued: 0, Running: 1, Failed: 0)#################################-----------------]  66.7% ..Running (Completed: 20, Queued: 0, Running: 1, Failed: 0)#################################-----------------]  66.7% ..Running (Completed: 20, Queued: 0, Running: 1, Failed: 0)#################################-----------------]  66.7% ..Running (Completed: 20, Queued: 0, Running: 1, Failed: 0)#################################-----------------]  66.7% ..Running (Completed: 20, Queued: 0, Running: 1, Failed: 0)#################################-----------------]  66.7% ..Running (Completed: 20, Queued: 0, Running: 1, Failed: 0)#################################-----------------]  66.7% ..Running (Completed: 20, Queued: 0, Running: 1, Failed: 0)#################################-----------------]  66.7% ..Running (Completed: 20, Queued: 0, Running: 1, Failed: 0)#################################-----------------]  66.7% ..Running (Completed: 20, Queued: 0, Running: 1, Failed: 0)#################################-----------------]  66.7% ..Running (Completed: 20, Queued: 0, Running: 1, Failed: 0)#################################-----------------]  66.7% ..Running (Completed: 20, Queued: 0, Running: 1, Failed: 0)#################################-----------------]  66.7% ..Running (Completed: 20, Queued: 0, Running: 1, Failed: 0)#################################-----------------]  66.7% ..Running (Completed: 20, Queued: 0, Running: 1, Failed: 0)#################################-----------------]  66.7% ..Running (Completed: 20, Queued: 0, Running: 1, Failed: 0)#################################-----------------]  66.7% ..Running (Completed: 20, Queued: 0, Running: 1, Failed: 0)#################################-----------------]  66.7% ..Running (Completed: 20, Queued: 0, Running: 1, Failed: 0)#################################-----------------]  66.7% ..Running (Completed: 20, Queued: 0, Running: 1, Failed: 0)#################################-----------------]  66.7% ..Running (Completed: 20, Queued: 0, Running: 1, Failed: 0)#################################-----------------]  66.7% ..Running (Completed: 20, Queued: 0, Running: 1, Failed: 0)#################################-----------------]  66.7% ..Running (Completed: 20, Queued: 0, Running: 1, Failed: 0)#################################-----------------]  66.7% ..Running (Completed: 20, Queued: 0, Running: 1, Failed: 0)#################################-----------------]  66.7% ..Running (Completed: 20, Queued: 0, Running: 1, Failed: 0)#################################-----------------]  66.7% ..Running (Completed: 20, Queued: 0, Running: 1, Failed: 0)#################################-----------------]  66.7% ..Running (Completed: 20, Queued: 0, Running: 1, Failed: 0)#################################-----------------]  66.7% ..Running (Completed: 20, Queued: 0, Running: 1, Failed: 0)#################################-----------------]  66.7% ..Running (Completed: 20, Queued: 0, Running: 1, Failed: 0)#################################-----------------]  66.7% ..Running (Completed: 20, Queued: 0, Running: 1, Failed: 0)#################################-----------------]  66.7% ..Running (Completed: 20, Queued: 0, Running: 1, Failed: 0)#################################-----------------]  66.7% ..Running (Completed: 20, Queued: 0, Running: 1, Failed: 0)#################################-----------------]  66.7% ..Running (Completed: 20, Queued: 0, Running: 1, Failed: 0)#################################-----------------]  66.7% ..Running (Completed: 20, Queued: 0, Running: 1, Failed: 0)#################################-----------------]  66.7% ..Running (Completed: 20, Queued: 0, Running: 1, Failed: 0)#################################-----------------]  66.7% ..Running (Completed: 20, Queued: 0, Running: 1, Failed: 0)#################################-----------------]  66.7% ..Running (Completed: 20, Queued: 0, Running: 1, Failed: 0)#################################-----------------]  66.7% ..Running (Completed: 20, Queued: 0, Running: 1, Failed: 0)#################################-----------------]  66.7% ..Running (Completed: 20, Queued: 0, Running: 1, Failed: 0)#################################-----------------]  66.7% ..Running (Completed: 20, Queued: 0, Running: 1, Failed: 0)#################################-----------------]  66.7% ..Running (Completed: 20, Queued: 0, Running: 1, Failed: 0)#################################-----------------]  66.7% ..Running (Completed: 20, Queued: 0, Running: 1, Failed: 0)#################################-----------------]  66.7% ..Running (Completed: 20, Queued: 0, Running: 1, Failed: 0)#################################-----------------]  66.7% ..Running (Completed: 20, Queued: 0, Running: 1, Failed: 0)#################################-----------------]  66.7% ..Running (Completed: 20"
     ]
    },
    {
     "name": "stdout",
     "output_type": "stream",
     "text": [
      "[ Queued: 0, Running: 1, Failed: 0)#################################-----------------]  66.7% ..Running (Completed: 20, Queued: 0, Running: 1, Failed: 0)#################################-----------------]  66.7% ..Running (Completed: 20, Queued: 0, Running: 1, Failed: 0)#################################-----------------]  66.7% ..Running (Completed: 20, Queued: 0, Running: 1, Failed: 0)#################################-----------------]  66.7% ..Running (Completed: 20, Queued: 0, Running: 1, Failed: 0)#################################-----------------]  66.7% ..Running (Completed: 20, Queued: 0, Running: 1, Failed: 0)#################################-----------------]  66.7% ..Running (Completed: 20, Queued: 0, Running: 1, Failed: 0)#################################-----------------]  66.7% ..Running (Completed: 20, Queued: 0, Running: 1, Failed: 0)#################################-----------------]  66.7% ..Running (Completed: 20, Queued: 0, Running: 1, Failed: 0)#################################-----------------]  66.7% ..Running (Completed: 20, Queued: 0, Running: 1, Failed: 0)#################################-----------------]  66.7% ..Running (Completed: 20, Queued: 0, Running: 1, Failed: 0)#################################-----------------]  66.7% ..Running (Completed: 20, Queued: 0, Running: 1, Failed: 0)#################################-----------------]  66.7% ..Running (Completed: 20, Queued: 0, Running: 1, Failed: 0)#################################-----------------]  66.7% ..Running (Completed: 20, Queued: 0, Running: 1, Failed: 0)#################################-----------------]  66.7% ..Running (Completed: 20, Queued: 0, Running: 1, Failed: 0)#################################-----------------]  66.7% ..Running (Completed: 20, Queued: 0, Running: 1, Failed: 0)#################################-----------------]  66.7% ..Running (Completed: 20, Queued: 0, Running: 1, Failed: 0)#################################-----------------]  66.7% ..Running (Completed: 20, Queued: 0, Running: 1, Failed: 0)#################################-----------------]  66.7% ..Running (Completed: 20, Queued: 0, Running: 1, Failed: 0)#################################-----------------]  66.7% ..Running (Completed: 20, Queued: 0, Running: 1, Failed: 0)#################################-----------------]  66.7% ..Running (Completed: 20, Queued: 0, Running: 1, Failed: 0)#################################-----------------]  66.7% ..Running (Completed: 20, Queued: 0, Running: 1, Failed: 0)#################################-----------------]  66.7% ..Running (Completed: 20, Queued: 0, Running: 1, Failed: 0)#################################-----------------]  66.7% ..Running (Completed: 20, Queued: 0, Running: 1, Failed: 0)#################################-----------------]  66.7% ..Running (Completed: 20, Queued: 0, Running: 1, Failed: 0)#################################-----------------]  66.7% ..Running (Completed: 20, Queued: 0, Running: 1, Failed: 0)#################################-----------------]  66.7% ..Running (Completed: 20, Queued: 0, Running: 1, Failed: 0)#################################-----------------]  66.7% ..Running (Completed: 20, Queued: 0, Running: 1, Failed: 0)#################################-----------------]  66.7% ..Running (Completed: 20, Queued: 0, Running: 1, Failed: 0)#################################-----------------]  66.7% ..Running (Completed: 20, Queued: 0, Running: 1, Failed: 0)#################################-----------------]  66.7% ..Running (Completed: 20, Queued: 0, Running: 1, Failed: 0)#################################-----------------]  66.7% ..Running (Completed: 20, Queued: 0, Running: 1, Failed: 0)#################################-----------------]  66.7% ..Running (Completed: 20, Queued: 0, Running: 1, Failed: 0)#################################-----------------]  66.7% ..Running (Completed: 20, Queued: 0, Running: 1, Failed: 0)#################################-----------------]  66.7% ..Running (Completed: 20, Queued: 0, Running: 1, Failed: 0)#################################-----------------]  66.7% ..Running (Completed: 20, Queued: 0, Running: 1, Failed: 0)#################################-----------------]  66.7% ..Running (Completed: 20, Queued: 0, Running: 1, Failed: 0)#################################-----------------]  66.7% ..Running (Completed: 20, Queued: 0, Running: 1, Failed: 0)#################################-----------------]  66.7% ..Running (Completed: 20, Queued: 0, Running: 1, Failed: 0)#################################-----------------]  66.7% ..Running (Completed: 20, Queued: 0, Running: 1, Failed: 0)#################################-----------------]  66.7% ..Running (Completed: 20, Queued: 0, Running: 1, Failed: 0)#################################-----------------]  66.7% ..Running (Completed: 20, Queued: 0, Running: 1, Failed: 0)#################################-----------------]  66.7% ..Running (Completed: 20, Queued: 0, Running: 1, Failed: 0)#################################-----------------]  66.7% ..Running (Completed: 20, Queued: 0, Running: 1, Failed: 0)#################################-----------------]  66.7% ..Running (Completed: 20, Queued: 0, Running: 1, Failed: 0)#################################-----------------]  66.7% ..Running (Completed: 20, Queued: 0, Running: 1, Failed: 0)#################################-----------------]  66.7% ..Running (Completed: 20, Queued: 0, Running: 1, Failed: 0)#################################-----------------]  66.7% ..Running (Completed: 20, Queued: 0, Running: 1, Failed: 0)#################################-----------------]  66.7% ..Running (Completed: 20, Queued: 0, Running: 1, Failed: 0)#################################-----------------]  66.7% ..Running (Completed: 20, Queued: 0, Running: 1, Failed: 0)#################################-----------------]  66.7% ..Running (Completed: 20, Queued: 0, Running: 1, Failed: 0)#################################-----------------]  66.7% ..Running (Completed: 20, Queued: 0, Running: 1, Failed: 0)#################################-----------------]  66.7% ..Running (Completed: 20, Queued: 0, Running: 1, Failed: 0)#################################-----------------]  66.7% ..Running (Completed: 20, Queued: 0, Running: 1, Failed: 0)#################################-----------------]  66.7% ..Running (Completed: 20, Queued: 0, Running: 1, Failed: 0)#################################-----------------]  66.7% ..Running (Completed: 20, Queued: 0, Running: 1, Failed: 0)#################################-----------------]  66.7% ..Running (Completed: 20, Queued: 0, Running: 1, Failed: 0)#################################-----------------]  66.7% ..Running (Completed: 20, Queued: 0, Running: 1, Failed: 0)#################################-----------------]  66.7% ..Running (Completed: 20, Queued: 0, Running: 1, Failed: 0)#################################-----------------]  66.7% ..Running (Completed: 20, Queued: 0, Running: 1, Failed: 0)#################################-----------------]  66.7% ..Running (Completed: 20, Queued: 0, Running: 1, Failed: 0)#################################-----------------]  66.7% ..Running (Completed: 20, Queued: 0, Running: 1, Failed: 0)#################################-----------------]  66.7% ..Running (Completed: 20, Queued: 0, Running: 1, Failed: 0)#################################-----------------]  66.7% ..Running (Completed: 20, Queued: 0, Running: 1, Failed: 0)#################################-----------------]  66.7% ..Running (Completed: 20, Queued: 0, Running: 1, Failed: 0)#################################-----------------]  66.7% ..Running (Completed: 20, Queued: 0, Running: 1, Failed: 0)#################################-----------------]  66.7% ..Running (Completed: 20, Queued: 0, Running: 1, Failed: 0)#################################-----------------]  66.7% ..Running (Completed: 20, Queued: 0, Running: 1, Failed: 0)#################################-----------------]  66.7% ..Running (Completed: 20, Queued: 0, Running: 1, Failed: 0)#################################-----------------]  66.7% ..Running (Completed: 20, Queued: 0, Running: 1, Failed: 0)#################################"
     ]
    },
    {
     "name": "stdout",
     "output_type": "stream",
     "text": [
      "[----------------]  66.7% ..Running (Completed: 20, Queued: 0, Running: 1, Failed: 0)#################################-----------------]  66.7% ..Running (Completed: 20, Queued: 0, Running: 1, Failed: 0)#################################-----------------]  66.7% ..Running (Completed: 20, Queued: 0, Running: 1, Failed: 0)#################################-----------------]  66.7% ..Running (Completed: 20, Queued: 0, Running: 1, Failed: 0)#################################-----------------]  66.7% ..Running (Completed: 20, Queued: 0, Running: 1, Failed: 0)#################################-----------------]  66.7% ..Running (Completed: 20, Queued: 0, Running: 1, Failed: 0)#################################-----------------]  66.7% ..Running (Completed: 20, Queued: 0, Running: 1, Failed: 0)#################################-----------------]  66.7% ..Running (Completed: 20, Queued: 0, Running: 1, Failed: 0)#################################-----------------]  66.7% ..Running (Completed: 20, Queued: 0, Running: 1, Failed: 0)#################################-----------------]  66.7% ..Running (Completed: 20, Queued: 0, Running: 1, Failed: 0)#################################-----------------]  66.7% ..Running (Completed: 20, Queued: 0, Running: 1, Failed: 0)#################################-----------------]  66.7% ..Running (Completed: 20, Queued: 0, Running: 1, Failed: 0)#################################-----------------]  66.7% ..Running (Completed: 20, Queued: 0, Running: 1, Failed: 0)#################################-----------------]  66.7% ..Running (Completed: 20, Queued: 0, Running: 1, Failed: 0)#################################-----------------]  66.7% ..Running (Completed: 20, Queued: 0, Running: 1, Failed: 0)#################################-----------------]  66.7% ..Running (Completed: 20, Queued: 0, Running: 1, Failed: 0)#################################-----------------]  66.7% ..Running (Completed: 20, Queued: 0, Running: 1, Failed: 0)#################################-----------------]  66.7% ..Running (Completed: 20, Queued: 0, Running: 1, Failed: 0)#################################-----------------]  66.7% ..Running (Completed: 20, Queued: 0, Running: 1, Failed: 0)#################################-----------------]  66.7% ..Running (Completed: 20, Queued: 0, Running: 1, Failed: 0)#################################-----------------]  66.7% ..Running (Completed: 20, Queued: 0, Running: 1, Failed: 0)#################################-----------------]  66.7% ..Running (Completed: 20, Queued: 0, Running: 1, Failed: 0)#################################-----------------]  66.7% ..Running (Completed: 20, Queued: 0, Running: 1, Failed: 0)#################################-----------------]  66.7% ..Running (Completed: 20, Queued: 0, Running: 1, Failed: 0)#################################-----------------]  66.7% ..Running (Completed: 20, Queued: 0, Running: 1, Failed: 0)#################################-----------------]  66.7% ..Running (Completed: 20, Queued: 0, Running: 1, Failed: 0)#################################-----------------]  66.7% ..Running (Completed: 20, Queued: 0, Running: 1, Failed: 0)#################################-----------------]  66.7% ..Running (Completed: 20, Queued: 0, Running: 1, Failed: 0)#################################-----------------]  66.7% ..Running (Completed: 20, Queued: 0, Running: 1, Failed: 0)#################################-----------------]  66.7% ..Running (Completed: 20, Queued: 0, Running: 1, Failed: 0)#################################-----------------]  66.7% ..Running (Completed: 20, Queued: 0, Running: 1, Failed: 0)#################################-----------------]  66.7% ..Running (Completed: 20, Queued: 0, Running: 1, Failed: 0)#################################-----------------]  66.7% ..Running (Completed: 20, Queued: 0, Running: 1, Failed: 0)#################################-----------------]  66.7% ..Running (Completed: 20, Queued: 0, Running: 1, Failed: 0)#################################-----------------]  66.7% ..Running (Completed: 20, Queued: 0, Running: 1, Failed: 0)#################################-----------------]  66.7% ..Running (Completed: 20, Queued: 0, Running: 1, Failed: 0)#################################-----------------]  66.7% ..Running (Completed: 20, Queued: 0, Running: 1, Failed: 0)#################################-----------------]  66.7% ..Running (Completed: 20, Queued: 0, Running: 1, Failed: 0)#################################-----------------]  66.7% ..Running (Completed: 20, Queued: 0, Running: 1, Failed: 0)#################################-----------------]  66.7% ..Running (Completed: 20, Queued: 0, Running: 1, Failed: 0)#################################-----------------]  66.7% ..Running (Completed: 20, Queued: 0, Running: 1, Failed: 0)#################################-----------------]  66.7% ..Running (Completed: 20, Queued: 0, Running: 1, Failed: 0)#################################-----------------]  66.7% ..Running (Completed: 20, Queued: 0, Running: 1, Failed: 0)#################################-----------------]  66.7% ..Running (Completed: 20, Queued: 0, Running: 1, Failed: 0)#################################-----------------]  66.7% ..Running (Completed: 20, Queued: 0, Running: 1, Failed: 0)#################################-----------------]  66.7% ..Running (Completed: 20, Queued: 0, Running: 1, Failed: 0)#################################-----------------]  66.7% ..Running (Completed: 20, Queued: 0, Running: 1, Failed: 0)#################################-----------------]  66.7% ..Running (Completed: 20, Queued: 0, Running: 1, Failed: 0)#################################-----------------]  66.7% ..Running (Completed: 20, Queued: 0, Running: 1, Failed: 0)#################################-----------------]  66.7% ..Running (Completed: 20, Queued: 0, Running: 1, Failed: 0)#################################-----------------]  66.7% ..Running (Completed: 20, Queued: 0, Running: 1, Failed: 0)#################################-----------------]  66.7% ..Running (Completed: 20, Queued: 0, Running: 0, Failed: 0)###################################---------------]  70.0% ..Running (Completed: 21, Queued: 3, Running: 0, Failed: 0)###################################---------------]  70.0% ..Running (Completed: 21, Queued: 0, Running: 3, Failed: 0)#####################################-------------]  73.3% ..Running (Completed: 22, Queued: 0, Running: 1, Failed: 0)######################################------------]  76.7% ..Running (Completed: 23, Queued: 1, Running: 1, Failed: 0)######################################------------]  76.7% ..Running (Completed: 23, Queued: 0, Running: 2, Failed: 0)######################################------------]  76.7% ..Running (Completed: 23, Queued: 0, Running: 2, Failed: 0)######################################------------]  76.7% ..Running (Completed: 23, Queued: 0, Running: 1, Failed: 0)########################################----------]  80.0% ..Running (Completed: 24, Queued: 0, Running: 1, Failed: 0)########################################----------]  80.0% ..Running (Completed: 24, Queued: 0, Running: 1, Failed: 0)########################################----------]  80.0% ..Running (Completed: 24, Queued: 0, Running: 1, Failed: 0)########################################----------]  80.0% ..Running (Completed: 24, Queued: 0, Running: 1, Failed: 0)########################################----------]  80.0% ..Running (Completed: 24, Queued: 0, Running: 1, Failed: 0)########################################----------]  80.0% ..Running (Completed: 24, Queued: 0, Running: 1, Failed: 0)########################################----------]  80.0% ..Running (Completed: 24, Queued: 0, Running: 1, Failed: 0)########################################----------]  80.0% ..Running (Completed: 24, Queued: 0, Running: 1, Failed: 0)########################################----------]  80.0% ..Running (Completed: 24, Queued: 0, Running: 1, Failed: 0)########################################----------]  80.0% ..Running (Completed: 24, Queued: 0, Running: 1, Failed: 0)########################################----------]  80.0% ..Running (Completed: 24, "
     ]
    },
    {
     "name": "stdout",
     "output_type": "stream",
     "text": [
      "[ueued: 0, Running: 1, Failed: 0)########################################----------]  80.0% ..Running (Completed: 24, Queued: 0, Running: 1, Failed: 0)########################################----------]  80.0% ..Running (Completed: 24, Queued: 0, Running: 1, Failed: 0)########################################----------]  80.0% ..Running (Completed: 24, Queued: 0, Running: 1, Failed: 0)########################################----------]  80.0% ..Running (Completed: 24, Queued: 0, Running: 1, Failed: 0)########################################----------]  80.0% ..Running (Completed: 24, Queued: 0, Running: 1, Failed: 0)########################################----------]  80.0% ..Running (Completed: 24, Queued: 0, Running: 1, Failed: 0)########################################----------]  80.0% ..Running (Completed: 24, Queued: 0, Running: 1, Failed: 0)########################################----------]  80.0% ..Running (Completed: 24, Queued: 0, Running: 1, Failed: 0)########################################----------]  80.0% ..Running (Completed: 24, Queued: 0, Running: 1, Failed: 0)########################################----------]  80.0% ..Running (Completed: 24, Queued: 0, Running: 1, Failed: 0)########################################----------]  80.0% ..Running (Completed: 24, Queued: 0, Running: 1, Failed: 0)########################################----------]  80.0% ..Running (Completed: 24, Queued: 0, Running: 1, Failed: 0)########################################----------]  80.0% ..Running (Completed: 24, Queued: 0, Running: 1, Failed: 0)########################################----------]  80.0% ..Running (Completed: 24, Queued: 0, Running: 1, Failed: 0)########################################----------]  80.0% ..Running (Completed: 24, Queued: 0, Running: 1, Failed: 0)########################################----------]  80.0% ..Running (Completed: 24, Queued: 0, Running: 1, Failed: 0)########################################----------]  80.0% ..Running (Completed: 24, Queued: 0, Running: 1, Failed: 0)########################################----------]  80.0% ..Running (Completed: 24, Queued: 0, Running: 1, Failed: 0)########################################----------]  80.0% ..Running (Completed: 24, Queued: 0, Running: 1, Failed: 0)########################################----------]  80.0% ..Running (Completed: 24, Queued: 0, Running: 1, Failed: 0)########################################----------]  80.0% ..Running (Completed: 24, Queued: 0, Running: 1, Failed: 0)########################################----------]  80.0% ..Running (Completed: 24, Queued: 0, Running: 1, Failed: 0)########################################----------]  80.0% ..Running (Completed: 24, Queued: 0, Running: 1, Failed: 0)########################################----------]  80.0% ..Running (Completed: 24, Queued: 0, Running: 1, Failed: 0)########################################----------]  80.0% ..Running (Completed: 24, Queued: 0, Running: 1, Failed: 0)########################################----------]  80.0% ..Running (Completed: 24, Queued: 0, Running: 1, Failed: 0)########################################----------]  80.0% ..Running (Completed: 24, Queued: 0, Running: 1, Failed: 0)########################################----------]  80.0% ..Running (Completed: 24, Queued: 0, Running: 1, Failed: 0)########################################----------]  80.0% ..Running (Completed: 24, Queued: 0, Running: 1, Failed: 0)########################################----------]  80.0% ..Running (Completed: 24, Queued: 0, Running: 1, Failed: 0)########################################----------]  80.0% ..Running (Completed: 24, Queued: 0, Running: 1, Failed: 0)########################################----------]  80.0% ..Running (Completed: 24, Queued: 0, Running: 1, Failed: 0)########################################----------]  80.0% ..Running (Completed: 24, Queued: 0, Running: 1, Failed: 0)########################################----------]  80.0% ..Running (Completed: 24, Queued: 0, Running: 1, Failed: 0)########################################----------]  80.0% ..Running (Completed: 24, Queued: 0, Running: 1, Failed: 0)########################################----------]  80.0% ..Running (Completed: 24, Queued: 0, Running: 1, Failed: 0)########################################----------]  80.0% ..Running (Completed: 24, Queued: 0, Running: 1, Failed: 0)########################################----------]  80.0% ..Running (Completed: 24, Queued: 0, Running: 1, Failed: 0)########################################----------]  80.0% ..Running (Completed: 24, Queued: 0, Running: 1, Failed: 0)########################################----------]  80.0% ..Running (Completed: 24, Queued: 0, Running: 1, Failed: 0)########################################----------]  80.0% ..Running (Completed: 24, Queued: 0, Running: 1, Failed: 0)########################################----------]  80.0% ..Running (Completed: 24, Queued: 0, Running: 1, Failed: 0)########################################----------]  80.0% ..Running (Completed: 24, Queued: 0, Running: 1, Failed: 0)########################################----------]  80.0% ..Running (Completed: 24, Queued: 0, Running: 1, Failed: 0)########################################----------]  80.0% ..Running (Completed: 24, Queued: 0, Running: 1, Failed: 0)########################################----------]  80.0% ..Running (Completed: 24, Queued: 0, Running: 1, Failed: 0)########################################----------]  80.0% ..Running (Completed: 24, Queued: 0, Running: 1, Failed: 0)########################################----------]  80.0% ..Running (Completed: 24, Queued: 0, Running: 1, Failed: 0)########################################----------]  80.0% ..Running (Completed: 24, Queued: 0, Running: 1, Failed: 0)########################################----------]  80.0% ..Running (Completed: 24, Queued: 0, Running: 1, Failed: 0)########################################----------]  80.0% ..Running (Completed: 24, Queued: 0, Running: 1, Failed: 0)########################################----------]  80.0% ..Running (Completed: 24, Queued: 0, Running: 1, Failed: 0)########################################----------]  80.0% ..Running (Completed: 24, Queued: 0, Running: 1, Failed: 0)########################################----------]  80.0% ..Running (Completed: 24, Queued: 0, Running: 1, Failed: 0)########################################----------]  80.0% ..Running (Completed: 24, Queued: 0, Running: 1, Failed: 0)########################################----------]  80.0% ..Running (Completed: 24, Queued: 0, Running: 1, Failed: 0)########################################----------]  80.0% ..Running (Completed: 24, Queued: 0, Running: 1, Failed: 0)########################################----------]  80.0% ..Running (Completed: 24, Queued: 0, Running: 1, Failed: 0)########################################----------]  80.0% ..Running (Completed: 24, Queued: 0, Running: 1, Failed: 0)########################################----------]  80.0% ..Running (Completed: 24, Queued: 0, Running: 1, Failed: 0)########################################----------]  80.0% ..Running (Completed: 24, Queued: 0, Running: 1, Failed: 0)########################################----------]  80.0% ..Running (Completed: 24, Queued: 0, Running: 1, Failed: 0)########################################----------]  80.0% ..Running (Completed: 24, Queued: 0, Running: 1, Failed: 0)########################################----------]  80.0% ..Running (Completed: 24, Queued: 0, Running: 1, Failed: 0)########################################----------]  80.0% ..Running (Completed: 24, Queued: 0, Running: 1, Failed: 0)########################################----------]  80.0% ..Running (Completed: 24, Queued: 0, Running: 1, Failed: 0)########################################----------]  80.0% ..Running (Completed: 24, Queued: 0, Running: 1, Failed: 0)########################################----------]  80.0% ..Running (Completed: 24, Queued: 0, Running: 1, Failed: 0)########################################----------]  80.0% ..Running (Completed: 24, Queued: 0, Running: 1, Failed: 0)########################################"
     ]
    },
    {
     "name": "stdout",
     "output_type": "stream",
     "text": [
      "[---------]  80.0% ..Running (Completed: 24, Queued: 0, Running: 1, Failed: 0)########################################----------]  80.0% ..Running (Completed: 24, Queued: 0, Running: 1, Failed: 0)########################################----------]  80.0% ..Running (Completed: 24, Queued: 0, Running: 1, Failed: 0)########################################----------]  80.0% ..Running (Completed: 24, Queued: 0, Running: 1, Failed: 0)########################################----------]  80.0% ..Running (Completed: 24, Queued: 0, Running: 1, Failed: 0)########################################----------]  80.0% ..Running (Completed: 24, Queued: 0, Running: 1, Failed: 0)########################################----------]  80.0% ..Running (Completed: 24, Queued: 0, Running: 1, Failed: 0)########################################----------]  80.0% ..Running (Completed: 24, Queued: 0, Running: 1, Failed: 0)########################################----------]  80.0% ..Running (Completed: 24, Queued: 0, Running: 1, Failed: 0)########################################----------]  80.0% ..Running (Completed: 24, Queued: 0, Running: 1, Failed: 0)########################################----------]  80.0% ..Running (Completed: 24, Queued: 0, Running: 1, Failed: 0)########################################----------]  80.0% ..Running (Completed: 24, Queued: 0, Running: 1, Failed: 0)########################################----------]  80.0% ..Running (Completed: 24, Queued: 0, Running: 1, Failed: 0)########################################----------]  80.0% ..Running (Completed: 24, Queued: 0, Running: 1, Failed: 0)########################################----------]  80.0% ..Running (Completed: 24, Queued: 0, Running: 1, Failed: 0)########################################----------]  80.0% ..Running (Completed: 24, Queued: 0, Running: 1, Failed: 0)########################################----------]  80.0% ..Running (Completed: 24, Queued: 0, Running: 1, Failed: 0)########################################----------]  80.0% ..Running (Completed: 24, Queued: 0, Running: 1, Failed: 0)########################################----------]  80.0% ..Running (Completed: 24, Queued: 0, Running: 1, Failed: 0)########################################----------]  80.0% ..Running (Completed: 24, Queued: 0, Running: 1, Failed: 0)########################################----------]  80.0% ..Running (Completed: 24, Queued: 0, Running: 1, Failed: 0)########################################----------]  80.0% ..Running (Completed: 24, Queued: 0, Running: 1, Failed: 0)########################################----------]  80.0% ..Running (Completed: 24, Queued: 0, Running: 1, Failed: 0)########################################----------]  80.0% ..Running (Completed: 24, Queued: 0, Running: 1, Failed: 0)########################################----------]  80.0% ..Running (Completed: 24, Queued: 0, Running: 1, Failed: 0)########################################----------]  80.0% ..Running (Completed: 24, Queued: 0, Running: 1, Failed: 0)########################################----------]  80.0% ..Running (Completed: 24, Queued: 0, Running: 1, Failed: 0)########################################----------]  80.0% ..Running (Completed: 24, Queued: 0, Running: 1, Failed: 0)########################################----------]  80.0% ..Running (Completed: 24, Queued: 0, Running: 1, Failed: 0)########################################----------]  80.0% ..Running (Completed: 24, Queued: 0, Running: 1, Failed: 0)########################################----------]  80.0% ..Running (Completed: 24, Queued: 0, Running: 1, Failed: 0)########################################----------]  80.0% ..Running (Completed: 24, Queued: 0, Running: 1, Failed: 0)########################################----------]  80.0% ..Running (Completed: 24, Queued: 0, Running: 1, Failed: 0)########################################----------]  80.0% ..Running (Completed: 24, Queued: 0, Running: 1, Failed: 0)########################################----------]  80.0% ..Running (Completed: 24, Queued: 0, Running: 1, Failed: 0)########################################----------]  80.0% ..Running (Completed: 24, Queued: 0, Running: 1, Failed: 0)########################################----------]  80.0% ..Running (Completed: 24, Queued: 0, Running: 1, Failed: 0)########################################----------]  80.0% ..Running (Completed: 24, Queued: 0, Running: 1, Failed: 0)########################################----------]  80.0% ..Running (Completed: 24, Queued: 0, Running: 1, Failed: 0)########################################----------]  80.0% ..Running (Completed: 24, Queued: 0, Running: 1, Failed: 0)########################################----------]  80.0% ..Running (Completed: 24, Queued: 0, Running: 1, Failed: 0)########################################----------]  80.0% ..Running (Completed: 24, Queued: 0, Running: 1, Failed: 0)########################################----------]  80.0% ..Running (Completed: 24, Queued: 0, Running: 1, Failed: 0)########################################----------]  80.0% ..Running (Completed: 24, Queued: 0, Running: 1, Failed: 0)########################################----------]  80.0% ..Running (Completed: 24, Queued: 0, Running: 1, Failed: 0)########################################----------]  80.0% ..Running (Completed: 24, Queued: 0, Running: 1, Failed: 0)########################################----------]  80.0% ..Running (Completed: 24, Queued: 0, Running: 1, Failed: 0)########################################----------]  80.0% ..Running (Completed: 24, Queued: 0, Running: 1, Failed: 0)########################################----------]  80.0% ..Running (Completed: 24, Queued: 0, Running: 1, Failed: 0)########################################----------]  80.0% ..Running (Completed: 24, Queued: 0, Running: 1, Failed: 0)########################################----------]  80.0% ..Running (Completed: 24, Queued: 0, Running: 1, Failed: 0)########################################----------]  80.0% ..Running (Completed: 24, Queued: 0, Running: 1, Failed: 0)########################################----------]  80.0% ..Running (Completed: 24, Queued: 0, Running: 1, Failed: 0)########################################----------]  80.0% ..Running (Completed: 24, Queued: 0, Running: 1, Failed: 0)########################################----------]  80.0% ..Running (Completed: 24, Queued: 0, Running: 1, Failed: 0)########################################----------]  80.0% ..Running (Completed: 24, Queued: 0, Running: 1, Failed: 0)########################################----------]  80.0% ..Running (Completed: 24, Queued: 0, Running: 1, Failed: 0)########################################----------]  80.0% ..Running (Completed: 24, Queued: 0, Running: 1, Failed: 0)########################################----------]  80.0% ..Running (Completed: 24, Queued: 0, Running: 1, Failed: 0)########################################----------]  80.0% ..Running (Completed: 24, Queued: 0, Running: 1, Failed: 0)########################################----------]  80.0% ..Running (Completed: 24, Queued: 0, Running: 1, Failed: 0)########################################----------]  80.0% ..Running (Completed: 24, Queued: 0, Running: 1, Failed: 0)########################################----------]  80.0% ..Running (Completed: 24, Queued: 0, Running: 1, Failed: 0)########################################----------]  80.0% ..Running (Completed: 24, Queued: 0, Running: 1, Failed: 0)########################################----------]  80.0% ..Running (Completed: 24, Queued: 0, Running: 1, Failed: 0)########################################----------]  80.0% ..Running (Completed: 24, Queued: 0, Running: 1, Failed: 0)########################################----------]  80.0% ..Running (Completed: 24, Queued: 0, Running: 1, Failed: 0)########################################----------]  80.0% ..Running (Completed: 24, Queued: 0, Running: 1, Failed: 0)########################################----------]  80.0% ..Running (Completed: 24, Queued: 0, Running: 1, Failed: 0)########################################----------]  80.0% ..Running (Completed: 24, Queued: 0"
     ]
    },
    {
     "name": "stdout",
     "output_type": "stream",
     "text": [
      "[ Running: 1, Failed: 0)########################################----------]  80.0% ..Running (Completed: 24, Queued: 0, Running: 1, Failed: 0)########################################----------]  80.0% ..Running (Completed: 24, Queued: 0, Running: 1, Failed: 0)########################################----------]  80.0% ..Running (Completed: 24, Queued: 0, Running: 1, Failed: 0)########################################----------]  80.0% ..Running (Completed: 24, Queued: 0, Running: 1, Failed: 0)########################################----------]  80.0% ..Running (Completed: 24, Queued: 0, Running: 1, Failed: 0)########################################----------]  80.0% ..Running (Completed: 24, Queued: 0, Running: 1, Failed: 0)########################################----------]  80.0% ..Running (Completed: 24, Queued: 0, Running: 1, Failed: 0)########################################----------]  80.0% ..Running (Completed: 24, Queued: 0, Running: 1, Failed: 0)########################################----------]  80.0% ..Running (Completed: 24, Queued: 0, Running: 1, Failed: 0)########################################----------]  80.0% ..Running (Completed: 24, Queued: 0, Running: 1, Failed: 0)########################################----------]  80.0% ..Running (Completed: 24, Queued: 0, Running: 1, Failed: 0)########################################----------]  80.0% ..Running (Completed: 24, Queued: 0, Running: 1, Failed: 0)########################################----------]  80.0% ..Running (Completed: 24, Queued: 0, Running: 1, Failed: 0)########################################----------]  80.0% ..Running (Completed: 24, Queued: 0, Running: 1, Failed: 0)########################################----------]  80.0% ..Running (Completed: 24, Queued: 0, Running: 1, Failed: 0)########################################----------]  80.0% ..Running (Completed: 24, Queued: 0, Running: 1, Failed: 0)########################################----------]  80.0% ..Running (Completed: 24, Queued: 0, Running: 1, Failed: 0)########################################----------]  80.0% ..Running (Completed: 24, Queued: 0, Running: 1, Failed: 0)########################################----------]  80.0% ..Running (Completed: 24, Queued: 0, Running: 1, Failed: 0)########################################----------]  80.0% ..Running (Completed: 24, Queued: 0, Running: 1, Failed: 0)########################################----------]  80.0% ..Running (Completed: 24, Queued: 0, Running: 1, Failed: 0)########################################----------]  80.0% ..Running (Completed: 24, Queued: 0, Running: 1, Failed: 0)########################################----------]  80.0% ..Running (Completed: 24, Queued: 0, Running: 1, Failed: 0)########################################----------]  80.0% ..Running (Completed: 24, Queued: 0, Running: 1, Failed: 0)########################################----------]  80.0% ..Running (Completed: 24, Queued: 0, Running: 1, Failed: 0)########################################----------]  80.0% ..Running (Completed: 24, Queued: 0, Running: 1, Failed: 0)########################################----------]  80.0% ..Running (Completed: 24, Queued: 0, Running: 1, Failed: 0)########################################----------]  80.0% ..Running (Completed: 24, Queued: 0, Running: 1, Failed: 0)########################################----------]  80.0% ..Running (Completed: 24, Queued: 0, Running: 1, Failed: 0)########################################----------]  80.0% ..Running (Completed: 24, Queued: 0, Running: 1, Failed: 0)########################################----------]  80.0% ..Running (Completed: 24, Queued: 0, Running: 1, Failed: 0)########################################----------]  80.0% ..Running (Completed: 24, Queued: 0, Running: 1, Failed: 0)########################################----------]  80.0% ..Running (Completed: 24, Queued: 0, Running: 1, Failed: 0)########################################----------]  80.0% ..Running (Completed: 24, Queued: 0, Running: 1, Failed: 0)########################################----------]  80.0% ..Running (Completed: 24, Queued: 0, Running: 1, Failed: 0)########################################----------]  80.0% ..Running (Completed: 24, Queued: 0, Running: 1, Failed: 0)########################################----------]  80.0% ..Running (Completed: 24, Queued: 0, Running: 1, Failed: 0)########################################----------]  80.0% ..Running (Completed: 24, Queued: 0, Running: 1, Failed: 0)########################################----------]  80.0% ..Running (Completed: 24, Queued: 0, Running: 1, Failed: 0)########################################----------]  80.0% ..Running (Completed: 24, Queued: 0, Running: 1, Failed: 0)########################################----------]  80.0% ..Running (Completed: 24, Queued: 0, Running: 1, Failed: 0)########################################----------]  80.0% ..Running (Completed: 24, Queued: 0, Running: 1, Failed: 0)########################################----------]  80.0% ..Running (Completed: 24, Queued: 0, Running: 1, Failed: 0)########################################----------]  80.0% ..Running (Completed: 24, Queued: 0, Running: 1, Failed: 0)########################################----------]  80.0% ..Running (Completed: 24, Queued: 0, Running: 1, Failed: 0)########################################----------]  80.0% ..Running (Completed: 24, Queued: 0, Running: 1, Failed: 0)########################################----------]  80.0% ..Running (Completed: 24, Queued: 0, Running: 1, Failed: 0)########################################----------]  80.0% ..Running (Completed: 24, Queued: 0, Running: 1, Failed: 0)########################################----------]  80.0% ..Running (Completed: 24, Queued: 0, Running: 1, Failed: 0)########################################----------]  80.0% ..Running (Completed: 24, Queued: 0, Running: 1, Failed: 0)########################################----------]  80.0% ..Running (Completed: 24, Queued: 0, Running: 1, Failed: 0)########################################----------]  80.0% ..Running (Completed: 24, Queued: 0, Running: 1, Failed: 0)########################################----------]  80.0% ..Running (Completed: 24, Queued: 0, Running: 0, Failed: 0)########################################----------]  80.0% ..Running (Completed: 24, Queued: 1, Running: 0, Failed: 0)########################################----------]  80.0% ..Running (Completed: 24, Queued: 0, Running: 1, Failed: 0)########################################----------]  80.0% ..Running (Completed: 24, Queued: 0, Running: 1, Failed: 0)########################################----------]  80.0% ..Running (Completed: 24, Queued: 0, Running: 1, Failed: 0)########################################----------]  80.0% ..Running (Completed: 24, Queued: 0, Running: 1, Failed: 0)########################################----------]  80.0% ..Running (Completed: 24, Queued: 0, Running: 1, Failed: 0)########################################----------]  80.0% ..Running (Completed: 24, Queued: 0, Running: 1, Failed: 0)########################################----------]  80.0% ..Running (Completed: 24, Queued: 0, Running: 1, Failed: 0)########################################----------]  80.0% ..Running (Completed: 24, Queued: 0, Running: 1, Failed: 0)########################################----------]  80.0% ..Running (Completed: 24, Queued: 0, Running: 1, Failed: 0)########################################----------]  80.0% ..Running (Completed: 24, Queued: 0, Running: 1, Failed: 0)########################################----------]  80.0% ..Running (Completed: 24, Queued: 0, Running: 1, Failed: 0)########################################----------]  80.0% ..Running (Completed: 24, Queued: 0, Running: 1, Failed: 0)########################################----------]  80.0% ..Running (Completed: 24, Queued: 0, Running: 1, Failed: 0)########################################----------]  80.0% ..Running (Completed: 24, Queued: 0, Running: 1, Failed: 0)########################################----------]  80.0% ..Running (Completed: 24, Queued: 0, Running: 1, Failed: 0)########################################"
     ]
    },
    {
     "name": "stdout",
     "output_type": "stream",
     "text": [
      "[---------]  80.0% ..Running (Completed: 24, Queued: 0, Running: 1, Failed: 0)########################################----------]  80.0% ..Running (Completed: 24, Queued: 0, Running: 1, Failed: 0)########################################----------]  80.0% ..Running (Completed: 24, Queued: 0, Running: 1, Failed: 0)########################################----------]  80.0% ..Running (Completed: 24, Queued: 0, Running: 1, Failed: 0)########################################----------]  80.0% ..Running (Completed: 24, Queued: 0, Running: 1, Failed: 0)########################################----------]  80.0% ..Running (Completed: 24, Queued: 0, Running: 1, Failed: 0)########################################----------]  80.0% ..Running (Completed: 24, Queued: 0, Running: 1, Failed: 0)########################################----------]  80.0% ..Running (Completed: 24, Queued: 0, Running: 1, Failed: 0)########################################----------]  80.0% ..Running (Completed: 24, Queued: 0, Running: 1, Failed: 0)########################################----------]  80.0% ..Running (Completed: 24, Queued: 0, Running: 1, Failed: 0)########################################----------]  80.0% ..Running (Completed: 24, Queued: 0, Running: 1, Failed: 0)########################################----------]  80.0% ..Running (Completed: 24, Queued: 0, Running: 1, Failed: 0)########################################----------]  80.0% ..Running (Completed: 24, Queued: 0, Running: 1, Failed: 0)########################################----------]  80.0% ..Running (Completed: 24, Queued: 0, Running: 1, Failed: 0)########################################----------]  80.0% ..Running (Completed: 24, Queued: 0, Running: 1, Failed: 0)########################################----------]  80.0% ..Running (Completed: 24, Queued: 0, Running: 1, Failed: 0)########################################----------]  80.0% ..Running (Completed: 24, Queued: 0, Running: 1, Failed: 0)########################################----------]  80.0% ..Running (Completed: 24, Queued: 0, Running: 1, Failed: 0)########################################----------]  80.0% ..Running (Completed: 24, Queued: 0, Running: 1, Failed: 0)########################################----------]  80.0% ..Running (Completed: 24, Queued: 0, Running: 1, Failed: 0)########################################----------]  80.0% ..Running (Completed: 24, Queued: 0, Running: 1, Failed: 0)########################################----------]  80.0% ..Running (Completed: 24, Queued: 0, Running: 1, Failed: 0)########################################----------]  80.0% ..Running (Completed: 24, Queued: 0, Running: 1, Failed: 0)########################################----------]  80.0% ..Running (Completed: 24, Queued: 0, Running: 1, Failed: 0)########################################----------]  80.0% ..Running (Completed: 24, Queued: 0, Running: 1, Failed: 0)########################################----------]  80.0% ..Running (Completed: 24, Queued: 0, Running: 1, Failed: 0)########################################----------]  80.0% ..Running (Completed: 24, Queued: 0, Running: 1, Failed: 0)########################################----------]  80.0% ..Running (Completed: 24, Queued: 0, Running: 1, Failed: 0)########################################----------]  80.0% ..Running (Completed: 24, Queued: 0, Running: 1, Failed: 0)########################################----------]  80.0% ..Running (Completed: 24, Queued: 0, Running: 1, Failed: 0)########################################----------]  80.0% ..Running (Completed: 24, Queued: 0, Running: 1, Failed: 0)########################################----------]  80.0% ..Running (Completed: 24, Queued: 0, Running: 1, Failed: 0)########################################----------]  80.0% ..Running (Completed: 24, Queued: 0, Running: 1, Failed: 0)########################################----------]  80.0% ..Running (Completed: 24, Queued: 0, Running: 1, Failed: 0)########################################----------]  80.0% ..Running (Completed: 24, Queued: 0, Running: 1, Failed: 0)########################################----------]  80.0% ..Running (Completed: 24, Queued: 0, Running: 1, Failed: 0)########################################----------]  80.0% ..Running (Completed: 24, Queued: 0, Running: 1, Failed: 0)########################################----------]  80.0% ..Running (Completed: 24, Queued: 0, Running: 1, Failed: 0)########################################----------]  80.0% ..Running (Completed: 24, Queued: 0, Running: 1, Failed: 0)########################################----------]  80.0% ..Running (Completed: 24, Queued: 0, Running: 1, Failed: 0)########################################----------]  80.0% ..Running (Completed: 24, Queued: 0, Running: 1, Failed: 0)########################################----------]  80.0% ..Running (Completed: 24, Queued: 0, Running: 1, Failed: 0)########################################----------]  80.0% ..Running (Completed: 24, Queued: 0, Running: 1, Failed: 0)########################################----------]  80.0% ..Running (Completed: 24, Queued: 0, Running: 1, Failed: 0)########################################----------]  80.0% ..Running (Completed: 24, Queued: 0, Running: 1, Failed: 0)########################################----------]  80.0% ..Running (Completed: 24, Queued: 0, Running: 1, Failed: 0)########################################----------]  80.0% ..Running (Completed: 24, Queued: 0, Running: 1, Failed: 0)########################################----------]  80.0% ..Running (Completed: 24, Queued: 0, Running: 1, Failed: 0)########################################----------]  80.0% ..Running (Completed: 24, Queued: 0, Running: 1, Failed: 0)########################################----------]  80.0% ..Running (Completed: 24, Queued: 0, Running: 1, Failed: 0)########################################----------]  80.0% ..Running (Completed: 24, Queued: 0, Running: 1, Failed: 0)########################################----------]  80.0% ..Running (Completed: 24, Queued: 0, Running: 1, Failed: 0)########################################----------]  80.0% ..Running (Completed: 24, Queued: 0, Running: 1, Failed: 0)########################################----------]  80.0% ..Running (Completed: 24, Queued: 0, Running: 1, Failed: 0)########################################----------]  80.0% ..Running (Completed: 24, Queued: 0, Running: 1, Failed: 0)########################################----------]  80.0% ..Running (Completed: 24, Queued: 0, Running: 1, Failed: 0)########################################----------]  80.0% ..Running (Completed: 24, Queued: 0, Running: 1, Failed: 0)########################################----------]  80.0% ..Running (Completed: 24, Queued: 0, Running: 1, Failed: 0)########################################----------]  80.0% ..Running (Completed: 24, Queued: 0, Running: 1, Failed: 0)########################################----------]  80.0% ..Running (Completed: 24, Queued: 0, Running: 1, Failed: 0)########################################----------]  80.0% ..Running (Completed: 24, Queued: 0, Running: 1, Failed: 0)########################################----------]  80.0% ..Running (Completed: 24, Queued: 0, Running: 1, Failed: 0)########################################----------]  80.0% ..Running (Completed: 24, Queued: 0, Running: 1, Failed: 0)########################################----------]  80.0% ..Running (Completed: 24, Queued: 0, Running: 1, Failed: 0)########################################----------]  80.0% ..Running (Completed: 24, Queued: 0, Running: 1, Failed: 0)########################################----------]  80.0% ..Running (Completed: 24, Queued: 0, Running: 1, Failed: 0)########################################----------]  80.0% ..Running (Completed: 24, Queued: 0, Running: 1, Failed: 0)########################################----------]  80.0% ..Running (Completed: 24, Queued: 0, Running: 1, Failed: 0)########################################----------]  80.0% ..Running (Completed: 24, Queued: 0, Running: 1, Failed: 0)########################################----------]  80.0% ..Running (Completed: 24, Queued: 0"
     ]
    },
    {
     "name": "stdout",
     "output_type": "stream",
     "text": [
      "[ Running: 1, Failed: 0)########################################----------]  80.0% ..Running (Completed: 24, Queued: 0, Running: 1, Failed: 0)########################################----------]  80.0% ..Running (Completed: 24, Queued: 0, Running: 1, Failed: 0)########################################----------]  80.0% ..Running (Completed: 24, Queued: 0, Running: 1, Failed: 0)########################################----------]  80.0% ..Running (Completed: 24, Queued: 0, Running: 1, Failed: 0)########################################----------]  80.0% ..Running (Completed: 24, Queued: 0, Running: 1, Failed: 0)########################################----------]  80.0% ..Running (Completed: 24, Queued: 0, Running: 1, Failed: 0)########################################----------]  80.0% ..Running (Completed: 24, Queued: 0, Running: 1, Failed: 0)########################################----------]  80.0% ..Running (Completed: 24, Queued: 0, Running: 1, Failed: 0)########################################----------]  80.0% ..Running (Completed: 24, Queued: 0, Running: 1, Failed: 0)########################################----------]  80.0% ..Running (Completed: 24, Queued: 0, Running: 1, Failed: 0)########################################----------]  80.0% ..Running (Completed: 24, Queued: 0, Running: 1, Failed: 0)########################################----------]  80.0% ..Running (Completed: 24, Queued: 0, Running: 1, Failed: 0)########################################----------]  80.0% ..Running (Completed: 24, Queued: 0, Running: 1, Failed: 0)########################################----------]  80.0% ..Running (Completed: 24, Queued: 0, Running: 1, Failed: 0)########################################----------]  80.0% ..Running (Completed: 24, Queued: 0, Running: 1, Failed: 0)########################################----------]  80.0% ..Running (Completed: 24, Queued: 0, Running: 1, Failed: 0)########################################----------]  80.0% ..Running (Completed: 24, Queued: 0, Running: 1, Failed: 0)########################################----------]  80.0% ..Running (Completed: 24, Queued: 0, Running: 1, Failed: 0)########################################----------]  80.0% ..Running (Completed: 24, Queued: 0, Running: 1, Failed: 0)########################################----------]  80.0% ..Running (Completed: 24, Queued: 0, Running: 1, Failed: 0)########################################----------]  80.0% ..Running (Completed: 24, Queued: 0, Running: 1, Failed: 0)########################################----------]  80.0% ..Running (Completed: 24, Queued: 0, Running: 1, Failed: 0)########################################----------]  80.0% ..Running (Completed: 24, Queued: 0, Running: 1, Failed: 0)########################################----------]  80.0% ..Running (Completed: 24, Queued: 0, Running: 1, Failed: 0)########################################----------]  80.0% ..Running (Completed: 24, Queued: 0, Running: 1, Failed: 0)########################################----------]  80.0% ..Running (Completed: 24, Queued: 0, Running: 1, Failed: 0)########################################----------]  80.0% ..Running (Completed: 24, Queued: 0, Running: 1, Failed: 0)########################################----------]  80.0% ..Running (Completed: 24, Queued: 0, Running: 1, Failed: 0)########################################----------]  80.0% ..Running (Completed: 24, Queued: 0, Running: 1, Failed: 0)########################################----------]  80.0% ..Running (Completed: 24, Queued: 0, Running: 1, Failed: 0)########################################----------]  80.0% ..Running (Completed: 24, Queued: 0, Running: 1, Failed: 0)########################################----------]  80.0% ..Running (Completed: 24, Queued: 0, Running: 1, Failed: 0)########################################----------]  80.0% ..Running (Completed: 24, Queued: 0, Running: 1, Failed: 0)########################################----------]  80.0% ..Running (Completed: 24, Queued: 0, Running: 1, Failed: 0)########################################----------]  80.0% ..Running (Completed: 24, Queued: 0, Running: 1, Failed: 0)########################################----------]  80.0% ..Running (Completed: 24, Queued: 0, Running: 1, Failed: 0)########################################----------]  80.0% ..Running (Completed: 24, Queued: 0, Running: 1, Failed: 0)########################################----------]  80.0% ..Running (Completed: 24, Queued: 0, Running: 1, Failed: 0)########################################----------]  80.0% ..Running (Completed: 24, Queued: 0, Running: 1, Failed: 0)########################################----------]  80.0% ..Running (Completed: 24, Queued: 0, Running: 1, Failed: 0)########################################----------]  80.0% ..Running (Completed: 24, Queued: 0, Running: 1, Failed: 0)########################################----------]  80.0% ..Running (Completed: 24, Queued: 0, Running: 1, Failed: 0)########################################----------]  80.0% ..Running (Completed: 24, Queued: 0, Running: 1, Failed: 0)########################################----------]  80.0% ..Running (Completed: 24, Queued: 0, Running: 1, Failed: 0)########################################----------]  80.0% ..Running (Completed: 24, Queued: 0, Running: 1, Failed: 0)########################################----------]  80.0% ..Running (Completed: 24, Queued: 0, Running: 1, Failed: 0)########################################----------]  80.0% ..Running (Completed: 24, Queued: 0, Running: 1, Failed: 0)########################################----------]  80.0% ..Running (Completed: 24, Queued: 0, Running: 1, Failed: 0)########################################----------]  80.0% ..Running (Completed: 24, Queued: 0, Running: 1, Failed: 0)########################################----------]  80.0% ..Running (Completed: 24, Queued: 0, Running: 1, Failed: 0)########################################----------]  80.0% ..Running (Completed: 24, Queued: 0, Running: 1, Failed: 0)########################################----------]  80.0% ..Running (Completed: 24, Queued: 0, Running: 1, Failed: 0)########################################----------]  80.0% ..Running (Completed: 24, Queued: 0, Running: 1, Failed: 0)########################################----------]  80.0% ..Running (Completed: 24, Queued: 0, Running: 1, Failed: 0)########################################----------]  80.0% ..Running (Completed: 24, Queued: 0, Running: 1, Failed: 0)########################################----------]  80.0% ..Running (Completed: 24, Queued: 0, Running: 1, Failed: 0)########################################----------]  80.0% ..Running (Completed: 24, Queued: 0, Running: 1, Failed: 0)########################################----------]  80.0% ..Running (Completed: 24, Queued: 0, Running: 1, Failed: 0)########################################----------]  80.0% ..Running (Completed: 24, Queued: 0, Running: 1, Failed: 0)########################################----------]  80.0% ..Running (Completed: 24, Queued: 0, Running: 1, Failed: 0)########################################----------]  80.0% ..Running (Completed: 24, Queued: 0, Running: 1, Failed: 0)########################################----------]  80.0% ..Running (Completed: 24, Queued: 0, Running: 1, Failed: 0)########################################----------]  80.0% ..Running (Completed: 24, Queued: 0, Running: 1, Failed: 0)########################################----------]  80.0% ..Running (Completed: 24, Queued: 0, Running: 1, Failed: 0)########################################----------]  80.0% ..Running (Completed: 24, Queued: 0, Running: 1, Failed: 0)"
     ]
    }
   ],
   "source": [
    "try:\n",
    "     wf.plan(submit=True)\\\n",
    "        .wait()\\\n",
    "        .analyze()\\\n",
    "        .statistics()\n",
    "except PegasusClientError as e:\n",
    "    print(e.output)"
   ]
  },
  {
   "cell_type": "code",
   "execution_count": null,
   "metadata": {},
   "outputs": [],
   "source": []
  },
  {
   "cell_type": "code",
   "execution_count": null,
   "metadata": {},
   "outputs": [],
   "source": []
  },
  {
   "cell_type": "code",
   "execution_count": null,
   "metadata": {},
   "outputs": [],
   "source": []
  },
  {
   "cell_type": "code",
   "execution_count": null,
   "metadata": {},
   "outputs": [],
   "source": [
    "# augmented_files = []\n",
    "# for f in all_files:\n",
    "#     augmented_files.extend([File(str(f).replace(\"{}\".format(os.path.splitext(str(f))[0]), \"Aug_{}_{}\".format(os.path.splitext(str(f))[0],i))) for i in range(3)])"
   ]
  },
  {
   "cell_type": "code",
   "execution_count": null,
   "metadata": {},
   "outputs": [],
   "source": [
    "# len(augmented_files)"
   ]
  },
  {
   "cell_type": "code",
   "execution_count": null,
   "metadata": {},
   "outputs": [],
   "source": [
    "# len(all_files)"
   ]
  },
  {
   "cell_type": "code",
   "execution_count": null,
   "metadata": {},
   "outputs": [],
   "source": [
    "\n"
   ]
  },
  {
   "cell_type": "code",
   "execution_count": null,
   "metadata": {},
   "outputs": [],
   "source": []
  }
 ],
 "metadata": {
  "kernelspec": {
   "display_name": "Python 3",
   "language": "python",
   "name": "python3"
  },
  "language_info": {
   "codemirror_mode": {
    "name": "ipython",
    "version": 3
   },
   "file_extension": ".py",
   "mimetype": "text/x-python",
   "name": "python",
   "nbconvert_exporter": "python",
   "pygments_lexer": "ipython3",
   "version": "3.6.8"
  }
 },
 "nbformat": 4,
 "nbformat_minor": 4
}
