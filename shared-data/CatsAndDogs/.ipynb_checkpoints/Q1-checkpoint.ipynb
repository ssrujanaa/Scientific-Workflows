{
 "cells": [
  {
   "cell_type": "code",
   "execution_count": 3,
   "metadata": {},
   "outputs": [
    {
     "name": "stdout",
     "output_type": "stream",
     "text": [
      "Dimension of W1: (200, 784)\n",
      "Dimension of W2: (100, 200)\n",
      "Dimension of W3: (10, 100)\n",
      "Dimension of b1: (200,)\n",
      "Dimension of b2: (100,)\n",
      "Dimension of b3: (10,)\n"
     ]
    }
   ],
   "source": [
    "import h5py\n",
    "f = h5py.File('mnist_network_params.hdf5', 'r')\n",
    "list(f)\n",
    "print(\"Dimension of W1:\" ,f['W1'].shape)\n",
    "print(\"Dimension of W2:\" ,f['W2'].shape)\n",
    "print(\"Dimension of W3:\" ,f['W3'].shape)\n",
    "print(\"Dimension of b1:\" ,f['b1'].shape)\n",
    "print(\"Dimension of b2:\" ,f['b2'].shape)\n",
    "print(\"Dimension of b3:\" ,f['b3'].shape)"
   ]
  },
  {
   "cell_type": "code",
   "execution_count": 4,
   "metadata": {},
   "outputs": [],
   "source": [
    "W1 = f['W1'][:]\n",
    "W1 = W1.T\n",
    "W2 = f['W2'][:]\n",
    "W2 = W2.T\n",
    "W3 = f['W3'][:]\n",
    "W3 = W3.T\n",
    "b1 = f['b1'][:]\n",
    "b2 = f['b2'][:]\n",
    "b3 = f['b3'][:]"
   ]
  },
  {
   "cell_type": "code",
   "execution_count": 5,
   "metadata": {},
   "outputs": [
    {
     "name": "stdout",
     "output_type": "stream",
     "text": [
      "Xdata \n",
      " [[0. 0. 0. ... 0. 0. 0.]\n",
      " [0. 0. 0. ... 0. 0. 0.]\n",
      " [0. 0. 0. ... 0. 0. 0.]\n",
      " ...\n",
      " [0. 0. 0. ... 0. 0. 0.]\n",
      " [0. 0. 0. ... 0. 0. 0.]\n",
      " [0. 0. 0. ... 0. 0. 0.]] \n",
      "\n",
      "Ydata \n",
      " [[0. 0. 0. ... 1. 0. 0.]\n",
      " [0. 0. 1. ... 0. 0. 0.]\n",
      " [0. 1. 0. ... 0. 0. 0.]\n",
      " ...\n",
      " [0. 0. 0. ... 0. 0. 0.]\n",
      " [0. 0. 0. ... 0. 0. 0.]\n",
      " [0. 0. 0. ... 0. 0. 0.]]\n"
     ]
    }
   ],
   "source": [
    "f1 = h5py.File('mnist_testdata.hdf5', 'r')\n",
    "list(f1)\n",
    "xdata = f1['xdata'][:]\n",
    "ydata = f1['ydata'][:]\n",
    "print(\"Xdata \\n\",f1['xdata'][:],\"\\n\")\n",
    "print(\"Ydata \\n\",f1['ydata'][:])"
   ]
  },
  {
   "cell_type": "code",
   "execution_count": 6,
   "metadata": {},
   "outputs": [
    {
     "data": {
      "text/plain": [
       "10000"
      ]
     },
     "execution_count": 6,
     "metadata": {},
     "output_type": "execute_result"
    }
   ],
   "source": [
    "x = f1['xdata'][:]\n",
    "y = f1['ydata'][:]\n",
    "len(x)"
   ]
  },
  {
   "cell_type": "code",
   "execution_count": 7,
   "metadata": {},
   "outputs": [
    {
     "name": "stdout",
     "output_type": "stream",
     "text": [
      "(200, 784) (100, 200) (10, 100) (200,) (100,) (10,)\n"
     ]
    }
   ],
   "source": [
    "W1 = f['W1'][:]\n",
    "# W1 = W1.T\n",
    "W2 = f['W2'][:]\n",
    "# W2 = W2.T\n",
    "W3 = f['W3'][:]\n",
    "# W3 = W3.T\n",
    "\n",
    "b1 = f['b1'][:]\n",
    "b2 = f['b2'][:]\n",
    "b3 = f['b3'][:]\n",
    "\n",
    "print(W1.shape,W2.shape,W3.shape,b1.shape,b2.shape,b3.shape)"
   ]
  },
  {
   "cell_type": "code",
   "execution_count": null,
   "metadata": {},
   "outputs": [],
   "source": []
  },
  {
   "cell_type": "code",
   "execution_count": null,
   "metadata": {},
   "outputs": [],
   "source": []
  },
  {
   "cell_type": "code",
   "execution_count": null,
   "metadata": {},
   "outputs": [],
   "source": []
  },
  {
   "cell_type": "code",
   "execution_count": 24,
   "metadata": {},
   "outputs": [
    {
     "data": {
      "text/plain": [
       "[0.09003057317038046, 0.24472847105479764, 0.6652409557748219]"
      ]
     },
     "execution_count": 24,
     "metadata": {},
     "output_type": "execute_result"
    }
   ],
   "source": [
    "def ReLU(x):\n",
    "    return np.maximum(0.0,x)\n",
    "def Softmax(x):\n",
    "    e_x = [np.exp(i)/np.sum(np.exp(x)) for i in x]\n",
    "    return e_x \n",
    "Softmax([0,1,2])"
   ]
  },
  {
   "cell_type": "code",
   "execution_count": 13,
   "metadata": {},
   "outputs": [],
   "source": [
    "def forward_propagation(x):\n",
    "    Z1 = np.dot(W1, x) + b1\n",
    "    A1 = ReLU(Z1)\n",
    "    Z2 = np.dot(W2, A1) + b2\n",
    "    A2 = ReLU(Z2)\n",
    "    Z3 = np.dot(W3, A2) + b3\n",
    "    A3 = Softmax(Z3)\n",
    "    return A3"
   ]
  },
  {
   "cell_type": "code",
   "execution_count": 14,
   "metadata": {},
   "outputs": [],
   "source": [
    "import numpy as np\n",
    "yhat = np.asarray([forward_propagation(x) for x in xdata])"
   ]
  },
  {
   "cell_type": "code",
   "execution_count": 25,
   "metadata": {},
   "outputs": [],
   "source": [
    "def compare(yhat,y):\n",
    "    result = []\n",
    "    a = np.argmax(yhat, axis=1)\n",
    "    b = np.argmax(y,axis = 1)\n",
    "    result = [1 if a[i] == b[i] else 0 for i in range(y.shape[0])]\n",
    "    return result, np.sum(result)"
   ]
  },
  {
   "cell_type": "code",
   "execution_count": 30,
   "metadata": {},
   "outputs": [
    {
     "name": "stdout",
     "output_type": "stream",
     "text": [
      "Correctly Classified: 9790\n",
      "Incorrectly Classified: 210\n"
     ]
    }
   ],
   "source": [
    "a, n = compare(yhat, ydata)\n",
    "print(\"Correctly Classified:\",n)\n",
    "print(\"Incorrectly Classified:\", ydata.shape[0]-n)"
   ]
  },
  {
   "cell_type": "code",
   "execution_count": null,
   "metadata": {},
   "outputs": [],
   "source": []
  },
  {
   "cell_type": "code",
   "execution_count": 31,
   "metadata": {},
   "outputs": [],
   "source": [
    "a = np.asarray(a)\n",
    "b = np.where(a==0)\n",
    "c = np.where(a==1)"
   ]
  },
  {
   "cell_type": "code",
   "execution_count": 33,
   "metadata": {},
   "outputs": [
    {
     "data": {
      "image/png": "[encoded data removed]",
      "text/plain": [
       "<Figure size 432x288 with 1 Axes>"
      ]
     },
     "metadata": {
      "needs_background": "light"
     },
     "output_type": "display_data"
    },
    {
     "name": "stdout",
     "output_type": "stream",
     "text": [
      "Predicted: 6\n",
      "Actual: 5\n"
     ]
    },
    {
     "data": {
      "image/png": "[encoded data removed]",
      "text/plain": [
       "<Figure size 432x288 with 1 Axes>"
      ]
     },
     "metadata": {
      "needs_background": "light"
     },
     "output_type": "display_data"
    },
    {
     "name": "stdout",
     "output_type": "stream",
     "text": [
      "Predicted: 9\n",
      "Actual: 4\n"
     ]
    },
    {
     "data": {
      "image/png": "[encoded data removed]",
      "text/plain": [
       "<Figure size 432x288 with 1 Axes>"
      ]
     },
     "metadata": {
      "needs_background": "light"
     },
     "output_type": "display_data"
    },
    {
     "name": "stdout",
     "output_type": "stream",
     "text": [
      "Predicted: 6\n",
      "Actual: 4\n"
     ]
    },
    {
     "data": {
      "image/png": "[encoded data removed]",
      "text/plain": [
       "<Figure size 432x288 with 1 Axes>"
      ]
     },
     "metadata": {
      "needs_background": "light"
     },
     "output_type": "display_data"
    },
    {
     "name": "stdout",
     "output_type": "stream",
     "text": [
      "Predicted: 7\n",
      "Actual: 2\n"
     ]
    },
    {
     "data": {
      "image/png": "[encoded data removed]",
      "text/plain": [
       "<Figure size 432x288 with 1 Axes>"
      ]
     },
     "metadata": {
      "needs_background": "light"
     },
     "output_type": "display_data"
    },
    {
     "name": "stdout",
     "output_type": "stream",
     "text": [
      "Predicted: 3\n",
      "Actual: 5\n"
     ]
    }
   ],
   "source": [
    "import matplotlib.pyplot as plt\n",
    "for i in b[0][:5]:\n",
    "    plt.imshow(xdata[i].reshape(28,28))\n",
    "    plt.show()\n",
    "    print(\"Predicted:\",np.argmax(yhat[i]))\n",
    "    print(\"Actual:\",np.argmax(ydata[i]))"
   ]
  },
  {
   "cell_type": "code",
   "execution_count": null,
   "metadata": {},
   "outputs": [],
   "source": []
  },
  {
   "cell_type": "code",
   "execution_count": null,
   "metadata": {},
   "outputs": [],
   "source": []
  },
  {
   "cell_type": "code",
   "execution_count": null,
   "metadata": {},
   "outputs": [],
   "source": []
  },
  {
   "cell_type": "code",
   "execution_count": null,
   "metadata": {},
   "outputs": [],
   "source": []
  },
  {
   "cell_type": "code",
   "execution_count": null,
   "metadata": {},
   "outputs": [],
   "source": []
  },
  {
   "cell_type": "code",
   "execution_count": null,
   "metadata": {},
   "outputs": [],
   "source": []
  }
 ],
 "metadata": {
  "kernelspec": {
   "display_name": "Python 3",
   "language": "python",
   "name": "python3"
  },
  "language_info": {
   "codemirror_mode": {
    "name": "ipython",
    "version": 3
   },
   "file_extension": ".py",
   "mimetype": "text/x-python",
   "name": "python",
   "nbconvert_exporter": "python",
   "pygments_lexer": "ipython3",
   "version": "3.6.8"
  }
 },
 "nbformat": 4,
 "nbformat_minor": 4
}
