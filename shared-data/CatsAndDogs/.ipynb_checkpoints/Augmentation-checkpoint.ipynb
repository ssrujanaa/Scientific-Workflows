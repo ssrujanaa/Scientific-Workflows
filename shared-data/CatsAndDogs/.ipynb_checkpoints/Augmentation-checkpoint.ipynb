{
 "cells": [
  {
   "cell_type": "code",
   "execution_count": 53,
   "metadata": {},
   "outputs": [],
   "source": [
    "\n",
    "# Importing necessary functions \n",
    "from keras.preprocessing.image import ImageDataGenerator,  array_to_img, img_to_array, load_img \n",
    "from glob import glob\n",
    "resized_images = glob('/home/scitech/shared-data/CatsAndDogs/wf-output/resized_*.jpg')\n",
    "\n",
    "cat_images=[]\n",
    "dog_images=[]\n",
    "for i in range(len(resized_images)):\n",
    "    if 'resized_Cat' in resized_images[i]:\n",
    "        cat_images.append(resized_images[i])\n",
    "    else:\n",
    "        dog_images.append(resized_images[i])\n",
    "        \n",
    "# Initialising the ImageDataGenerator class. \n",
    "# We will pass in the augmentation parameters in the constructor. \n",
    "datagen = ImageDataGenerator( \n",
    "        rotation_range = 40, \n",
    "        shear_range = 0.2, \n",
    "        zoom_range = 0.2, \n",
    "        horizontal_flip = True, \n",
    "        brightness_range = (0.5, 1.5)) \n",
    "\n",
    "for image in cat_images:\n",
    "    # Loading a sample image  \n",
    "    k = 0\n",
    "    img = load_img(image)  \n",
    "    # Converting the input sample image to an array \n",
    "    x = img_to_array(img) \n",
    "    # Reshaping the input image \n",
    "    x = x.reshape((1, ) + x.shape)  \n",
    "\n",
    "    # Generating and saving 5 augmented samples  \n",
    "    # using the above defined parameters.  \n",
    "    i = 0\n",
    "    for batch in datagen.flow(x, batch_size = 1, \n",
    "                              save_to_dir ='/home/scitech/shared-data/CatsAndDogs/wf-output/',  \n",
    "                              save_prefix ='aug_cat', save_format ='jpg'): \n",
    "        k+=1\n",
    "        i += 1\n",
    "        if i > 5: \n",
    "            break\n",
    "            \n",
    "for image in dog_images:\n",
    "    # Loading a sample image  \n",
    "    k = 0\n",
    "    img = load_img(image)  \n",
    "    # Converting the input sample image to an array \n",
    "    x = img_to_array(img) \n",
    "    # Reshaping the input image \n",
    "    x = x.reshape((1, ) + x.shape)  \n",
    "\n",
    "    # Generating and saving 5 augmented samples  \n",
    "    # using the above defined parameters.  \n",
    "    i = 0\n",
    "    for batch in datagen.flow(x, batch_size = 1, \n",
    "                              save_to_dir ='/home/scitech/shared-data/CatsAndDogs/wf-output/',  \n",
    "                              save_prefix ='aug_dog', save_format ='jpg'): \n",
    "        \n",
    "        i += 1\n",
    "        if i > 5: \n",
    "            break\n",
    "        "
   ]
  },
  {
   "cell_type": "code",
   "execution_count": 50,
   "metadata": {},
   "outputs": [],
   "source": [
    "from glob import glob\n",
    "resized_images = glob('/home/scitech/shared-data/CatsAndDogs/wf-output/resized_*.jpg')\n",
    "# with open(resized_images, 'r') as f:\n",
    "#     num = f.read().split('\\n')\n",
    "#     print(num)"
   ]
  },
  {
   "cell_type": "code",
   "execution_count": 18,
   "metadata": {},
   "outputs": [],
   "source": [
    "img  = load_img(resized_images[0])"
   ]
  },
  {
   "cell_type": "code",
   "execution_count": 56,
   "metadata": {},
   "outputs": [],
   "source": [
    "aug_cat = glob('/home/scitech/shared-data/CatsAndDogs/wf-output/aug_cat0_0_*.jpg')"
   ]
  },
  {
   "cell_type": "code",
   "execution_count": 57,
   "metadata": {},
   "outputs": [
    {
     "data": {
      "text/plain": [
       "578"
      ]
     },
     "execution_count": 57,
     "metadata": {},
     "output_type": "execute_result"
    }
   ],
   "source": [
    "len(aug_cat)"
   ]
  },
  {
   "cell_type": "code",
   "execution_count": 58,
   "metadata": {},
   "outputs": [],
   "source": [
    "aug_dog = glob('/home/scitech/shared-data/CatsAndDogs/wf-output/aug_dog0_0_*.jpg')"
   ]
  },
  {
   "cell_type": "code",
   "execution_count": 59,
   "metadata": {},
   "outputs": [
    {
     "data": {
      "text/plain": [
       "574"
      ]
     },
     "execution_count": 59,
     "metadata": {},
     "output_type": "execute_result"
    }
   ],
   "source": [
    "len(aug_dog)"
   ]
  },
  {
   "cell_type": "code",
   "execution_count": null,
   "metadata": {},
   "outputs": [],
   "source": []
  }
 ],
 "metadata": {
  "kernelspec": {
   "display_name": "Python 3",
   "language": "python",
   "name": "python3"
  },
  "language_info": {
   "codemirror_mode": {
    "name": "ipython",
    "version": 3
   },
   "file_extension": ".py",
   "mimetype": "text/x-python",
   "name": "python",
   "nbconvert_exporter": "python",
   "pygments_lexer": "ipython3",
   "version": "3.6.8"
  }
 },
 "nbformat": 4,
 "nbformat_minor": 4
}
