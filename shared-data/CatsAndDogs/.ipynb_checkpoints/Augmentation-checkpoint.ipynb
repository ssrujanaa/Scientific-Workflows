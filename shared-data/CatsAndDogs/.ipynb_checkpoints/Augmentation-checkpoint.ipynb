{
 "cells": [
  {
   "cell_type": "code",
   "execution_count": 95,
   "metadata": {},
   "outputs": [],
   "source": [
    "\n",
    "from keras.preprocessing.image import ImageDataGenerator,  array_to_img, img_to_array, load_img \n",
    "from glob import glob\n",
    "import os\n",
    "resized_images = glob('resized_*.jpg')\n",
    "labels_txt = 'labels.txt'\n",
    "\n",
    "cat_images=[]\n",
    "dog_images=[]\n",
    "labels=[]\n",
    "\n",
    "\n",
    "def replace_filename(input, pattern, replaceWith): \n",
    "    return input.replace(pattern, replaceWith) \n",
    "\n",
    "for i in range(len(resized_images)):\n",
    "    if 'resized_Cat' in resized_images[i]:\n",
    "        cat_images.append(resized_images[i])\n",
    "    else:\n",
    "        dog_images.append(resized_images[i])\n",
    "        \n",
    "datagen = ImageDataGenerator( rescale=1./255,\n",
    "        rotation_range = 40, \n",
    "#         shear_range = 0.2, \n",
    "#         zoom_range = 0.2, \n",
    "        horizontal_flip = True, \n",
    "        brightness_range = (0.5, 1.5)) \n",
    "\n",
    "for image in cat_images:\n",
    "    num = 1.0\n",
    "    img = load_img(image)  \n",
    "    x = img_to_array(img) \n",
    "    x = x.reshape((1, ) + x.shape)  \n",
    "    # Generating and saving 5 augmented samples  \n",
    "    i = 0\n",
    "    for batch in datagen.flow(x, batch_size = 1,save_prefix ='Aug_' + os.path.splitext(image)[0] + '_' + str(i), save_format ='jpg'): \n",
    "        i += 1\n",
    "        labels.append(num)\n",
    "        if i > 2: \n",
    "            break\n",
    "            \n",
    "for image in dog_images:\n",
    "    num = 1.0\n",
    "    img = load_img(image)  \n",
    "    x = img_to_array(img) \n",
    "    x = x.reshape((1, ) + x.shape)  \n",
    "    # Generating and saving 5 augmented samples  \n",
    "    i = 0\n",
    "    for batch in datagen.flow(x, batch_size = 1,save_prefix= 'Aug_' + os.path.splitext(image)[0] + '_' + str(i), save_format ='jpg'): \n",
    "        i += 1\n",
    "        labels.append(num)\n",
    "        if i > 2: \n",
    "            break\n",
    "            \n",
    "aug_cat = glob('Aug_resized_Cat*.jpg')\n",
    "aug_dog = glob('Aug_resized_Dog*.jpg')\n",
    "aug_images = aug_cat + aug_dog\n",
    "\n",
    "aug_images_txt = 'augmentation.txt'\n",
    "aug_labels_txt = 'aug_labels.txt'\n",
    "\n",
    "aug_cat.sort()\n",
    "for n in range(len(cat_images)):\n",
    "    k = 0\n",
    "    for m in range(len(aug_cat)):\n",
    "        if os.path.splitext(cat_images[n])[0] in aug_cat[m]:\n",
    "            photo = load_img(aug_cat[m])\n",
    "            photo.save('Aug_'+ os.path.splitext(cat_images[n])[0] + '_' + str(k) + '.jpg', 'JPEG', quality=90)\n",
    "            q.append('Aug_'+ os.path.splitext(cat_images[n])[0] + '_' + str(k) + '.jpg')\n",
    "            k+=1\n",
    "            \n",
    "aug_dog.sort()\n",
    "for n in range(len(dog_images)):\n",
    "    k = 0\n",
    "    for m in range(len(aug_dog)):\n",
    "        if os.path.splitext(dog_images[n])[0] in aug_dog[m]:\n",
    "            photo = load_img(aug_dog[m])\n",
    "            photo.save('Aug_'+ os.path.splitext(dog_images[n])[0] + '_' + str(k) + '.jpg', 'JPEG', quality=90)\n",
    "            q.append('Aug_'+ os.path.splitext(dog_images[n])[0] + '_' + str(k) + '.jpg')\n",
    "            k+=1 \n",
    "            \n",
    "with open(aug_images_txt, 'w') as f:\n",
    "    for item in aug_images:\n",
    "        f.write(\"%s\\n\" % item)\n",
    "        \n",
    "with open(aug_labels_txt, 'w') as f:\n",
    "    for item in labels:\n",
    "        f.write(\"%s\\n\" % item)\n"
   ]
  },
  {
   "cell_type": "code",
   "execution_count": 12,
   "metadata": {},
   "outputs": [
    {
     "data": {
      "text/plain": [
       "'/home/scitech/shared-data/CatsAndDogs/wf-output/Aug_Dog87.jpg'"
      ]
     },
     "execution_count": 12,
     "metadata": {},
     "output_type": "execute_result"
    }
   ],
   "source": [
    "replace_filename(dog_images[i],'resized_Dog','Aug_Dog')"
   ]
  },
  {
   "cell_type": "code",
   "execution_count": 39,
   "metadata": {},
   "outputs": [],
   "source": [
    "for i in range(len(aug_cat)):\n",
    "    photo = load_img(aug_cat[i])\n",
    "    photo.save('Aug_Cat'+ str(i) + '.jpg', 'JPEG', quality=90)"
   ]
  },
  {
   "cell_type": "code",
   "execution_count": 42,
   "metadata": {},
   "outputs": [],
   "source": [
    "resized_images = glob('resized_*.jpg')\n",
    "labels_txt = 'labels.txt'\n",
    "\n",
    "cat_images=[]\n",
    "dog_images=[]\n",
    "labels=[]\n",
    "\n",
    "def replace_filename(input, pattern, replaceWith): \n",
    "    return input.replace(pattern, replaceWith) \n",
    "\n",
    "for i in range(len(resized_images)):\n",
    "    if 'resized_Cat' in resized_images[i]:\n",
    "        cat_images.append(resized_images[i])\n",
    "    else:\n",
    "        dog_images.append(resized_images[i])\n",
    "        "
   ]
  },
  {
   "cell_type": "code",
   "execution_count": 94,
   "metadata": {},
   "outputs": [],
   "source": [
    "aug_dog.sort()\n",
    "for n in range(len(dog_images)):\n",
    "    k = 0\n",
    "    for m in range(len(aug_dog)):\n",
    "        if os.path.splitext(dog_images[n])[0] in aug_dog[m]:\n",
    "            photo = load_img(aug_cat[m])\n",
    "            photo.save('Aug_'+ os.path.splitext(dog_images[n])[0] + '_' + str(k) + '.jpg', 'JPEG', quality=90)\n",
    "            q.append('Aug_'+ os.path.splitext(dog_images[n])[0] + '_' + str(k) + '.jpg')\n",
    "            k+=1"
   ]
  },
  {
   "cell_type": "code",
   "execution_count": 91,
   "metadata": {},
   "outputs": [
    {
     "data": {
      "text/plain": [
       "['Aug_resized_Dog0_0_0_6290.jpg',\n",
       " 'Aug_resized_Dog0_0_0_7089.jpg',\n",
       " 'Aug_resized_Dog0_0_0_7295.jpg',\n",
       " 'Aug_resized_Dog1_0_0_1845.jpg',\n",
       " 'Aug_resized_Dog1_0_0_2516.jpg',\n",
       " 'Aug_resized_Dog1_0_0_9431.jpg']"
      ]
     },
     "execution_count": 91,
     "metadata": {},
     "output_type": "execute_result"
    }
   ],
   "source": [
    "aug_dog.sort()\n",
    "aug_dog"
   ]
  },
  {
   "cell_type": "code",
   "execution_count": 78,
   "metadata": {},
   "outputs": [
    {
     "data": {
      "text/plain": [
       "['resized_Dog1.jpg', 'resized_Dog0.jpg']"
      ]
     },
     "execution_count": 78,
     "metadata": {},
     "output_type": "execute_result"
    }
   ],
   "source": [
    "dog_images"
   ]
  },
  {
   "cell_type": "code",
   "execution_count": 79,
   "metadata": {},
   "outputs": [
    {
     "data": {
      "text/plain": [
       "'resized_Dog1'"
      ]
     },
     "execution_count": 79,
     "metadata": {},
     "output_type": "execute_result"
    }
   ],
   "source": [
    "os.path.splitext(dog_images[0])[0]"
   ]
  },
  {
   "cell_type": "code",
   "execution_count": null,
   "metadata": {},
   "outputs": [],
   "source": []
  }
 ],
 "metadata": {
  "kernelspec": {
   "display_name": "Python 3",
   "language": "python",
   "name": "python3"
  },
  "language_info": {
   "codemirror_mode": {
    "name": "ipython",
    "version": 3
   },
   "file_extension": ".py",
   "mimetype": "text/x-python",
   "name": "python",
   "nbconvert_exporter": "python",
   "pygments_lexer": "ipython3",
   "version": "3.6.8"
  }
 },
 "nbformat": 4,
 "nbformat_minor": 4
}
