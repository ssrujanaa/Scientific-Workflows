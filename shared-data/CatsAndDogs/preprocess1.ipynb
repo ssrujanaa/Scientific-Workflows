{
 "cells": [
  {
   "cell_type": "code",
   "execution_count": 1,
   "metadata": {
    "scrolled": true
   },
   "outputs": [
    {
     "name": "stdout",
     "output_type": "stream",
     "text": [
      "\u001b[33mWARNING: Running pip install with root privileges is generally not a good idea. Try `pip3 install --user` instead.\u001b[0m\n",
      "Collecting keras==2.1.5\n",
      "  Downloading https://files.pythonhosted.org/packages/ba/65/e4aff762b8696ec0626a6654b1e73b396fcc8b7cc6b98d78a1bc53b85b48/Keras-2.1.5-py2.py3-none-any.whl (334kB)\n",
      "\u001b[K    100% |████████████████████████████████| 337kB 2.4MB/s ta 0:00:01\n",
      "\u001b[?25hCollecting tensorflow\n",
      "  Downloading https://files.pythonhosted.org/packages/de/f0/96fb2e0412ae9692dbf400e5b04432885f677ad6241c088ccc5fe7724d69/tensorflow-1.14.0-cp36-cp36m-manylinux1_x86_64.whl (109.2MB)\n",
      "\u001b[K    100% |████████████████████████████████| 109.2MB 15kB/s  eta 0:00:01 5% |█▊                              | 6.0MB 11.6MB/s eta 0:00:09    59% |███████████████████▏            | 65.3MB 37.2MB/s eta 0:00:02\n",
      "\u001b[?25hCollecting numpy\n",
      "  Downloading https://files.pythonhosted.org/packages/22/e7/4b2bdddb99f5f631d8c1de259897c2b7d65dcfcc1e0a6fd17a7f62923500/numpy-1.19.1-cp36-cp36m-manylinux1_x86_64.whl (13.4MB)\n",
      "\u001b[K    100% |████████████████████████████████| 13.4MB 126kB/s eta 0:00:01   29% |█████████▍                      | 3.9MB 6.6MB/s eta 0:00:02\n",
      "\u001b[?25hCollecting pandas\n",
      "  Downloading https://files.pythonhosted.org/packages/a7/f7/2adca20a7fa71b6a32f823bbd83992adeceab1d8bf72992bb7a55c69c19a/pandas-1.1.0-cp36-cp36m-manylinux1_x86_64.whl (10.5MB)\n",
      "\u001b[K    100% |████████████████████████████████| 10.5MB 160kB/s ta 0:00:011   94% |██████████████████████████████▎ | 9.9MB 20.4MB/s eta 0:00:01\n",
      "\u001b[?25hCollecting pillow\n",
      "  Downloading https://files.pythonhosted.org/packages/30/bf/92385b4262178ca22b34f82e0e09c2922eb351fe39f3cc7b8ba9ea555b41/Pillow-7.2.0-cp36-cp36m-manylinux1_x86_64.whl (2.2MB)\n",
      "\u001b[K    100% |████████████████████████████████| 2.2MB 776kB/s eta 0:00:01\n",
      "\u001b[?25hCollecting opencv--python\n",
      "  Downloading https://files.pythonhosted.org/packages/72/c2/e9cf54ae5b1102020ef895866a67cb2e1aef72f16dd1fde5b5fb1495ad9c/opencv_python-4.2.0.34-cp36-cp36m-manylinux1_x86_64.whl (28.2MB)\n",
      "\u001b[K    100% |████████████████████████████████| 28.2MB 58kB/s  eta 0:00:01\n",
      "\u001b[?25hCollecting scipy>=0.14 (from keras==2.1.5)\n",
      "  Downloading https://files.pythonhosted.org/packages/2b/a8/f4c66eb529bb252d50e83dbf2909c6502e2f857550f22571ed8556f62d95/scipy-1.5.2-cp36-cp36m-manylinux1_x86_64.whl (25.9MB)\n",
      "\u001b[K    100% |████████████████████████████████| 25.9MB 62kB/s  eta 0:00:01\n",
      "\u001b[?25hRequirement already satisfied: six>=1.9.0 in /usr/lib/python3.6/site-packages (from keras==2.1.5)\n",
      "Requirement already satisfied: pyyaml in /usr/lib64/python3.6/site-packages (from keras==2.1.5)\n",
      "Collecting tensorboard<1.15.0,>=1.14.0 (from tensorflow)\n",
      "  Downloading https://files.pythonhosted.org/packages/91/2d/2ed263449a078cd9c8a9ba50ebd50123adf1f8cfbea1492f9084169b89d9/tensorboard-1.14.0-py3-none-any.whl (3.1MB)\n",
      "\u001b[K    100% |████████████████████████████████| 3.2MB 506kB/s eta 0:00:01\n",
      "\u001b[?25hCollecting wheel>=0.26 (from tensorflow)\n",
      "  Downloading https://files.pythonhosted.org/packages/8c/23/848298cccf8e40f5bbb59009b32848a4c38f4e7f3364297ab3c3e2e2cd14/wheel-0.34.2-py2.py3-none-any.whl\n",
      "Collecting keras-preprocessing>=1.0.5 (from tensorflow)\n",
      "  Downloading https://files.pythonhosted.org/packages/79/4c/7c3275a01e12ef9368a892926ab932b33bb13d55794881e3573482b378a7/Keras_Preprocessing-1.1.2-py2.py3-none-any.whl (42kB)\n",
      "\u001b[K    100% |████████████████████████████████| 51kB 7.8MB/s eta 0:00:01\n",
      "\u001b[?25hCollecting protobuf>=3.6.1 (from tensorflow)\n",
      "  Downloading https://files.pythonhosted.org/packages/63/14/dc43f81adc543c435cfeb45dd4ac048a97a1eb621c2ccb68ab3d15118737/protobuf-3.12.4-cp36-cp36m-manylinux1_x86_64.whl (1.3MB)\n",
      "\u001b[K    100% |████████████████████████████████| 1.3MB 1.3MB/s eta 0:00:01\n",
      "\u001b[?25hCollecting termcolor>=1.1.0 (from tensorflow)\n",
      "  Downloading https://files.pythonhosted.org/packages/8a/48/a76be51647d0eb9f10e2a4511bf3ffb8cc1e6b14e9e4fab46173aa79f981/termcolor-1.1.0.tar.gz\n",
      "Collecting gast>=0.2.0 (from tensorflow)\n",
      "  Downloading https://files.pythonhosted.org/packages/d6/84/759f5dd23fec8ba71952d97bcc7e2c9d7d63bdc582421f3cd4be845f0c98/gast-0.3.3-py2.py3-none-any.whl\n",
      "Collecting wrapt>=1.11.1 (from tensorflow)\n",
      "  Downloading https://files.pythonhosted.org/packages/82/f7/e43cefbe88c5fd371f4cf0cf5eb3feccd07515af9fd6cf7dbf1d1793a797/wrapt-1.12.1.tar.gz\n",
      "Collecting google-pasta>=0.1.6 (from tensorflow)\n",
      "  Downloading https://files.pythonhosted.org/packages/a3/de/c648ef6835192e6e2cc03f40b19eeda4382c49b5bafb43d88b931c4c74ac/google_pasta-0.2.0-py3-none-any.whl (57kB)\n",
      "\u001b[K    100% |████████████████████████████████| 61kB 8.0MB/s eta 0:00:01\n",
      "\u001b[?25hCollecting absl-py>=0.7.0 (from tensorflow)\n",
      "  Downloading https://files.pythonhosted.org/packages/1a/53/9243c600e047bd4c3df9e69cfabc1e8004a82cac2e0c484580a78a94ba2a/absl-py-0.9.0.tar.gz (104kB)\n",
      "\u001b[K    100% |████████████████████████████████| 112kB 8.8MB/s eta 0:00:01\n",
      "\u001b[?25hCollecting grpcio>=1.8.6 (from tensorflow)\n",
      "  Downloading https://files.pythonhosted.org/packages/5e/29/1bd649737e427a6bb850174293b4f2b72ab80dd49462142db9b81e1e5c7b/grpcio-1.30.0.tar.gz (19.7MB)\n",
      "\u001b[K    100% |████████████████████████████████| 19.7MB 82kB/s  eta 0:00:01\n",
      "\u001b[?25hCollecting astor>=0.6.0 (from tensorflow)\n",
      "  Downloading https://files.pythonhosted.org/packages/c3/88/97eef84f48fa04fbd6750e62dcceafba6c63c81b7ac1420856c8dcc0a3f9/astor-0.8.1-py2.py3-none-any.whl\n",
      "Collecting tensorflow-estimator<1.15.0rc0,>=1.14.0rc0 (from tensorflow)\n",
      "  Downloading https://files.pythonhosted.org/packages/3c/d5/21860a5b11caf0678fbc8319341b0ae21a07156911132e0e71bffed0510d/tensorflow_estimator-1.14.0-py2.py3-none-any.whl (488kB)\n",
      "\u001b[K    100% |████████████████████████████████| 491kB 2.8MB/s eta 0:00:01\n",
      "\u001b[?25hCollecting keras-applications>=1.0.6 (from tensorflow)\n",
      "  Downloading https://files.pythonhosted.org/packages/71/e3/19762fdfc62877ae9102edf6342d71b28fbfd9dea3d2f96a882ce099b03f/Keras_Applications-1.0.8-py3-none-any.whl (50kB)\n",
      "\u001b[K    100% |████████████████████████████████| 51kB 8.2MB/s eta 0:00:01\n",
      "\u001b[?25hRequirement already satisfied: python-dateutil>=2.7.3 in /usr/local/lib/python3.6/site-packages (from pandas)\n",
      "Requirement already satisfied: pytz>=2017.2 in /usr/local/lib/python3.6/site-packages (from pandas)\n",
      "Collecting werkzeug>=0.11.15 (from tensorboard<1.15.0,>=1.14.0->tensorflow)\n",
      "  Downloading https://files.pythonhosted.org/packages/cc/94/5f7079a0e00bd6863ef8f1da638721e9da21e5bacee597595b318f71d62e/Werkzeug-1.0.1-py2.py3-none-any.whl (298kB)\n",
      "\u001b[K    100% |████████████████████████████████| 307kB 5.1MB/s eta 0:00:01\n",
      "\u001b[?25hCollecting setuptools>=41.0.0 (from tensorboard<1.15.0,>=1.14.0->tensorflow)\n",
      "  Downloading https://files.pythonhosted.org/packages/8e/11/9e10f1cad4518cb307b484c255cae61e97f05b82f6d536932b1714e01b47/setuptools-49.2.0-py3-none-any.whl (789kB)\n",
      "\u001b[K    100% |████████████████████████████████| 798kB 2.0MB/s eta 0:00:01\n",
      "\u001b[?25hCollecting markdown>=2.6.8 (from tensorboard<1.15.0,>=1.14.0->tensorflow)\n",
      "  Downloading https://files.pythonhosted.org/packages/a4/63/eaec2bd025ab48c754b55e8819af0f6a69e2b1e187611dd40cbbe101ee7f/Markdown-3.2.2-py3-none-any.whl (88kB)\n",
      "\u001b[K    100% |████████████████████████████████| 92kB 6.7MB/s eta 0:00:01\n",
      "\u001b[?25hCollecting h5py (from keras-applications>=1.0.6->tensorflow)\n",
      "  Downloading https://files.pythonhosted.org/packages/60/06/cafdd44889200e5438b897388f3075b52a8ef01f28a17366d91de0fa2d05/h5py-2.10.0-cp36-cp36m-manylinux1_x86_64.whl (2.9MB)\n",
      "\u001b[K    100% |████████████████████████████████| 2.9MB 576kB/s eta 0:00:01\n",
      "\u001b[?25hRequirement already satisfied: importlib-metadata; python_version < \"3.8\" in /usr/local/lib/python3.6/site-packages (from markdown>=2.6.8->tensorboard<1.15.0,>=1.14.0->tensorflow)\n",
      "Requirement already satisfied: zipp>=0.5 in /usr/local/lib/python3.6/site-packages (from importlib-metadata; python_version < \"3.8\"->markdown>=2.6.8->tensorboard<1.15.0,>=1.14.0->tensorflow)\n",
      "Installing collected packages: numpy, scipy, keras, wheel, absl-py, grpcio, werkzeug, setuptools, markdown, protobuf, tensorboard, keras-preprocessing, termcolor, gast, wrapt, google-pasta, astor, tensorflow-estimator, h5py, keras-applications, tensorflow, pandas, pillow, opencv-python\n",
      "  Running setup.py install for absl-py ... \u001b[?25ldone\n",
      "\u001b[?25h  Running setup.py install for grpcio ... \u001b[?25ldone\n",
      "\u001b[?25h  Running setup.py install for termcolor ... \u001b[?25ldone\n",
      "\u001b[?25h  Running setup.py install for wrapt ... \u001b[?25ldone\n",
      "\u001b[?25hSuccessfully installed absl-py-0.9.0 astor-0.8.1 gast-0.3.3 google-pasta-0.2.0 grpcio-1.30.0 h5py-2.10.0 keras-2.1.5 keras-applications-1.0.8 keras-preprocessing-1.1.2 markdown-3.2.2 numpy-1.19.1 opencv-python-4.2.0.34 pandas-1.1.0 pillow-7.2.0 protobuf-3.12.4 scipy-1.5.2 setuptools-49.2.0 tensorboard-1.14.0 tensorflow-1.14.0 tensorflow-estimator-1.14.0 termcolor-1.1.0 werkzeug-1.0.1 wheel-0.34.2 wrapt-1.12.1\n"
     ]
    }
   ],
   "source": [
    "#!/usr/bin/env python3\n",
    "!sudo pip3 install keras==2.1.5 tensorflow numpy pandas pillow opencv--python "
   ]
  },
  {
   "cell_type": "code",
   "execution_count": 3,
   "metadata": {
    "scrolled": true
   },
   "outputs": [],
   "source": [
    "#!/usr/bin/env python3\n",
    "from os import listdir\n",
    "from numpy import asarray\n",
    "from numpy import save\n",
    "from glob import glob\n",
    "import numpy as np\n",
    "import tensorflow as tf\n",
    "from keras.preprocessing.image import load_img\n",
    "from keras.preprocessing.image import img_to_array\n",
    "import sys\n",
    "import cv2 as cv\n",
    "import os\n",
    "import sys\n",
    "from glob import glob\n",
    "cwd = os.getcwd()\n",
    "\n",
    "\n",
    "input_files = glob('images/*.jpg')\n",
    "norm_img = np.zeros((800,800))\n",
    "photos, labels = list(), list()\n",
    "cat_files =[]\n",
    "dog_files =[]\n",
    "c=0\n",
    "d=0\n",
    "\n",
    "for i in range(len(input_files)):\n",
    "    if 'Cat' in input_files[i]:\n",
    "        cat_files.append(input_files[i])\n",
    "        output = 1.0\n",
    "        photo = load_img(input_files[i], target_size=(200, 200))\n",
    "#         photo = cv.normalize(photo, norm_img, 0, 255, cv.NORM_MINMAX)\n",
    "        photo.save('resized_Cat'+ str(c) + '.jpg', 'JPEG', quality=90)\n",
    "        photos.append(photo)\n",
    "        labels.append(output)\n",
    "        c+=1\n",
    "    else:\n",
    "        dog_files.append(input_files[i]) \n",
    "        output = 0.0\n",
    "        photo = load_img(input_files[i], target_size=(200, 200))\n",
    "        photo.save('resized_Dog'+ str(d) + '.jpg', 'JPEG', quality=90)\n",
    "    #     photo = img_to_array(photo)\n",
    "        photos.append(photo)\n",
    "        labels.append(output)   \n",
    "        d+=1\n",
    "    \n",
    "with open('resized_images.txt', 'w') as f:\n",
    "    for item in photos:\n",
    "        f.write(\"%s\\n\" % item)\n",
    "\n",
    "with open('labels.txt', 'w') as f:\n",
    "    for item in labels:\n",
    "        f.write(\"%s\\n\" % item)"
   ]
  },
  {
   "cell_type": "code",
   "execution_count": 6,
   "metadata": {},
   "outputs": [],
   "source": [
    "p = load_img('resized_Dog23.jpg')"
   ]
  },
  {
   "cell_type": "code",
   "execution_count": 7,
   "metadata": {},
   "outputs": [
    {
     "data": {
      "image/png": "[encoded data removed]",
      "text/plain": [
       "<PIL.JpegImagePlugin.JpegImageFile image mode=RGB size=200x200 at 0x7F63D40D0438>"
      ]
     },
     "execution_count": 7,
     "metadata": {},
     "output_type": "execute_result"
    }
   ],
   "source": [
    "p"
   ]
  },
  {
   "cell_type": "code",
   "execution_count": 4,
   "metadata": {},
   "outputs": [],
   "source": [
    "import os\n",
    "import sys\n",
    "from glob import glob\n",
    "cwd = os.getcwd()"
   ]
  },
  {
   "cell_type": "code",
   "execution_count": 13,
   "metadata": {},
   "outputs": [],
   "source": [
    "p = glob(cwd + '/wf-output/resized_*.jpg')"
   ]
  },
  {
   "cell_type": "code",
   "execution_count": 15,
   "metadata": {},
   "outputs": [
    {
     "data": {
      "text/plain": [
       "['/home/scitech/shared-data/CatsAndDogs/wf-output/resized_Cat35.jpg',\n",
       " '/home/scitech/shared-data/CatsAndDogs/wf-output/resized_Cat21.jpg',\n",
       " '/home/scitech/shared-data/CatsAndDogs/wf-output/resized_Dog79.jpg',\n",
       " '/home/scitech/shared-data/CatsAndDogs/wf-output/resized_Dog45.jpg',\n",
       " '/home/scitech/shared-data/CatsAndDogs/wf-output/resized_Dog51.jpg',\n",
       " '/home/scitech/shared-data/CatsAndDogs/wf-output/resized_Dog86.jpg',\n",
       " '/home/scitech/shared-data/CatsAndDogs/wf-output/resized_Dog92.jpg',\n",
       " '/home/scitech/shared-data/CatsAndDogs/wf-output/resized_Dog93.jpg',\n",
       " '/home/scitech/shared-data/CatsAndDogs/wf-output/resized_Dog87.jpg',\n",
       " '/home/scitech/shared-data/CatsAndDogs/wf-output/resized_Dog50.jpg',\n",
       " '/home/scitech/shared-data/CatsAndDogs/wf-output/resized_Dog44.jpg',\n",
       " '/home/scitech/shared-data/CatsAndDogs/wf-output/resized_Dog78.jpg',\n",
       " '/home/scitech/shared-data/CatsAndDogs/wf-output/resized_Cat20.jpg',\n",
       " '/home/scitech/shared-data/CatsAndDogs/wf-output/resized_Cat34.jpg',\n",
       " '/home/scitech/shared-data/CatsAndDogs/wf-output/resized_Cat22.jpg',\n",
       " '/home/scitech/shared-data/CatsAndDogs/wf-output/resized_Cat36.jpg',\n",
       " '/home/scitech/shared-data/CatsAndDogs/wf-output/resized_Dog52.jpg',\n",
       " '/home/scitech/shared-data/CatsAndDogs/wf-output/resized_Dog46.jpg',\n",
       " '/home/scitech/shared-data/CatsAndDogs/wf-output/resized_Dog91.jpg',\n",
       " '/home/scitech/shared-data/CatsAndDogs/wf-output/resized_Dog85.jpg',\n",
       " '/home/scitech/shared-data/CatsAndDogs/wf-output/resized_Dog84.jpg',\n",
       " '/home/scitech/shared-data/CatsAndDogs/wf-output/resized_Dog90.jpg',\n",
       " '/home/scitech/shared-data/CatsAndDogs/wf-output/resized_Dog47.jpg',\n",
       " '/home/scitech/shared-data/CatsAndDogs/wf-output/resized_Dog53.jpg',\n",
       " '/home/scitech/shared-data/CatsAndDogs/wf-output/resized_Cat37.jpg',\n",
       " '/home/scitech/shared-data/CatsAndDogs/wf-output/resized_Cat23.jpg',\n",
       " '/home/scitech/shared-data/CatsAndDogs/wf-output/resized_Cat27.jpg',\n",
       " '/home/scitech/shared-data/CatsAndDogs/wf-output/resized_Cat33.jpg',\n",
       " '/home/scitech/shared-data/CatsAndDogs/wf-output/resized_Cat9.jpg',\n",
       " '/home/scitech/shared-data/CatsAndDogs/wf-output/resized_Dog57.jpg',\n",
       " '/home/scitech/shared-data/CatsAndDogs/wf-output/resized_Dog43.jpg',\n",
       " '/home/scitech/shared-data/CatsAndDogs/wf-output/resized_Dog94.jpg',\n",
       " '/home/scitech/shared-data/CatsAndDogs/wf-output/resized_Dog80.jpg',\n",
       " '/home/scitech/shared-data/CatsAndDogs/wf-output/resized_Dog81.jpg',\n",
       " '/home/scitech/shared-data/CatsAndDogs/wf-output/resized_Dog95.jpg',\n",
       " '/home/scitech/shared-data/CatsAndDogs/wf-output/resized_Dog42.jpg',\n",
       " '/home/scitech/shared-data/CatsAndDogs/wf-output/resized_Dog56.jpg',\n",
       " '/home/scitech/shared-data/CatsAndDogs/wf-output/resized_Cat8.jpg',\n",
       " '/home/scitech/shared-data/CatsAndDogs/wf-output/resized_Cat32.jpg',\n",
       " '/home/scitech/shared-data/CatsAndDogs/wf-output/resized_Cat26.jpg',\n",
       " '/home/scitech/shared-data/CatsAndDogs/wf-output/resized_Cat18.jpg',\n",
       " '/home/scitech/shared-data/CatsAndDogs/wf-output/resized_Cat30.jpg',\n",
       " '/home/scitech/shared-data/CatsAndDogs/wf-output/resized_Cat24.jpg',\n",
       " '/home/scitech/shared-data/CatsAndDogs/wf-output/resized_Dog40.jpg',\n",
       " '/home/scitech/shared-data/CatsAndDogs/wf-output/resized_Dog54.jpg',\n",
       " '/home/scitech/shared-data/CatsAndDogs/wf-output/resized_Dog68.jpg',\n",
       " '/home/scitech/shared-data/CatsAndDogs/wf-output/resized_Dog83.jpg',\n",
       " '/home/scitech/shared-data/CatsAndDogs/wf-output/resized_Dog97.jpg',\n",
       " '/home/scitech/shared-data/CatsAndDogs/wf-output/resized_Dog96.jpg',\n",
       " '/home/scitech/shared-data/CatsAndDogs/wf-output/resized_Dog82.jpg',\n",
       " '/home/scitech/shared-data/CatsAndDogs/wf-output/resized_Dog69.jpg',\n",
       " '/home/scitech/shared-data/CatsAndDogs/wf-output/resized_Dog55.jpg',\n",
       " '/home/scitech/shared-data/CatsAndDogs/wf-output/resized_Dog41.jpg',\n",
       " '/home/scitech/shared-data/CatsAndDogs/wf-output/resized_Cat25.jpg',\n",
       " '/home/scitech/shared-data/CatsAndDogs/wf-output/resized_Cat31.jpg',\n",
       " '/home/scitech/shared-data/CatsAndDogs/wf-output/resized_Cat19.jpg',\n",
       " '/home/scitech/shared-data/CatsAndDogs/wf-output/resized_Cat95.jpg',\n",
       " '/home/scitech/shared-data/CatsAndDogs/wf-output/resized_Cat81.jpg',\n",
       " '/home/scitech/shared-data/CatsAndDogs/wf-output/resized_Cat56.jpg',\n",
       " '/home/scitech/shared-data/CatsAndDogs/wf-output/resized_Cat42.jpg',\n",
       " '/home/scitech/shared-data/CatsAndDogs/wf-output/resized_Dog26.jpg',\n",
       " '/home/scitech/shared-data/CatsAndDogs/wf-output/resized_Dog32.jpg',\n",
       " '/home/scitech/shared-data/CatsAndDogs/wf-output/resized_Dog33.jpg',\n",
       " '/home/scitech/shared-data/CatsAndDogs/wf-output/resized_Dog27.jpg',\n",
       " '/home/scitech/shared-data/CatsAndDogs/wf-output/resized_Cat43.jpg',\n",
       " '/home/scitech/shared-data/CatsAndDogs/wf-output/resized_Cat57.jpg',\n",
       " '/home/scitech/shared-data/CatsAndDogs/wf-output/resized_Cat80.jpg',\n",
       " '/home/scitech/shared-data/CatsAndDogs/wf-output/resized_Cat94.jpg',\n",
       " '/home/scitech/shared-data/CatsAndDogs/wf-output/resized_Cat82.jpg',\n",
       " '/home/scitech/shared-data/CatsAndDogs/wf-output/resized_Cat96.jpg',\n",
       " '/home/scitech/shared-data/CatsAndDogs/wf-output/resized_Cat41.jpg',\n",
       " '/home/scitech/shared-data/CatsAndDogs/wf-output/resized_Dog8.jpg',\n",
       " '/home/scitech/shared-data/CatsAndDogs/wf-output/resized_Cat55.jpg',\n",
       " '/home/scitech/shared-data/CatsAndDogs/wf-output/resized_Cat69.jpg',\n",
       " '/home/scitech/shared-data/CatsAndDogs/wf-output/resized_Dog19.jpg',\n",
       " '/home/scitech/shared-data/CatsAndDogs/wf-output/resized_Dog31.jpg',\n",
       " '/home/scitech/shared-data/CatsAndDogs/wf-output/resized_Dog25.jpg',\n",
       " '/home/scitech/shared-data/CatsAndDogs/wf-output/resized_Dog24.jpg',\n",
       " '/home/scitech/shared-data/CatsAndDogs/wf-output/resized_Dog30.jpg',\n",
       " '/home/scitech/shared-data/CatsAndDogs/wf-output/resized_Dog18.jpg',\n",
       " '/home/scitech/shared-data/CatsAndDogs/wf-output/resized_Cat68.jpg',\n",
       " '/home/scitech/shared-data/CatsAndDogs/wf-output/resized_Cat54.jpg',\n",
       " '/home/scitech/shared-data/CatsAndDogs/wf-output/resized_Cat40.jpg',\n",
       " '/home/scitech/shared-data/CatsAndDogs/wf-output/resized_Dog9.jpg',\n",
       " '/home/scitech/shared-data/CatsAndDogs/wf-output/resized_Cat97.jpg',\n",
       " '/home/scitech/shared-data/CatsAndDogs/wf-output/resized_Cat83.jpg',\n",
       " '/home/scitech/shared-data/CatsAndDogs/wf-output/resized_Cat87.jpg',\n",
       " '/home/scitech/shared-data/CatsAndDogs/wf-output/resized_Cat93.jpg',\n",
       " '/home/scitech/shared-data/CatsAndDogs/wf-output/resized_Cat78.jpg',\n",
       " '/home/scitech/shared-data/CatsAndDogs/wf-output/resized_Cat44.jpg',\n",
       " '/home/scitech/shared-data/CatsAndDogs/wf-output/resized_Cat50.jpg',\n",
       " '/home/scitech/shared-data/CatsAndDogs/wf-output/resized_Dog34.jpg',\n",
       " '/home/scitech/shared-data/CatsAndDogs/wf-output/resized_Dog20.jpg',\n",
       " '/home/scitech/shared-data/CatsAndDogs/wf-output/resized_Dog21.jpg',\n",
       " '/home/scitech/shared-data/CatsAndDogs/wf-output/resized_Dog35.jpg',\n",
       " '/home/scitech/shared-data/CatsAndDogs/wf-output/resized_Cat51.jpg',\n",
       " '/home/scitech/shared-data/CatsAndDogs/wf-output/resized_Cat45.jpg',\n",
       " '/home/scitech/shared-data/CatsAndDogs/wf-output/resized_Cat79.jpg',\n",
       " '/home/scitech/shared-data/CatsAndDogs/wf-output/resized_Cat92.jpg',\n",
       " '/home/scitech/shared-data/CatsAndDogs/wf-output/resized_Cat86.jpg',\n",
       " '/home/scitech/shared-data/CatsAndDogs/wf-output/resized_Cat90.jpg',\n",
       " '/home/scitech/shared-data/CatsAndDogs/wf-output/resized_Cat84.jpg',\n",
       " '/home/scitech/shared-data/CatsAndDogs/wf-output/resized_Cat53.jpg',\n",
       " '/home/scitech/shared-data/CatsAndDogs/wf-output/resized_Cat47.jpg',\n",
       " '/home/scitech/shared-data/CatsAndDogs/wf-output/resized_Dog23.jpg',\n",
       " '/home/scitech/shared-data/CatsAndDogs/wf-output/resized_Dog37.jpg',\n",
       " '/home/scitech/shared-data/CatsAndDogs/wf-output/resized_Dog36.jpg',\n",
       " '/home/scitech/shared-data/CatsAndDogs/wf-output/resized_Dog22.jpg',\n",
       " '/home/scitech/shared-data/CatsAndDogs/wf-output/resized_Cat46.jpg',\n",
       " '/home/scitech/shared-data/CatsAndDogs/wf-output/resized_Cat52.jpg',\n",
       " '/home/scitech/shared-data/CatsAndDogs/wf-output/resized_Cat85.jpg',\n",
       " '/home/scitech/shared-data/CatsAndDogs/wf-output/resized_Cat91.jpg',\n",
       " '/home/scitech/shared-data/CatsAndDogs/wf-output/resized_Cat88.jpg',\n",
       " '/home/scitech/shared-data/CatsAndDogs/wf-output/resized_Cat77.jpg',\n",
       " '/home/scitech/shared-data/CatsAndDogs/wf-output/resized_Cat63.jpg',\n",
       " '/home/scitech/shared-data/CatsAndDogs/wf-output/resized_Dog2.jpg',\n",
       " '/home/scitech/shared-data/CatsAndDogs/wf-output/resized_Dog13.jpg',\n",
       " '/home/scitech/shared-data/CatsAndDogs/wf-output/resized_Dog12.jpg',\n",
       " '/home/scitech/shared-data/CatsAndDogs/wf-output/resized_Dog3.jpg',\n",
       " '/home/scitech/shared-data/CatsAndDogs/wf-output/resized_Cat62.jpg',\n",
       " '/home/scitech/shared-data/CatsAndDogs/wf-output/resized_Cat76.jpg',\n",
       " '/home/scitech/shared-data/CatsAndDogs/wf-output/resized_Cat89.jpg',\n",
       " '/home/scitech/shared-data/CatsAndDogs/wf-output/resized_Cat60.jpg',\n",
       " '/home/scitech/shared-data/CatsAndDogs/wf-output/resized_Cat74.jpg',\n",
       " '/home/scitech/shared-data/CatsAndDogs/wf-output/resized_Dog1.jpg',\n",
       " '/home/scitech/shared-data/CatsAndDogs/wf-output/resized_Cat48.jpg',\n",
       " '/home/scitech/shared-data/CatsAndDogs/wf-output/resized_Dog38.jpg',\n",
       " '/home/scitech/shared-data/CatsAndDogs/wf-output/resized_Dog10.jpg',\n",
       " '/home/scitech/shared-data/CatsAndDogs/wf-output/resized_Dog11.jpg',\n",
       " '/home/scitech/shared-data/CatsAndDogs/wf-output/resized_Dog39.jpg',\n",
       " '/home/scitech/shared-data/CatsAndDogs/wf-output/resized_Dog0.jpg',\n",
       " '/home/scitech/shared-data/CatsAndDogs/wf-output/resized_Cat49.jpg',\n",
       " '/home/scitech/shared-data/CatsAndDogs/wf-output/resized_Cat75.jpg',\n",
       " '/home/scitech/shared-data/CatsAndDogs/wf-output/resized_Cat61.jpg',\n",
       " '/home/scitech/shared-data/CatsAndDogs/wf-output/resized_Cat59.jpg',\n",
       " '/home/scitech/shared-data/CatsAndDogs/wf-output/resized_Dog4.jpg',\n",
       " '/home/scitech/shared-data/CatsAndDogs/wf-output/resized_Cat65.jpg',\n",
       " '/home/scitech/shared-data/CatsAndDogs/wf-output/resized_Cat71.jpg',\n",
       " '/home/scitech/shared-data/CatsAndDogs/wf-output/resized_Dog15.jpg',\n",
       " '/home/scitech/shared-data/CatsAndDogs/wf-output/resized_Dog29.jpg',\n",
       " '/home/scitech/shared-data/CatsAndDogs/wf-output/resized_Dog28.jpg',\n",
       " '/home/scitech/shared-data/CatsAndDogs/wf-output/resized_Dog14.jpg',\n",
       " '/home/scitech/shared-data/CatsAndDogs/wf-output/resized_Cat70.jpg',\n",
       " '/home/scitech/shared-data/CatsAndDogs/wf-output/resized_Cat64.jpg',\n",
       " '/home/scitech/shared-data/CatsAndDogs/wf-output/resized_Dog5.jpg',\n",
       " '/home/scitech/shared-data/CatsAndDogs/wf-output/resized_Cat58.jpg',\n",
       " '/home/scitech/shared-data/CatsAndDogs/wf-output/resized_Cat99.jpg',\n",
       " '/home/scitech/shared-data/CatsAndDogs/wf-output/resized_Dog7.jpg',\n",
       " '/home/scitech/shared-data/CatsAndDogs/wf-output/resized_Cat72.jpg',\n",
       " '/home/scitech/shared-data/CatsAndDogs/wf-output/resized_Cat66.jpg',\n",
       " '/home/scitech/shared-data/CatsAndDogs/wf-output/resized_Dog16.jpg',\n",
       " '/home/scitech/shared-data/CatsAndDogs/wf-output/resized_Dog17.jpg',\n",
       " '/home/scitech/shared-data/CatsAndDogs/wf-output/resized_Cat67.jpg',\n",
       " '/home/scitech/shared-data/CatsAndDogs/wf-output/resized_Cat73.jpg',\n",
       " '/home/scitech/shared-data/CatsAndDogs/wf-output/resized_Dog6.jpg',\n",
       " '/home/scitech/shared-data/CatsAndDogs/wf-output/resized_Cat98.jpg',\n",
       " '/home/scitech/shared-data/CatsAndDogs/wf-output/resized_Cat14.jpg',\n",
       " '/home/scitech/shared-data/CatsAndDogs/wf-output/resized_Cat28.jpg',\n",
       " '/home/scitech/shared-data/CatsAndDogs/wf-output/resized_Cat6.jpg',\n",
       " '/home/scitech/shared-data/CatsAndDogs/wf-output/resized_Dog58.jpg',\n",
       " '/home/scitech/shared-data/CatsAndDogs/wf-output/resized_Dog64.jpg',\n",
       " '/home/scitech/shared-data/CatsAndDogs/wf-output/resized_Dog70.jpg',\n",
       " '/home/scitech/shared-data/CatsAndDogs/wf-output/resized_Dog71.jpg',\n",
       " '/home/scitech/shared-data/CatsAndDogs/wf-output/resized_Dog65.jpg',\n",
       " '/home/scitech/shared-data/CatsAndDogs/wf-output/resized_Dog59.jpg',\n",
       " '/home/scitech/shared-data/CatsAndDogs/wf-output/resized_Cat7.jpg',\n",
       " '/home/scitech/shared-data/CatsAndDogs/wf-output/resized_Cat29.jpg',\n",
       " '/home/scitech/shared-data/CatsAndDogs/wf-output/resized_Cat15.jpg',\n",
       " '/home/scitech/shared-data/CatsAndDogs/wf-output/resized_Cat17.jpg',\n",
       " '/home/scitech/shared-data/CatsAndDogs/wf-output/resized_Cat5.jpg',\n",
       " '/home/scitech/shared-data/CatsAndDogs/wf-output/resized_Dog73.jpg',\n",
       " '/home/scitech/shared-data/CatsAndDogs/wf-output/resized_Dog67.jpg',\n",
       " '/home/scitech/shared-data/CatsAndDogs/wf-output/resized_Dog98.jpg',\n",
       " '/home/scitech/shared-data/CatsAndDogs/wf-output/resized_Dog99.jpg',\n",
       " '/home/scitech/shared-data/CatsAndDogs/wf-output/resized_Dog66.jpg',\n",
       " '/home/scitech/shared-data/CatsAndDogs/wf-output/resized_Dog72.jpg',\n",
       " '/home/scitech/shared-data/CatsAndDogs/wf-output/resized_Cat4.jpg',\n",
       " '/home/scitech/shared-data/CatsAndDogs/wf-output/resized_Cat16.jpg',\n",
       " '/home/scitech/shared-data/CatsAndDogs/wf-output/resized_Cat12.jpg',\n",
       " '/home/scitech/shared-data/CatsAndDogs/wf-output/resized_Cat0.jpg',\n",
       " '/home/scitech/shared-data/CatsAndDogs/wf-output/resized_Dog76.jpg',\n",
       " '/home/scitech/shared-data/CatsAndDogs/wf-output/resized_Dog62.jpg',\n",
       " '/home/scitech/shared-data/CatsAndDogs/wf-output/resized_Dog89.jpg',\n",
       " '/home/scitech/shared-data/CatsAndDogs/wf-output/resized_Dog88.jpg',\n",
       " '/home/scitech/shared-data/CatsAndDogs/wf-output/resized_Dog63.jpg',\n",
       " '/home/scitech/shared-data/CatsAndDogs/wf-output/resized_Dog77.jpg',\n",
       " '/home/scitech/shared-data/CatsAndDogs/wf-output/resized_Cat1.jpg',\n",
       " '/home/scitech/shared-data/CatsAndDogs/wf-output/resized_Cat13.jpg',\n",
       " '/home/scitech/shared-data/CatsAndDogs/wf-output/resized_Cat39.jpg',\n",
       " '/home/scitech/shared-data/CatsAndDogs/wf-output/resized_Cat11.jpg',\n",
       " '/home/scitech/shared-data/CatsAndDogs/wf-output/resized_Cat3.jpg',\n",
       " '/home/scitech/shared-data/CatsAndDogs/wf-output/resized_Dog61.jpg',\n",
       " '/home/scitech/shared-data/CatsAndDogs/wf-output/resized_Dog75.jpg',\n",
       " '/home/scitech/shared-data/CatsAndDogs/wf-output/resized_Dog49.jpg',\n",
       " '/home/scitech/shared-data/CatsAndDogs/wf-output/resized_Dog48.jpg',\n",
       " '/home/scitech/shared-data/CatsAndDogs/wf-output/resized_Dog74.jpg',\n",
       " '/home/scitech/shared-data/CatsAndDogs/wf-output/resized_Dog60.jpg',\n",
       " '/home/scitech/shared-data/CatsAndDogs/wf-output/resized_Cat2.jpg',\n",
       " '/home/scitech/shared-data/CatsAndDogs/wf-output/resized_Cat10.jpg',\n",
       " '/home/scitech/shared-data/CatsAndDogs/wf-output/resized_Cat38.jpg']"
      ]
     },
     "execution_count": 15,
     "metadata": {},
     "output_type": "execute_result"
    }
   ],
   "source": [
    "cwd + Cat35."
   ]
  },
  {
   "cell_type": "code",
   "execution_count": 26,
   "metadata": {},
   "outputs": [],
   "source": [
    "os.sys.path.insert(0, os.getcwd())"
   ]
  },
  {
   "cell_type": "code",
   "execution_count": 27,
   "metadata": {},
   "outputs": [],
   "source": [
    "def which(file):\n",
    "    for path in os.environ['PATH'].split(os.pathsep):\n",
    "        if os.path.exists(os.path.join(path, file)):\n",
    "            return os.path.join(path, file)\n",
    "    return None\n"
   ]
  },
  {
   "cell_type": "code",
   "execution_count": 28,
   "metadata": {},
   "outputs": [],
   "source": [
    "full_path = which('/wf-output/resized_Cat23.jpg')"
   ]
  },
  {
   "cell_type": "code",
   "execution_count": 29,
   "metadata": {},
   "outputs": [
    {
     "name": "stdout",
     "output_type": "stream",
     "text": [
      "None\n"
     ]
    }
   ],
   "source": [
    "print(full_path)"
   ]
  },
  {
   "cell_type": "code",
   "execution_count": 30,
   "metadata": {},
   "outputs": [
    {
     "data": {
      "text/plain": [
       "'/home/scitech/shared-data/CatsAndDogs'"
      ]
     },
     "execution_count": 30,
     "metadata": {},
     "output_type": "execute_result"
    }
   ],
   "source": [
    "os.getcwd()"
   ]
  },
  {
   "cell_type": "code",
   "execution_count": 31,
   "metadata": {},
   "outputs": [
    {
     "data": {
      "text/plain": [
       "'/home/scitech/shared-data/CatsAndDogs/resized_Cat23.jpg'"
      ]
     },
     "execution_count": 31,
     "metadata": {},
     "output_type": "execute_result"
    }
   ],
   "source": [
    "os.path.abspath('resized_Cat23.jpg')"
   ]
  },
  {
   "cell_type": "code",
   "execution_count": 35,
   "metadata": {},
   "outputs": [],
   "source": [
    "from glob import glob\n",
    "import os\n",
    "c = os.path.abspath('labels.txt')"
   ]
  },
  {
   "cell_type": "code",
   "execution_count": 9,
   "metadata": {},
   "outputs": [],
   "source": [
    "photos = list(glob('resized_*.jpg'))"
   ]
  },
  {
   "cell_type": "code",
   "execution_count": 10,
   "metadata": {},
   "outputs": [
    {
     "data": {
      "text/plain": [
       "['resized_Cat0.jpg']"
      ]
     },
     "execution_count": 10,
     "metadata": {},
     "output_type": "execute_result"
    }
   ],
   "source": [
    "photos"
   ]
  },
  {
   "cell_type": "code",
   "execution_count": 14,
   "metadata": {},
   "outputs": [
    {
     "ename": "NameError",
     "evalue": "name 'File' is not defined",
     "output_type": "error",
     "traceback": [
      "\u001b[0;31m---------------------------------------------------------------------------\u001b[0m",
      "\u001b[0;31mNameError\u001b[0m                                 Traceback (most recent call last)",
      "\u001b[0;32m<ipython-input-14-0502b5f30254>\u001b[0m in \u001b[0;36m<module>\u001b[0;34m\u001b[0m\n\u001b[1;32m     34\u001b[0m \u001b[0;31m#         photo = cv.normalize(photo, norm_img, 0, 255, cv.NORM_MINMAX)\u001b[0m\u001b[0;34m\u001b[0m\u001b[0;34m\u001b[0m\u001b[0;34m\u001b[0m\u001b[0m\n\u001b[1;32m     35\u001b[0m         \u001b[0mphoto\u001b[0m\u001b[0;34m.\u001b[0m\u001b[0msave\u001b[0m\u001b[0;34m(\u001b[0m\u001b[0;34m'resized_Cat'\u001b[0m\u001b[0;34m+\u001b[0m \u001b[0mstr\u001b[0m\u001b[0;34m(\u001b[0m\u001b[0mi\u001b[0m\u001b[0;34m)\u001b[0m \u001b[0;34m+\u001b[0m \u001b[0;34m'.jpg'\u001b[0m\u001b[0;34m,\u001b[0m \u001b[0;34m'JPEG'\u001b[0m\u001b[0;34m,\u001b[0m \u001b[0mquality\u001b[0m\u001b[0;34m=\u001b[0m\u001b[0;36m90\u001b[0m\u001b[0;34m)\u001b[0m\u001b[0;34m\u001b[0m\u001b[0;34m\u001b[0m\u001b[0m\n\u001b[0;32m---> 36\u001b[0;31m         \u001b[0mphotos\u001b[0m\u001b[0;34m.\u001b[0m\u001b[0mappend\u001b[0m\u001b[0;34m(\u001b[0m\u001b[0mFile\u001b[0m\u001b[0;34m(\u001b[0m\u001b[0mphoto\u001b[0m\u001b[0;34m)\u001b[0m\u001b[0;34m)\u001b[0m\u001b[0;34m\u001b[0m\u001b[0;34m\u001b[0m\u001b[0m\n\u001b[0m\u001b[1;32m     37\u001b[0m         \u001b[0mlabels\u001b[0m\u001b[0;34m.\u001b[0m\u001b[0mappend\u001b[0m\u001b[0;34m(\u001b[0m\u001b[0moutput\u001b[0m\u001b[0;34m)\u001b[0m\u001b[0;34m\u001b[0m\u001b[0;34m\u001b[0m\u001b[0m\n\u001b[1;32m     38\u001b[0m     \u001b[0;32melse\u001b[0m\u001b[0;34m:\u001b[0m\u001b[0;34m\u001b[0m\u001b[0;34m\u001b[0m\u001b[0m\n",
      "\u001b[0;31mNameError\u001b[0m: name 'File' is not defined"
     ]
    }
   ],
   "source": []
  },
  {
   "cell_type": "code",
   "execution_count": null,
   "metadata": {},
   "outputs": [],
   "source": []
  }
 ],
 "metadata": {
  "kernelspec": {
   "display_name": "Python 3",
   "language": "python",
   "name": "python3"
  },
  "language_info": {
   "codemirror_mode": {
    "name": "ipython",
    "version": 3
   },
   "file_extension": ".py",
   "mimetype": "text/x-python",
   "name": "python",
   "nbconvert_exporter": "python",
   "pygments_lexer": "ipython3",
   "version": "3.6.8"
  }
 },
 "nbformat": 4,
 "nbformat_minor": 4
}
