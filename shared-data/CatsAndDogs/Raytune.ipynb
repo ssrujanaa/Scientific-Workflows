{
 "cells": [
  {
   "cell_type": "code",
   "execution_count": null,
   "metadata": {},
   "outputs": [],
   "source": [
    "!sudo pip3 install keras==2.1.5 tensorflow==1.13.1 numpy pandas pillow opencv--python sklearn optuna scikit-image ray ray[tune]"
   ]
  },
  {
   "cell_type": "code",
   "execution_count": 1,
   "metadata": {},
   "outputs": [
    {
     "name": "stderr",
     "output_type": "stream",
     "text": [
      "Using TensorFlow backend.\n",
      "/usr/local/lib/python3.6/site-packages/tensorflow/python/framework/dtypes.py:526: FutureWarning: Passing (type, 1) or '1type' as a synonym of type is deprecated; in a future version of numpy, it will be understood as (type, (1,)) / '(1,)type'.\n",
      "  _np_qint8 = np.dtype([(\"qint8\", np.int8, 1)])\n",
      "/usr/local/lib/python3.6/site-packages/tensorflow/python/framework/dtypes.py:527: FutureWarning: Passing (type, 1) or '1type' as a synonym of type is deprecated; in a future version of numpy, it will be understood as (type, (1,)) / '(1,)type'.\n",
      "  _np_quint8 = np.dtype([(\"quint8\", np.uint8, 1)])\n",
      "/usr/local/lib/python3.6/site-packages/tensorflow/python/framework/dtypes.py:528: FutureWarning: Passing (type, 1) or '1type' as a synonym of type is deprecated; in a future version of numpy, it will be understood as (type, (1,)) / '(1,)type'.\n",
      "  _np_qint16 = np.dtype([(\"qint16\", np.int16, 1)])\n",
      "/usr/local/lib/python3.6/site-packages/tensorflow/python/framework/dtypes.py:529: FutureWarning: Passing (type, 1) or '1type' as a synonym of type is deprecated; in a future version of numpy, it will be understood as (type, (1,)) / '(1,)type'.\n",
      "  _np_quint16 = np.dtype([(\"quint16\", np.uint16, 1)])\n",
      "/usr/local/lib/python3.6/site-packages/tensorflow/python/framework/dtypes.py:530: FutureWarning: Passing (type, 1) or '1type' as a synonym of type is deprecated; in a future version of numpy, it will be understood as (type, (1,)) / '(1,)type'.\n",
      "  _np_qint32 = np.dtype([(\"qint32\", np.int32, 1)])\n",
      "/usr/local/lib/python3.6/site-packages/tensorflow/python/framework/dtypes.py:535: FutureWarning: Passing (type, 1) or '1type' as a synonym of type is deprecated; in a future version of numpy, it will be understood as (type, (1,)) / '(1,)type'.\n",
      "  np_resource = np.dtype([(\"resource\", np.ubyte, 1)])\n"
     ]
    },
    {
     "name": "stdout",
     "output_type": "stream",
     "text": [
      "WARNING:tensorflow:From /usr/local/lib/python3.6/site-packages/tensorflow/python/framework/op_def_library.py:263: colocate_with (from tensorflow.python.framework.ops) is deprecated and will be removed in a future version.\n",
      "Instructions for updating:\n",
      "Colocations handled automatically by placer.\n",
      "WARNING:tensorflow:From /usr/local/lib/python3.6/site-packages/tensorflow/python/ops/math_ops.py:3066: to_int32 (from tensorflow.python.ops.math_ops) is deprecated and will be removed in a future version.\n",
      "Instructions for updating:\n",
      "Use tf.cast instead.\n"
     ]
    }
   ],
   "source": [
    "import pickle\n",
    "from keras.models import load_model\n",
    "from keras.preprocessing.image import load_img\n",
    "from keras.preprocessing.image import img_to_array\n",
    "from numpy import asarray\n",
    "from numpy import save\n",
    "\n",
    "with open('training.pkl', 'rb') as f:\n",
    "     train = pickle.load(f)\n",
    "    \n",
    "with open('testing.pkl', 'rb') as f:\n",
    "     test = pickle.load(f)\n",
    "        \n",
    "with open('validation.pkl','rb') as f:\n",
    "     val = pickle.load(f)\n",
    "        \n",
    "train_photos, train_labels = list(), list()\n",
    "tp = list()\n",
    "for file in train:\n",
    "    if 'Cat' in file:\n",
    "        output = 1.0\n",
    "    else:\n",
    "        output = 0.0\n",
    "    photo = load_img(file)\n",
    "    photo = img_to_array(photo)\n",
    "    train_photos.append(photo)\n",
    "    train_labels.append(output)\n",
    "train_photos = asarray(train_photos)\n",
    "train_labels = asarray(train_labels)\n",
    "\n",
    "test_photos, test_labels = list(), list()\n",
    "for file in test:\n",
    "    if 'Cat' in file:\n",
    "        output = 1.0\n",
    "    else:\n",
    "        output = 0.0\n",
    "    photo = load_img(file)\n",
    "    photo = img_to_array(photo)\n",
    "    tp.append(photo)\n",
    "    test_photos.append(photo)\n",
    "    test_labels.append(output)\n",
    "test_photos = asarray(test_photos)\n",
    "test_labels = asarray(test_labels)\n",
    "\n",
    "val_photos, val_labels = list(), list()\n",
    "for file in val:\n",
    "    if 'Cat' in file:\n",
    "        output = 1.0\n",
    "    else:\n",
    "        output = 0.0\n",
    "    photo = load_img(file)\n",
    "    photo = img_to_array(photo)\n",
    "    val_photos.append(photo)\n",
    "    val_labels.append(output)\n",
    "val_photos = asarray(val_photos)\n",
    "val_labels = asarray(val_labels)\n",
    "\n",
    "model= load_model(\"model.h5\")\n"
   ]
  },
  {
   "cell_type": "code",
   "execution_count": 8,
   "metadata": {},
   "outputs": [
    {
     "name": "stdout",
     "output_type": "stream",
     "text": [
      "\u001b[33mWARNING: Running pip install with root privileges is generally not a good idea. Try `pip3 install --user` instead.\u001b[0m\n",
      "Collecting ray[tune]\n",
      "  Downloading https://files.pythonhosted.org/packages/fa/c7/3fb709223d1eae040845abb1bc825d76c3f18ade046063382bc6ace603ef/ray-0.8.7-cp36-cp36m-manylinux1_x86_64.whl (22.0MB)\n",
      "\u001b[K    100% |████████████████████████████████| 22.0MB 73kB/s  eta 0:00:01\n",
      "\u001b[?25hRequirement already satisfied: requests in /usr/local/lib/python3.6/site-packages (from ray[tune])\n",
      "Requirement already satisfied: protobuf>=3.8.0 in /usr/local/lib64/python3.6/site-packages (from ray[tune])\n",
      "Requirement already satisfied: jsonschema in /usr/local/lib/python3.6/site-packages (from ray[tune])\n",
      "Requirement already satisfied: pyyaml in /usr/lib64/python3.6/site-packages (from ray[tune])\n",
      "Requirement already satisfied: numpy>=1.16 in /usr/local/lib64/python3.6/site-packages (from ray[tune])\n",
      "Collecting colorful (from ray[tune])\n",
      "  Downloading https://files.pythonhosted.org/packages/b0/8e/e386e248266952d24d73ed734c2f5513f34d9557032618c8910e605dfaf6/colorful-0.5.4-py2.py3-none-any.whl (201kB)\n",
      "\u001b[K    100% |████████████████████████████████| 204kB 5.2MB/s eta 0:00:01\n",
      "\u001b[?25hRequirement already satisfied: filelock in /usr/local/lib/python3.6/site-packages (from ray[tune])\n",
      "Collecting py-spy>=0.2.0 (from ray[tune])\n",
      "  Downloading https://files.pythonhosted.org/packages/8e/a7/ab45c9ee3c4654edda3efbd6b8e2fa4962226718a7e3e3be6e3926bf3617/py_spy-0.3.3-py2.py3-none-manylinux1_x86_64.whl (2.9MB)\n",
      "\u001b[K    100% |████████████████████████████████| 2.9MB 559kB/s eta 0:00:01\n",
      "\u001b[?25hRequirement already satisfied: prometheus-client>=0.7.1 in /usr/local/lib/python3.6/site-packages (from ray[tune])\n",
      "Collecting msgpack<2.0.0,>=1.0.0 (from ray[tune])\n",
      "  Downloading https://files.pythonhosted.org/packages/c9/35/33aa1af0700d21beabdf74373f31c52c048be8ee082f98edbc37ba3ae956/msgpack-1.0.0-cp36-cp36m-manylinux1_x86_64.whl (274kB)\n",
      "\u001b[K    100% |████████████████████████████████| 276kB 4.6MB/s eta 0:00:01\n",
      "\u001b[?25hCollecting opencensus (from ray[tune])\n",
      "  Downloading https://files.pythonhosted.org/packages/8a/9c/d40e3408e72d02612acf247d829e3fa9ff15c59f7ad81418ed79962f8681/opencensus-0.7.10-py2.py3-none-any.whl (126kB)\n",
      "\u001b[K    100% |████████████████████████████████| 133kB 7.3MB/s eta 0:00:01\n",
      "\u001b[?25hCollecting gpustat (from ray[tune])\n",
      "  Downloading https://files.pythonhosted.org/packages/b4/69/d8c849715171aeabd61af7da080fdc60948b5a396d2422f1f4672e43d008/gpustat-0.6.0.tar.gz (78kB)\n",
      "\u001b[K    100% |████████████████████████████████| 81kB 8.7MB/s eta 0:00:01\n",
      "\u001b[?25hCollecting redis<3.5.0,>=3.3.2 (from ray[tune])\n",
      "  Downloading https://files.pythonhosted.org/packages/f0/05/1fc7feedc19c123e7a95cfc9e7892eb6cdd2e5df4e9e8af6384349c1cc3d/redis-3.4.1-py2.py3-none-any.whl (71kB)\n",
      "\u001b[K    100% |████████████████████████████████| 71kB 10.2MB/s ta 0:00:01\n",
      "\u001b[?25hCollecting google (from ray[tune])\n",
      "  Downloading https://files.pythonhosted.org/packages/ac/35/17c9141c4ae21e9a29a43acdfd848e3e468a810517f862cad07977bf8fe9/google-3.0.0-py2.py3-none-any.whl (45kB)\n",
      "\u001b[K    100% |████████████████████████████████| 51kB 6.3MB/s eta 0:00:01\n",
      "\u001b[?25hRequirement already satisfied: colorama in /usr/local/lib/python3.6/site-packages (from ray[tune])\n",
      "Collecting aiohttp (from ray[tune])\n",
      "  Downloading https://files.pythonhosted.org/packages/7c/39/7eb5f98d24904e0f6d3edb505d4aa60e3ef83c0a58d6fe18244a51757247/aiohttp-3.6.2-cp36-cp36m-manylinux1_x86_64.whl (1.2MB)\n",
      "\u001b[K    100% |████████████████████████████████| 1.2MB 1.3MB/s eta 0:00:01\n",
      "\u001b[?25hCollecting click>=7.0 (from ray[tune])\n",
      "  Downloading https://files.pythonhosted.org/packages/d2/3d/fa76db83bf75c4f8d338c2fd15c8d33fdd7ad23a9b5e57eb6c5de26b430e/click-7.1.2-py2.py3-none-any.whl (82kB)\n",
      "\u001b[K    100% |████████████████████████████████| 92kB 7.8MB/s eta 0:00:01\n",
      "\u001b[?25hCollecting aioredis (from ray[tune])\n",
      "  Downloading https://files.pythonhosted.org/packages/b0/64/1b1612d0a104f21f80eb4c6e1b6075f2e6aba8e228f46f229cfd3fdac859/aioredis-1.3.1-py3-none-any.whl (65kB)\n",
      "\u001b[K    100% |████████████████████████████████| 71kB 7.5MB/s eta 0:00:01\n",
      "\u001b[?25hRequirement already satisfied: grpcio>=1.28.1 in /usr/local/lib64/python3.6/site-packages (from ray[tune])\n",
      "Requirement already satisfied: pandas; extra == \"tune\" in /usr/local/lib64/python3.6/site-packages (from ray[tune])\n",
      "Collecting tabulate; extra == \"tune\" (from ray[tune])\n",
      "  Downloading https://files.pythonhosted.org/packages/c4/f4/770ae9385990f5a19a91431163d262182d3203662ea2b5739d0fcfc080f1/tabulate-0.8.7-py3-none-any.whl\n",
      "Collecting tensorboardX; extra == \"tune\" (from ray[tune])\n",
      "  Downloading https://files.pythonhosted.org/packages/af/0c/4f41bcd45db376e6fe5c619c01100e9b7531c55791b7244815bac6eac32c/tensorboardX-2.1-py2.py3-none-any.whl (308kB)\n",
      "\u001b[K    100% |████████████████████████████████| 317kB 3.9MB/s eta 0:00:01\n",
      "\u001b[?25hRequirement already satisfied: certifi>=2017.4.17 in /usr/local/lib/python3.6/site-packages (from requests->ray[tune])\n",
      "Requirement already satisfied: chardet<4,>=3.0.2 in /usr/local/lib/python3.6/site-packages (from requests->ray[tune])\n",
      "Requirement already satisfied: idna<3,>=2.5 in /usr/lib/python3.6/site-packages (from requests->ray[tune])\n",
      "Requirement already satisfied: urllib3!=1.25.0,!=1.25.1,<1.26,>=1.21.1 in /usr/local/lib/python3.6/site-packages (from requests->ray[tune])\n",
      "Requirement already satisfied: setuptools in /usr/lib/python3.6/site-packages (from protobuf>=3.8.0->ray[tune])\n",
      "Requirement already satisfied: six>=1.9 in /usr/lib/python3.6/site-packages (from protobuf>=3.8.0->ray[tune])\n",
      "Requirement already satisfied: pyrsistent>=0.14.0 in /usr/local/lib64/python3.6/site-packages (from jsonschema->ray[tune])\n",
      "Requirement already satisfied: attrs>=17.4.0 in /usr/local/lib/python3.6/site-packages (from jsonschema->ray[tune])\n",
      "Requirement already satisfied: importlib-metadata; python_version < \"3.8\" in /usr/local/lib/python3.6/site-packages (from jsonschema->ray[tune])\n",
      "Collecting opencensus-context==0.1.1 (from opencensus->ray[tune])\n",
      "  Downloading https://files.pythonhosted.org/packages/2b/b7/720d4507e97aa3916ac47054cd75490de6b6148c46d8c2c487638f16ad95/opencensus_context-0.1.1-py2.py3-none-any.whl\n",
      "Collecting google-api-core<2.0.0,>=1.0.0 (from opencensus->ray[tune])\n",
      "  Downloading https://files.pythonhosted.org/packages/e0/2d/7c6c75013105e1d2b6eaa1bf18a56995be1dbc673c38885aea31136e9918/google_api_core-1.22.1-py2.py3-none-any.whl (91kB)\n",
      "\u001b[K    100% |████████████████████████████████| 92kB 8.4MB/s eta 0:00:01\n",
      "\u001b[?25hCollecting nvidia-ml-py3>=7.352.0 (from gpustat->ray[tune])\n",
      "  Downloading https://files.pythonhosted.org/packages/6d/64/cce82bddb80c0b0f5c703bbdafa94bfb69a1c5ad7a79cff00b482468f0d3/nvidia-ml-py3-7.352.0.tar.gz\n",
      "Collecting psutil (from gpustat->ray[tune])\n",
      "  Downloading https://files.pythonhosted.org/packages/aa/3e/d18f2c04cf2b528e18515999b0c8e698c136db78f62df34eee89cee205f1/psutil-5.7.2.tar.gz (460kB)\n",
      "\u001b[K    100% |████████████████████████████████| 460kB 2.6MB/s eta 0:00:01\n",
      "\u001b[?25hCollecting blessings>=1.6 (from gpustat->ray[tune])\n",
      "  Downloading https://files.pythonhosted.org/packages/03/74/489f85a78247609c6b4f13733cbf3ba0d864b11aa565617b645d6fdf2a4a/blessings-1.7-py3-none-any.whl\n",
      "Requirement already satisfied: beautifulsoup4 in /usr/local/lib/python3.6/site-packages (from google->ray[tune])\n",
      "Collecting async-timeout<4.0,>=3.0 (from aiohttp->ray[tune])\n",
      "  Downloading https://files.pythonhosted.org/packages/e1/1e/5a4441be21b0726c4464f3f23c8b19628372f606755a9d2e46c187e65ec4/async_timeout-3.0.1-py3-none-any.whl\n",
      "Collecting idna-ssl>=1.0; python_version < \"3.7\" (from aiohttp->ray[tune])\n",
      "  Downloading https://files.pythonhosted.org/packages/46/03/07c4894aae38b0de52b52586b24bf189bb83e4ddabfe2e2c8f2419eec6f4/idna-ssl-1.1.0.tar.gz\n",
      "Collecting typing-extensions>=3.6.5; python_version < \"3.7\" (from aiohttp->ray[tune])\n",
      "  Downloading https://files.pythonhosted.org/packages/0c/0e/3f026d0645d699e7320b59952146d56ad7c374e9cd72cd16e7c74e657a0f/typing_extensions-3.7.4.2-py3-none-any.whl\n",
      "Collecting multidict<5.0,>=4.5 (from aiohttp->ray[tune])\n",
      "  Downloading https://files.pythonhosted.org/packages/1a/95/f50352b5366e7d579e8b99631680a9e32e1b22adfa1629a8f23b1d22d5e2/multidict-4.7.6-cp36-cp36m-manylinux1_x86_64.whl (148kB)\n"
     ]
    },
    {
     "name": "stdout",
     "output_type": "stream",
     "text": [
      "\u001b[K    100% |████████████████████████████████| 153kB 5.1MB/s eta 0:00:01\n",
      "\u001b[?25hCollecting yarl<2.0,>=1.0 (from aiohttp->ray[tune])\n",
      "  Downloading https://files.pythonhosted.org/packages/a0/b4/2cbeaf2c3ea53865d9613b315fe24e78c66acedb1df7e4be4e064c87203b/yarl-1.5.1-cp36-cp36m-manylinux1_x86_64.whl (257kB)\n",
      "\u001b[K    100% |████████████████████████████████| 266kB 4.3MB/s eta 0:00:01\n",
      "\u001b[?25hCollecting hiredis (from aioredis->ray[tune])\n",
      "  Downloading https://files.pythonhosted.org/packages/48/6f/ce168ee483fca08f835df4e4b26370a49c10e37dd9333272fbe0ba952b51/hiredis-1.1.0-cp36-cp36m-manylinux1_x86_64.whl (61kB)\n",
      "\u001b[K    100% |████████████████████████████████| 61kB 8.5MB/s eta 0:00:01\n",
      "\u001b[?25hRequirement already satisfied: pytz>=2017.2 in /usr/local/lib/python3.6/site-packages (from pandas; extra == \"tune\"->ray[tune])\n",
      "Requirement already satisfied: python-dateutil>=2.7.3 in /usr/local/lib/python3.6/site-packages (from pandas; extra == \"tune\"->ray[tune])\n",
      "Requirement already satisfied: zipp>=0.5 in /usr/local/lib/python3.6/site-packages (from importlib-metadata; python_version < \"3.8\"->jsonschema->ray[tune])\n",
      "Collecting contextvars; python_version >= \"3.6\" and python_version < \"3.7\" (from opencensus-context==0.1.1->opencensus->ray[tune])\n",
      "  Downloading https://files.pythonhosted.org/packages/83/96/55b82d9f13763be9d672622e1b8106c85acb83edd7cc2fa5bc67cd9877e9/contextvars-2.4.tar.gz\n",
      "Collecting googleapis-common-protos<2.0dev,>=1.6.0 (from google-api-core<2.0.0,>=1.0.0->opencensus->ray[tune])\n",
      "  Downloading https://files.pythonhosted.org/packages/03/74/3956721ea1eb4bcf7502a311fdaa60b85bd751de4e57d1943afe9b334141/googleapis_common_protos-1.52.0-py2.py3-none-any.whl (100kB)\n",
      "\u001b[K    100% |████████████████████████████████| 102kB 8.1MB/s ta 0:00:01\n",
      "\u001b[?25hCollecting google-auth<2.0dev,>=1.19.1 (from google-api-core<2.0.0,>=1.0.0->opencensus->ray[tune])\n",
      "  Downloading https://files.pythonhosted.org/packages/0f/79/4c59796bb02535aee5e5d2e2c5e16008aaf48903c2ec2ff566a2774bb3e0/google_auth-1.20.1-py2.py3-none-any.whl (91kB)\n",
      "\u001b[K    100% |████████████████████████████████| 92kB 8.6MB/s eta 0:00:01\n",
      "\u001b[?25hRequirement already satisfied: soupsieve>1.2 in /usr/local/lib/python3.6/site-packages (from beautifulsoup4->google->ray[tune])\n",
      "Collecting immutables>=0.9 (from contextvars; python_version >= \"3.6\" and python_version < \"3.7\"->opencensus-context==0.1.1->opencensus->ray[tune])\n",
      "  Downloading https://files.pythonhosted.org/packages/99/e0/ea6fd4697120327d26773b5a84853f897a68e33d3f9376b00a8ff96e4f63/immutables-0.14-cp36-cp36m-manylinux1_x86_64.whl (98kB)\n",
      "\u001b[K    100% |████████████████████████████████| 102kB 8.9MB/s ta 0:00:01\n",
      "\u001b[?25hCollecting rsa<5,>=3.1.4; python_version >= \"3.5\" (from google-auth<2.0dev,>=1.19.1->google-api-core<2.0.0,>=1.0.0->opencensus->ray[tune])\n",
      "  Downloading https://files.pythonhosted.org/packages/1c/df/c3587a667d6b308fadc90b99e8bc8774788d033efcc70f4ecaae7fad144b/rsa-4.6-py3-none-any.whl (47kB)\n",
      "\u001b[K    100% |████████████████████████████████| 51kB 5.0MB/s ta 0:00:011\n",
      "\u001b[?25hCollecting pyasn1-modules>=0.2.1 (from google-auth<2.0dev,>=1.19.1->google-api-core<2.0.0,>=1.0.0->opencensus->ray[tune])\n",
      "  Downloading https://files.pythonhosted.org/packages/95/de/214830a981892a3e286c3794f41ae67a4495df1108c3da8a9f62159b9a9d/pyasn1_modules-0.2.8-py2.py3-none-any.whl (155kB)\n",
      "\u001b[K    100% |████████████████████████████████| 163kB 7.5MB/s eta 0:00:01\n",
      "\u001b[?25hCollecting cachetools<5.0,>=2.0.0 (from google-auth<2.0dev,>=1.19.1->google-api-core<2.0.0,>=1.0.0->opencensus->ray[tune])\n",
      "  Downloading https://files.pythonhosted.org/packages/cd/5c/f3aa86b6d5482f3051b433c7616668a9b96fbe49a622210e2c9781938a5c/cachetools-4.1.1-py3-none-any.whl\n",
      "Collecting pyasn1>=0.1.3 (from rsa<5,>=3.1.4; python_version >= \"3.5\"->google-auth<2.0dev,>=1.19.1->google-api-core<2.0.0,>=1.0.0->opencensus->ray[tune])\n",
      "  Downloading https://files.pythonhosted.org/packages/62/1e/a94a8d635fa3ce4cfc7f506003548d0a2447ae76fd5ca53932970fe3053f/pyasn1-0.4.8-py2.py3-none-any.whl (77kB)\n",
      "\u001b[K    100% |████████████████████████████████| 81kB 7.0MB/s eta 0:00:01\n",
      "\u001b[?25hBuilding wheels for collected packages: gpustat, nvidia-ml-py3, psutil, idna-ssl, contextvars\n",
      "  Running setup.py bdist_wheel for gpustat ... \u001b[?25ldone\n",
      "\u001b[?25h  Stored in directory: /root/.cache/pip/wheels/48/b4/d5/fb5b7f1d040f2ff20687e3bad6867d63155dbde5a7c10f4293\n",
      "  Running setup.py bdist_wheel for nvidia-ml-py3 ... \u001b[?25ldone\n",
      "\u001b[?25h  Stored in directory: /root/.cache/pip/wheels/e4/1d/06/640c93f5270d67d0247f30be91f232700d19023f9e66d735c7\n",
      "  Running setup.py bdist_wheel for psutil ... \u001b[?25ldone\n",
      "\u001b[?25h  Stored in directory: /root/.cache/pip/wheels/39/a0/f5/c4fa280463e29aea07797acb5312358fefb067c1f4f98e11b1\n",
      "  Running setup.py bdist_wheel for idna-ssl ... \u001b[?25ldone\n",
      "\u001b[?25h  Stored in directory: /root/.cache/pip/wheels/d3/00/b3/32d613e19e08a739751dd6bf998cfed277728f8b2127ad4eb7\n",
      "  Running setup.py bdist_wheel for contextvars ... \u001b[?25ldone\n",
      "\u001b[?25h  Stored in directory: /root/.cache/pip/wheels/a5/7d/68/1ebae2668bda2228686e3c1cf16f2c2384cea6e9334ad5f6de\n",
      "Successfully built gpustat nvidia-ml-py3 psutil idna-ssl contextvars\n",
      "Installing collected packages: colorful, py-spy, msgpack, immutables, contextvars, opencensus-context, googleapis-common-protos, pyasn1, rsa, pyasn1-modules, cachetools, google-auth, google-api-core, opencensus, nvidia-ml-py3, psutil, blessings, gpustat, redis, google, async-timeout, idna-ssl, typing-extensions, multidict, yarl, aiohttp, click, hiredis, aioredis, tabulate, tensorboardX, ray\n",
      "Successfully installed aiohttp-3.6.2 aioredis-1.3.1 async-timeout-3.0.1 blessings-1.7 cachetools-4.1.1 click-7.1.2 colorful-0.5.4 contextvars-2.4 google-3.0.0 google-api-core-1.22.1 google-auth-1.20.1 googleapis-common-protos-1.52.0 gpustat-0.6.0 hiredis-1.1.0 idna-ssl-1.1.0 immutables-0.14 msgpack-1.0.0 multidict-4.7.6 nvidia-ml-py3-7.352.0 opencensus-0.7.10 opencensus-context-0.1.1 psutil-5.7.2 py-spy-0.3.3 pyasn1-0.4.8 pyasn1-modules-0.2.8 ray-0.8.7 redis-3.4.1 rsa-4.6 tabulate-0.8.7 tensorboardX-2.1 typing-extensions-3.7.4.2 yarl-1.5.1\n"
     ]
    }
   ],
   "source": [
    "!sudo pip3 install ray[tune]"
   ]
  },
  {
   "cell_type": "code",
   "execution_count": 9,
   "metadata": {},
   "outputs": [
    {
     "name": "stdout",
     "output_type": "stream",
     "text": [
      "\u001b[33mWARNING: Running pip install with root privileges is generally not a good idea. Try `pip3 install --user` instead.\u001b[0m\n",
      "Requirement already satisfied: ray in /usr/local/lib64/python3.6/site-packages\n",
      "Requirement already satisfied: msgpack<2.0.0,>=1.0.0 in /usr/local/lib64/python3.6/site-packages (from ray)\n",
      "Requirement already satisfied: jsonschema in /usr/local/lib/python3.6/site-packages (from ray)\n",
      "Requirement already satisfied: aioredis in /usr/local/lib/python3.6/site-packages (from ray)\n",
      "Requirement already satisfied: pyyaml in /usr/lib64/python3.6/site-packages (from ray)\n",
      "Requirement already satisfied: colorful in /usr/local/lib/python3.6/site-packages (from ray)\n",
      "Requirement already satisfied: grpcio>=1.28.1 in /usr/local/lib64/python3.6/site-packages (from ray)\n",
      "Requirement already satisfied: google in /usr/local/lib/python3.6/site-packages (from ray)\n",
      "Requirement already satisfied: redis<3.5.0,>=3.3.2 in /usr/local/lib/python3.6/site-packages (from ray)\n",
      "Requirement already satisfied: opencensus in /usr/local/lib/python3.6/site-packages (from ray)\n",
      "Requirement already satisfied: numpy>=1.16 in /usr/local/lib64/python3.6/site-packages (from ray)\n",
      "Requirement already satisfied: py-spy>=0.2.0 in /usr/local/lib64/python3.6/site-packages (from ray)\n",
      "Requirement already satisfied: click>=7.0 in /usr/local/lib/python3.6/site-packages (from ray)\n",
      "Requirement already satisfied: colorama in /usr/local/lib/python3.6/site-packages (from ray)\n",
      "Requirement already satisfied: requests in /usr/local/lib/python3.6/site-packages (from ray)\n",
      "Requirement already satisfied: prometheus-client>=0.7.1 in /usr/local/lib/python3.6/site-packages (from ray)\n",
      "Requirement already satisfied: protobuf>=3.8.0 in /usr/local/lib64/python3.6/site-packages (from ray)\n",
      "Requirement already satisfied: aiohttp in /usr/local/lib64/python3.6/site-packages (from ray)\n",
      "Requirement already satisfied: filelock in /usr/local/lib/python3.6/site-packages (from ray)\n",
      "Requirement already satisfied: gpustat in /usr/local/lib/python3.6/site-packages (from ray)\n",
      "Requirement already satisfied: attrs>=17.4.0 in /usr/local/lib/python3.6/site-packages (from jsonschema->ray)\n",
      "Requirement already satisfied: importlib-metadata; python_version < \"3.8\" in /usr/local/lib/python3.6/site-packages (from jsonschema->ray)\n",
      "Requirement already satisfied: six>=1.11.0 in /usr/lib/python3.6/site-packages (from jsonschema->ray)\n",
      "Requirement already satisfied: setuptools in /usr/lib/python3.6/site-packages (from jsonschema->ray)\n",
      "Requirement already satisfied: pyrsistent>=0.14.0 in /usr/local/lib64/python3.6/site-packages (from jsonschema->ray)\n",
      "Requirement already satisfied: async-timeout in /usr/local/lib/python3.6/site-packages (from aioredis->ray)\n",
      "Requirement already satisfied: hiredis in /usr/local/lib64/python3.6/site-packages (from aioredis->ray)\n",
      "Requirement already satisfied: beautifulsoup4 in /usr/local/lib/python3.6/site-packages (from google->ray)\n",
      "Requirement already satisfied: google-api-core<2.0.0,>=1.0.0 in /usr/local/lib/python3.6/site-packages (from opencensus->ray)\n",
      "Requirement already satisfied: opencensus-context==0.1.1 in /usr/local/lib/python3.6/site-packages (from opencensus->ray)\n",
      "Requirement already satisfied: idna<3,>=2.5 in /usr/lib/python3.6/site-packages (from requests->ray)\n",
      "Requirement already satisfied: urllib3!=1.25.0,!=1.25.1,<1.26,>=1.21.1 in /usr/local/lib/python3.6/site-packages (from requests->ray)\n",
      "Requirement already satisfied: certifi>=2017.4.17 in /usr/local/lib/python3.6/site-packages (from requests->ray)\n",
      "Requirement already satisfied: chardet<4,>=3.0.2 in /usr/local/lib/python3.6/site-packages (from requests->ray)\n",
      "Requirement already satisfied: yarl<2.0,>=1.0 in /usr/local/lib64/python3.6/site-packages (from aiohttp->ray)\n",
      "Requirement already satisfied: multidict<5.0,>=4.5 in /usr/local/lib64/python3.6/site-packages (from aiohttp->ray)\n",
      "Requirement already satisfied: typing-extensions>=3.6.5; python_version < \"3.7\" in /usr/local/lib/python3.6/site-packages (from aiohttp->ray)\n",
      "Requirement already satisfied: idna-ssl>=1.0; python_version < \"3.7\" in /usr/local/lib/python3.6/site-packages (from aiohttp->ray)\n",
      "Requirement already satisfied: blessings>=1.6 in /usr/local/lib/python3.6/site-packages (from gpustat->ray)\n",
      "Requirement already satisfied: psutil in /usr/local/lib64/python3.6/site-packages (from gpustat->ray)\n",
      "Requirement already satisfied: nvidia-ml-py3>=7.352.0 in /usr/local/lib/python3.6/site-packages (from gpustat->ray)\n",
      "Requirement already satisfied: zipp>=0.5 in /usr/local/lib/python3.6/site-packages (from importlib-metadata; python_version < \"3.8\"->jsonschema->ray)\n",
      "Requirement already satisfied: soupsieve>1.2 in /usr/local/lib/python3.6/site-packages (from beautifulsoup4->google->ray)\n",
      "Requirement already satisfied: googleapis-common-protos<2.0dev,>=1.6.0 in /usr/local/lib/python3.6/site-packages (from google-api-core<2.0.0,>=1.0.0->opencensus->ray)\n",
      "Requirement already satisfied: pytz in /usr/local/lib/python3.6/site-packages (from google-api-core<2.0.0,>=1.0.0->opencensus->ray)\n",
      "Requirement already satisfied: google-auth<2.0dev,>=1.19.1 in /usr/local/lib/python3.6/site-packages (from google-api-core<2.0.0,>=1.0.0->opencensus->ray)\n",
      "Requirement already satisfied: contextvars; python_version >= \"3.6\" and python_version < \"3.7\" in /usr/local/lib/python3.6/site-packages (from opencensus-context==0.1.1->opencensus->ray)\n",
      "Requirement already satisfied: cachetools<5.0,>=2.0.0 in /usr/local/lib/python3.6/site-packages (from google-auth<2.0dev,>=1.19.1->google-api-core<2.0.0,>=1.0.0->opencensus->ray)\n",
      "Requirement already satisfied: pyasn1-modules>=0.2.1 in /usr/local/lib/python3.6/site-packages (from google-auth<2.0dev,>=1.19.1->google-api-core<2.0.0,>=1.0.0->opencensus->ray)\n",
      "Requirement already satisfied: rsa<5,>=3.1.4; python_version >= \"3.5\" in /usr/local/lib/python3.6/site-packages (from google-auth<2.0dev,>=1.19.1->google-api-core<2.0.0,>=1.0.0->opencensus->ray)\n",
      "Requirement already satisfied: immutables>=0.9 in /usr/local/lib64/python3.6/site-packages (from contextvars; python_version >= \"3.6\" and python_version < \"3.7\"->opencensus-context==0.1.1->opencensus->ray)\n",
      "Requirement already satisfied: pyasn1<0.5.0,>=0.4.6 in /usr/local/lib/python3.6/site-packages (from pyasn1-modules>=0.2.1->google-auth<2.0dev,>=1.19.1->google-api-core<2.0.0,>=1.0.0->opencensus->ray)\n"
     ]
    }
   ],
   "source": [
    "!sudo pip3 install ray"
   ]
  },
  {
   "cell_type": "code",
   "execution_count": 10,
   "metadata": {},
   "outputs": [],
   "source": [
    "\n",
    "import shutil\n",
    "import tempfile\n",
    "\n",
    "import tensorflow as tf\n",
    "import pickle\n",
    "from os import listdir\n",
    "from numpy import asarray\n",
    "from numpy import save\n",
    "from keras.preprocessing.image import load_img\n",
    "from keras.preprocessing.image import img_to_array\n",
    "import numpy as np\n",
    "from keras import layers\n",
    "from keras.layers import Input,Dense,BatchNormalization,Flatten,Dropout,GlobalAveragePooling2D\n",
    "from keras.models import Model, load_model\n",
    "from keras.utils import layer_utils\n",
    "from keras.optimizers import Adam\n",
    "from keras.callbacks import ModelCheckpoint\n",
    "from keras.callbacks import EarlyStopping\n",
    "import keras.backend as K\n",
    "from keras.applications.vgg16 import VGG16\n",
    "from keras.models import Model,load_model\n",
    "from keras.optimizers import RMSprop\n",
    "# import tensorflow_datasets as tfds\n",
    "\n",
    "import ray \n",
    "from ray import tune"
   ]
  },
  {
   "cell_type": "code",
   "execution_count": 11,
   "metadata": {},
   "outputs": [],
   "source": [
    "CLASSES = 2\n",
    "def create_model(learning_rate):\n",
    "    assert learning_rate > 0, \"Did you set the right configuration?\"\n",
    "    vgg16_model = VGG16(weights = 'imagenet', include_top = False)\n",
    "    x = vgg16_model.output\n",
    "    x = GlobalAveragePooling2D()(x)\n",
    "    x = Dense(1024, activation='relu')(x)\n",
    "    predictions = Dense(CLASSES, activation = 'softmax')(x)\n",
    "    model = Model(input = vgg16_model.input, output = predictions)\n",
    "    for layer in vgg16_model.layers:\n",
    "        layer.trainable = False\n",
    "    \n",
    "    optimizer = RMSprop(lr=learning_rate)\n",
    "    model.compile(optimizer, loss='sparse_categorical_crossentropy', metrics=['accuracy'])\n",
    "    return model"
   ]
  },
  {
   "cell_type": "code",
   "execution_count": 12,
   "metadata": {},
   "outputs": [],
   "source": [
    "def train():\n",
    "    train_x, train_y, val_x, val_y = train_photos,train_labels,val_photos,val_labels\n",
    "    model = create_model(learning_rate=0.1)\n",
    "    checkpoint_callback = ModelCheckpoint(\n",
    "        \"model.h5\", monitor='accuracy', save_best_only=True)\n",
    "    model.fit(\n",
    "        train_x, train_y, \n",
    "        validation_data=(val_x, val_y),\n",
    "        verbose=1, batch_size=2, epochs=1, callbacks=[checkpoint_callback])\n",
    "    return model"
   ]
  },
  {
   "cell_type": "code",
   "execution_count": 13,
   "metadata": {
    "scrolled": true
   },
   "outputs": [
    {
     "name": "stderr",
     "output_type": "stream",
     "text": [
      "/usr/local/lib/python3.6/site-packages/ipykernel_launcher.py:9: UserWarning: Update your `Model` call to the Keras 2 API: `Model(inputs=Tensor(\"in..., outputs=Tensor(\"de...)`\n",
      "  if __name__ == '__main__':\n"
     ]
    },
    {
     "name": "stdout",
     "output_type": "stream",
     "text": [
      "Train on 432 samples, validate on 48 samples\n",
      "Epoch 1/1\n",
      "432/432 [==============================] - 65s 152ms/step - loss: 8.0513 - acc: 0.5000 - val_loss: 8.0590 - val_acc: 0.5000\n",
      "120/120 [==============================] - 16s 134ms/step\n",
      "Loss is 8.0590\n",
      "Accuracy is 0.5000\n"
     ]
    }
   ],
   "source": [
    "original_model = train()\n",
    "test_x, test_y = test_photos.astype(\"float32\"), test_labels\n",
    "original_loss, original_accuracy = original_model.evaluate(test_x, test_y, batch_size=2)\n",
    "print(\"Loss is {:0.4f}\".format(original_loss))\n",
    "print(\"Accuracy is {:0.4f}\".format(original_accuracy))"
   ]
  },
  {
   "cell_type": "code",
   "execution_count": 14,
   "metadata": {},
   "outputs": [],
   "source": [
    "import tensorflow.keras as keras\n",
    "from ray import tune\n",
    "class TuneReporterCallback(keras.callbacks.Callback):\n",
    "    def __init__(self, logs={}):\n",
    "        self.iteration = 0\n",
    "        super(TuneReporterCallback, self).__init__()\n",
    "\n",
    "    def on_epoch_end(self, batch, logs={}):\n",
    "        self.iteration += 1\n",
    "        tune.report(keras_info=logs, mean_accuracy=logs.get(\"accuracy\"), mean_loss=logs.get(\"loss\"))"
   ]
  },
  {
   "cell_type": "code",
   "execution_count": 15,
   "metadata": {},
   "outputs": [],
   "source": [
    "def tune():  # TODO: Change me.\n",
    "    train_x, train_y, val_x, val_y = train_photos,train_labels,val_photos,val_labels\n",
    "    model = create_model(learning_rate=0.1)\n",
    "    \n",
    "    model.fit(\n",
    "        train_x, train_y, \n",
    "        validation_data=(val_x, val_y),\n",
    "        verbose=0, \n",
    "        batch_size=2, \n",
    "        epochs=1, \n",
    "        callbacks=callbacks)"
   ]
  },
  {
   "cell_type": "code",
   "execution_count": null,
   "metadata": {
    "scrolled": false
   },
   "outputs": [
    {
     "name": "stderr",
     "output_type": "stream",
     "text": [
      "2020-08-13 10:31:16,530\tINFO resource_spec.py:231 -- Starting Ray with 0.44 GiB memory available for workers and up to 0.23 GiB for objects. You can adjust these settings with ray.init(memory=<bytes>, object_store_memory=<bytes>).\n",
      "2020-08-13 10:31:17,292\tINFO services.py:1193 -- View the Ray dashboard at \u001b[1m\u001b[32mlocalhost:8265\u001b[39m\u001b[22m\n",
      "2020-08-13 10:31:17,301\tWARNING services.py:1567 -- WARNING: The object store is using /tmp instead of /dev/shm because /dev/shm has only 67108864 bytes available. This may slow down performance! You may be able to free up space by deleting files in /dev/shm or terminating any running plasma_store_server processes. If you are inside a Docker container, you may need to pass an argument with the flag '--shm-size' to 'docker run'.\n",
      "2020-08-13 10:31:17,335\tWARNING services.py:1567 -- WARNING: The object store is using /tmp instead of /dev/shm because /dev/shm has only 67108864 bytes available. This may slow down performance! You may be able to free up space by deleting files in /dev/shm or terminating any running plasma_store_server processes. If you are inside a Docker container, you may need to pass an argument with the flag '--shm-size' to 'docker run'.\n",
      "2020-08-13 10:31:24,153\tERROR worker.py:1136 -- listen_error_messages_raylet: Connection closed by server.\n",
      "2020-08-13 10:31:24,201\tERROR import_thread.py:93 -- ImportThread: Connection closed by server.\n"
     ]
    }
   ],
   "source": [
    "import numpy as np \n",
    "hyperparameter_space = {\"lr\": tune.loguniform(0.001, 0.1)}  # TODO: Fill me out.\n",
    "num_samples = 10\n",
    "HP_KEYS = [\"lr\"]\n",
    "\n",
    "ray.shutdown()  # Restart Ray defensively in case the ray connection is lost. \n",
    "ray.init(log_to_driver=False)\n",
    "!rm -rf ~/ray_results/tune\n",
    "\n",
    "analysis = tune.run(\n",
    "    tune_iris, \n",
    "    verbose=1, \n",
    "    config=hyperparameter_space)\n",
    "\n",
    "assert len(analysis.trials) == 10, \"Did you set the correct number of samples?\""
   ]
  },
  {
   "cell_type": "code",
   "execution_count": null,
   "metadata": {},
   "outputs": [],
   "source": []
  },
  {
   "cell_type": "code",
   "execution_count": null,
   "metadata": {},
   "outputs": [],
   "source": [
    "# This seeds the hyperparameter sampling.\n",
    "import numpy as np; np.random.seed(5)  \n",
    "hyperparameter_space = {}  # TODO: Fill me out.\n",
    "num_samples = 1  \n",
    "HP_KEYS = [\"lr\"]\n",
    "\n",
    "ray.shutdown()  \n",
    "ray.init(log_to_driver=False)\n",
    "\n",
    "analysis = tune.run(\n",
    "    tune_iris, \n",
    "    verbose=1, \n",
    "    config=hyperparameter_space,\n",
    "    num_samples=num_samples)\n",
    "\n",
    "assert len(analysis.trials) == 20, \"Did you set the correct number of samples?\""
   ]
  },
  {
   "cell_type": "code",
   "execution_count": 3,
   "metadata": {
    "scrolled": true
   },
   "outputs": [],
   "source": []
  },
  {
   "cell_type": "code",
   "execution_count": null,
   "metadata": {
    "scrolled": true
   },
   "outputs": [],
   "source": []
  },
  {
   "cell_type": "code",
   "execution_count": null,
   "metadata": {},
   "outputs": [],
   "source": []
  }
 ],
 "metadata": {
  "kernelspec": {
   "display_name": "Python 3",
   "language": "python",
   "name": "python3"
  },
  "language_info": {
   "codemirror_mode": {
    "name": "ipython",
    "version": 3
   },
   "file_extension": ".py",
   "mimetype": "text/x-python",
   "name": "python",
   "nbconvert_exporter": "python",
   "pygments_lexer": "ipython3",
   "version": "3.6.8"
  }
 },
 "nbformat": 4,
 "nbformat_minor": 4
}
