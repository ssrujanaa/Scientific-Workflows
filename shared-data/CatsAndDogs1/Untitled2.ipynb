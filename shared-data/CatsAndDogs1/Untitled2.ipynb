{
 "cells": [
  {
   "cell_type": "code",
   "execution_count": null,
   "metadata": {},
   "outputs": [],
   "source": [
    "public static void Main()\n",
    "{\n",
    "int[] values = new int[] { 3, 4, 2, 3, 4, 5, 1, 2, 3, 4, 5, 6 };\n",
    "bool result = IsDominoPyramidValid(values);\n",
    "Console.WriteLine(result ? \"YES\" : \"NO\");\n",
    "}\n",
    "private const int DominoLength = 2;\n",
    "public static bool IsDominoPyramidValid(int[] values)\n",
    "{\n",
    "int arrayLength = values.Length;\n",
    "int offset = 0;\n",
    "int currentRow = 1; // Note: I'm using a 1-based value here as it helps the maths\n",
    "bool result = true;\n",
    "while (result)\n",
    "{\n",
    "int currentRowLength = currentRow * DominoLength;\n",
    "// Avoid checking final row: there is no row below it\n",
    "if (offset + currentRowLength >= arrayLength)\n",
    "{\n",
    "break;\n",
    "}\n",
    "result = CheckValuesOnRowAgainstRowBelow(values, offset, currentRowLength);\n",
    "offset += currentRowLength;\n",
    "currentRow++;\n",
    "}\n",
    "return result;\n",
    "}\n",
    "private static bool CheckValuesOnRowAgainstRowBelow(int[] values, int startOfCurrentRow, int currentRowLength)\n",
    "{\n",
    "int startOfNextRow = startOfCurrentRow + currentRowLength;\n",
    "int comparablePointOnNextRow = startOfNextRow + 1;\n",
    "for (int i = 0; i < currentRowLength; i++)\n",
    "{\n",
    "if (values[startOfCurrentRow + i] != values[comparablePointOnNextRow + i])\n",
    "{\n",
    "return false;\n",
    "}\n",
    "}\n",
    "return true;\n",
    "}"
   ]
  },
  {
   "cell_type": "code",
   "execution_count": 9,
   "metadata": {},
   "outputs": [],
   "source": [
    "def isvalid(arr):\n",
    "    DominoLength = 2\n",
    "    arrlen = len(arr)\n",
    "    offset = 0\n",
    "    curr_row = 1\n",
    "    res = True\n",
    "    while res:\n",
    "        curr_row_len = curr_row * DominoLength\n",
    "        if (offset + curr_row_len >= arrlen):\n",
    "            break\n",
    "        res = check_val(arr,offset,curr_row_len)\n",
    "        offset+=curr_row_len\n",
    "        curr_row+=1\n",
    "    return res\n",
    "def check_val(arr,st_curr,curr_row_len):\n",
    "    st_row = st_curr + curr_row_len\n",
    "    comparablePointOnNextRow = st_row + 1\n",
    "    for i in range(curr_row_len):\n",
    "        if arr[st_curr+i]!=arr[comparablePointOnNextRow+i]:\n",
    "            return False\n",
    "    return True\n",
    "\n",
    "arr = [3,4,3, 4, 1, 2, 2, 3, 5,6, 4, 5]\n",
    "res = isvalid (arr)"
   ]
  },
  {
   "cell_type": "code",
   "execution_count": 10,
   "metadata": {},
   "outputs": [
    {
     "data": {
      "text/plain": [
       "False"
      ]
     },
     "execution_count": 10,
     "metadata": {},
     "output_type": "execute_result"
    }
   ],
   "source": [
    "res"
   ]
  },
  {
   "cell_type": "code",
   "execution_count": null,
   "metadata": {},
   "outputs": [],
   "source": []
  }
 ],
 "metadata": {
  "kernelspec": {
   "display_name": "Python 3",
   "language": "python",
   "name": "python3"
  },
  "language_info": {
   "codemirror_mode": {
    "name": "ipython",
    "version": 3
   },
   "file_extension": ".py",
   "mimetype": "text/x-python",
   "name": "python",
   "nbconvert_exporter": "python",
   "pygments_lexer": "ipython3",
   "version": "3.6.8"
  }
 },
 "nbformat": 4,
 "nbformat_minor": 4
}
