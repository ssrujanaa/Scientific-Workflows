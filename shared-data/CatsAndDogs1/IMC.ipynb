{
 "cells": [
  {
   "cell_type": "code",
   "execution_count": 44,
   "metadata": {},
   "outputs": [
    {
     "name": "stdout",
     "output_type": "stream",
     "text": [
      "1B 2C\n"
     ]
    }
   ],
   "source": [
    "alphaCol = {\"A\":1, \"B\":2, \"C\":3, \"D\":4, \"E\":5, \"F\":6, \"G\":7, \"H\":8, \"I\":9, \"J\":10, \"K\":11, \"L\":12, \"M\":13, \"N\":14, \"O\":15, \"P\":16, \"Q\":17, \"R\":18, \"S\":19, \"T\":20, \"U\":21, \"V\":22, \"W\":23, \"X\":24, \"Y\": 25, \"Z\":26}\n",
    "string = [\"1B 2C\",\"4D 6C\"]\n",
    "\n",
    "temp = \"\"\n",
    "a,b = string.split()\n",
    "print(a,b)\n",
    "\n",
    "def split(a,b):\n",
    "    alphaCol = {\"A\":1, \"B\":2, \"C\":3, \"D\":4, \"E\":5, \"F\":6, \"G\":7, \"H\":8, \"I\":9, \"J\":10, \"K\":11, \"L\":12, \"M\":13, \"N\":14, \"O\":15, \"P\":16, \"Q\":17, \"R\":18, \"S\":19, \"T\":20, \"U\":21, \"V\":22, \"W\":23, \"X\":24, \"Y\": 25, \"Z\":26}\n",
    "    temp1 = \"\"\n",
    "    temp2 = \"\"\n",
    "    alpha1 = \"\"\n",
    "    alpha2 = \"\"\n",
    "    row_start = 0\n",
    "    col_start = 0\n",
    "    row_end = 0\n",
    "    col_end = 0\n",
    "\n",
    "    for i in a:\n",
    "        if i.isnumeric():\n",
    "            temp1+=i\n",
    "        else:\n",
    "            alpha1 = i\n",
    "    alpha1 = int(alphaCol[alpha1])\n",
    "#     print(int(temp1),alpha1)\n",
    "    for j in b:\n",
    "        if j.isnumeric():\n",
    "            temp2+=j\n",
    "        else:\n",
    "            alpha2 = j\n",
    "    alpha2 = int(alphaCol[alpha2])\n",
    "#     print(int(temp2),alpha2)\n",
    "    row_start = min(int(temp1),int(temp2))\n",
    "    row_end = max(int(temp1),int(temp2))\n",
    "    col_start = min(alpha1,alpha2)\n",
    "    col_end = max(alpha1,alpha2)\n",
    "    return row_start,row_end,col_start, col_end"
   ]
  },
  {
   "cell_type": "code",
   "execution_count": 45,
   "metadata": {},
   "outputs": [
    {
     "data": {
      "text/plain": [
       "(1, 2, 2, 3)"
      ]
     },
     "execution_count": 45,
     "metadata": {},
     "output_type": "execute_result"
    }
   ],
   "source": [
    "row_start,row_end,col_start, col_end = split(a,b)\n",
    "split(a,b)"
   ]
  },
  {
   "cell_type": "code",
   "execution_count": 100,
   "metadata": {},
   "outputs": [],
   "source": [
    "N = 6\n",
    "grid = [[0]*(N+1) for i in range(N+1)]\n",
    "def fill(grid,row_start,row_end,col_start, col_end,art_num):\n",
    "    for i in range(row_start,row_end+1):\n",
    "        for j in range(col_start,col_end+1):\n",
    "            grid[i][j] = art_num\n",
    "    return grid"
   ]
  },
  {
   "cell_type": "code",
   "execution_count": 101,
   "metadata": {},
   "outputs": [
    {
     "data": {
      "text/plain": [
       "[[0, 0, 0, 0, 0, 0, 0],\n",
       " [0, 0, 0, 0, 0, 0, 0],\n",
       " [0, 0, 0, 0, 0, 0, 0],\n",
       " [0, 0, 0, 0, 0, 0, 0],\n",
       " [0, 0, 0, 2, 2, 0, 0],\n",
       " [0, 0, 0, 2, 2, 0, 0],\n",
       " [0, 0, 0, 2, 2, 0, 0]]"
      ]
     },
     "execution_count": 101,
     "metadata": {},
     "output_type": "execute_result"
    }
   ],
   "source": [
    "fill(grid,row_start,row_end,col_start, col_end,2)"
   ]
  },
  {
   "cell_type": "code",
   "execution_count": 102,
   "metadata": {},
   "outputs": [
    {
     "data": {
      "text/plain": [
       "['1B 2C', '4D 6C']"
      ]
     },
     "execution_count": 102,
     "metadata": {},
     "output_type": "execute_result"
    }
   ],
   "source": [
    "string = \"1B 2C,4D 6C\"\n",
    "artifacts=string.split(',')\n",
    "artifacts"
   ]
  },
  {
   "cell_type": "code",
   "execution_count": 103,
   "metadata": {},
   "outputs": [],
   "source": [
    "x = string.split()"
   ]
  },
  {
   "cell_type": "code",
   "execution_count": 104,
   "metadata": {},
   "outputs": [
    {
     "name": "stdout",
     "output_type": "stream",
     "text": [
      "1 2\n",
      "24 4\n",
      "6 3\n"
     ]
    }
   ],
   "source": [
    "for j in range(len(x)):\n",
    "    t = \"\"\n",
    "    alpha = \"\"\n",
    "    for i in x[j]:\n",
    "        if i.isnumeric():\n",
    "            t+=i\n",
    "        else:\n",
    "            alpha = i\n",
    "    alpha = int(alphaCol[alpha])\n",
    "    print(t,alpha)"
   ]
  },
  {
   "cell_type": "code",
   "execution_count": 105,
   "metadata": {},
   "outputs": [],
   "source": [
    "countArt = 1\n",
    "# artifacts = artifacts.split(',')\n",
    "for i in range(len(artifacts)):\n",
    "    m,n = artifacts[i].split()\n",
    "    row_start,row_end,col_start, col_end = split(m,n)\n",
    "    fill(grid,row_start,row_end,col_start, col_end, countArt)\n",
    "    countArt += 1"
   ]
  },
  {
   "cell_type": "code",
   "execution_count": 106,
   "metadata": {},
   "outputs": [
    {
     "data": {
      "text/plain": [
       "[[0, 0, 0, 0, 0, 0, 0],\n",
       " [0, 0, 1, 1, 0, 0, 0],\n",
       " [0, 0, 1, 1, 0, 0, 0],\n",
       " [0, 0, 0, 0, 0, 0, 0],\n",
       " [0, 0, 0, 2, 2, 0, 0],\n",
       " [0, 0, 0, 2, 2, 0, 0],\n",
       " [0, 0, 0, 2, 2, 0, 0]]"
      ]
     },
     "execution_count": 106,
     "metadata": {},
     "output_type": "execute_result"
    }
   ],
   "source": [
    "grid"
   ]
  },
  {
   "cell_type": "code",
   "execution_count": 113,
   "metadata": {},
   "outputs": [
    {
     "name": "stdout",
     "output_type": "stream",
     "text": [
      "{1: 4, 2: 4}\n"
     ]
    }
   ],
   "source": [
    "artDt = {}\n",
    "for i in range(0,N):\n",
    "    for j in range(0,N):\n",
    "#         print(grid[i][j])\n",
    "        if grid[i][j] not in artDt and grid[i][j] != 0:\n",
    "            artDt[grid[i][j]] = 1\n",
    "        elif grid[i][j] != 0:\n",
    "            artDt[grid[i][j]] += 1\n",
    "print(artDt)"
   ]
  },
  {
   "cell_type": "code",
   "execution_count": null,
   "metadata": {},
   "outputs": [],
   "source": [
    "def findArtifacts(p,q):\n",
    "    if grid[p][q] > 0:\n",
    "        artDt[grid[p][q]] -= 1\n",
    "    if artDt[grid[p][q]] == 0:\n",
    "        complete.add([grid[p][q]])\n",
    "    else:\n",
    "        partial.add([grid][p][q])\n",
    "    "
   ]
  },
  {
   "cell_type": "code",
   "execution_count": null,
   "metadata": {},
   "outputs": [],
   "source": [
    "def solution(N, artifacts, searched):\n",
    "    alphaCol = {\"A\":1, \"B\":2, \"C\":3, \"D\":4, \"E\":5, \"F\":6, \"G\":7, \"H\":8, \"I\":9, \"J\":10, \"K\":11, \"L\":12, \"M\":13, \"N\":14, \"O\":15, \"P\":16, \"Q\":17, \"R\":18, \"S\":19, \"T\":20, \"U\":21, \"V\":22, \"W\":23, \"X\":24, \"Y\": 25, \"Z\":26}\n",
    "    \n",
    "    def fill(grid,row_start,row_end,col_start, col_end,art_num):\n",
    "        for i in range(row_start,row_end+1):\n",
    "            for j in range(col_start,col_end+1):\n",
    "                grid[i][j] = 1\n",
    "        return grid\n",
    "    \n",
    "    def getCoordinates(a,b):\n",
    "        temp1 = \"\"\n",
    "        temp2 = \"\"\n",
    "        alpha1 = \"\"\n",
    "        alpha2 = \"\"\n",
    "        row_start = 0\n",
    "        col_start = 0\n",
    "        row_end = 0\n",
    "        col_end = 0\n",
    "    \n",
    "        for i in a:\n",
    "            if i.isnumeric():\n",
    "                temp1+=i\n",
    "            else:\n",
    "                alpha1 = i\n",
    "        alpha1 = int(alphaCol[alpha1])\n",
    "        for j in b:\n",
    "            if j.isnumeric():\n",
    "                temp2+=j\n",
    "            else:\n",
    "                alpha2 = j\n",
    "        alpha2 = int(alphaCol[alpha2])\n",
    "        row_start = min(int(temp1),int(temp2))\n",
    "        row_end = max(int(temp1),int(temp2))\n",
    "        col_start = min(alpha1,alpha2)\n",
    "        col_end = max(alpha1,alpha2)\n",
    "        return row_start,row_end,col_start, col_end\n",
    "    \n",
    "    def findArtifacts(p,q):\n",
    "       artDt[grid[p][q]] -= 1\n",
    "       \n",
    "       if artDt[grid[p][q]] <= 0:\n",
    "           complete.add([grid[p][q]])\n",
    "       else:\n",
    "           partial.add([grid][p][q])\n",
    "       \n",
    "    grid = [[0]*(N+1) for i in range(N+1)]    \n",
    "    temp = \"\"\n",
    "    artDt = {}\n",
    "    complete , partial = set() , set()\n",
    "    countArt = 1\n",
    "    \n",
    "    artifacts = artifacts.split(',')\n",
    "    for i in range(len(artifacts)):\n",
    "        m,n = artifacts[i].split()\n",
    "        row_start,row_end,col_start, col_end = getCoordinates(m,n)\n",
    "        fill(grid,row_start,row_end,col_start, col_end,countArt)\n",
    "        countArt += 1\n",
    "    \n",
    "    for i in range(1,len(grid)+1):\n",
    "        for j in range(1,len(grid[0])+1):\n",
    "            if grid[i][j] not in artDt and grid[i][j] > 0:\n",
    "                artDt[grid[i][j]] = 1\n",
    "            else:\n",
    "                artDt[grid[i][j]] += 1\n",
    "                \n",
    "    print(grid)\n",
    "    #Searching for the given artifacts\n",
    "    searchCoordinates = searched.split()\n",
    "        \n",
    "    for j in range(len(searchCoordinates)):\n",
    "        u = \"\"\n",
    "        v = \"\"\n",
    "        for i in searchCoordinates[j]:\n",
    "            if i.isnumeric():\n",
    "                u+=i\n",
    "            else:\n",
    "                v = i\n",
    "        v = int(alphaCol[v])\n",
    "        findArtifacts(u,v)\n",
    "        \n",
    "    return[len(complete), len(partial)]"
   ]
  }
 ],
 "metadata": {
  "kernelspec": {
   "display_name": "Python 3",
   "language": "python",
   "name": "python3"
  },
  "language_info": {
   "codemirror_mode": {
    "name": "ipython",
    "version": 3
   },
   "file_extension": ".py",
   "mimetype": "text/x-python",
   "name": "python",
   "nbconvert_exporter": "python",
   "pygments_lexer": "ipython3",
   "version": "3.6.8"
  }
 },
 "nbformat": 4,
 "nbformat_minor": 4
}
