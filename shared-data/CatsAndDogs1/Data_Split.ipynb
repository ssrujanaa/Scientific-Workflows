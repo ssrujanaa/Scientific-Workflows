{
 "cells": [
  {
   "cell_type": "code",
   "execution_count": 10,
   "metadata": {},
   "outputs": [],
   "source": [
    "#!/usr/bin/env python3\n",
    "# coding: utf-8\n",
    "from sklearn.model_selection import train_test_split\n",
    "from glob import glob\n",
    "input_images = glob('Aug_resized_*.jpg')\n",
    "cat = []\n",
    "dog = []\n",
    "\n",
    "for i in range(len(input_images)):\n",
    "    if 'resized_Cat' in input_images[i]:\n",
    "        cat.append(input_images[i])\n",
    "    else:\n",
    "        dog.append(input_images[i]) \n",
    "        \n",
    "train_cat, test_cat = train_test_split(cat, test_size=0.2, random_state=42, shuffle=True)\n",
    "train_dog, test_dog = train_test_split(dog, test_size=0.2, random_state=42, shuffle=True)\n",
    "\n",
    "training_cat, val_cat = train_test_split(train_cat, test_size=0.1, random_state=42, shuffle=True)\n",
    "training_dog, val_dog = train_test_split(train_dog, test_size=0.1, random_state=42, shuffle=True)\n",
    "\n",
    "\n",
    "training_data = training_cat + training_dog\n",
    "testing_data = test_cat + test_dog\n",
    "val_data = val_cat + val_dog\n",
    "\n",
    "import pickle\n",
    "with open('training.pkl', 'wb') as f:\n",
    "    pickle.dump(training_data, f)\n",
    "    \n",
    "with open('testing.pkl', 'wb') as f:\n",
    "    pickle.dump(testing_data, f)\n",
    "    \n",
    "with open('validation.pkl', 'wb') as f:\n",
    "    pickle.dump(val_data,f)"
   ]
  },
  {
   "cell_type": "code",
   "execution_count": 9,
   "metadata": {},
   "outputs": [
    {
     "data": {
      "text/plain": [
       "48"
      ]
     },
     "execution_count": 9,
     "metadata": {},
     "output_type": "execute_result"
    }
   ],
   "source": [
    "len(val_data)"
   ]
  },
  {
   "cell_type": "code",
   "execution_count": null,
   "metadata": {},
   "outputs": [],
   "source": [
    "infile = open('training.pkl','rb')\n",
    "new_dict = pickle.load(infile)\n",
    "infile.close()"
   ]
  },
  {
   "cell_type": "code",
   "execution_count": null,
   "metadata": {},
   "outputs": [],
   "source": []
  },
  {
   "cell_type": "code",
   "execution_count": null,
   "metadata": {},
   "outputs": [],
   "source": []
  },
  {
   "cell_type": "code",
   "execution_count": null,
   "metadata": {},
   "outputs": [],
   "source": []
  }
 ],
 "metadata": {
  "kernelspec": {
   "display_name": "Python 3",
   "language": "python",
   "name": "python3"
  },
  "language_info": {
   "codemirror_mode": {
    "name": "ipython",
    "version": 3
   },
   "file_extension": ".py",
   "mimetype": "text/x-python",
   "name": "python",
   "nbconvert_exporter": "python",
   "pygments_lexer": "ipython3",
   "version": "3.6.8"
  }
 },
 "nbformat": 4,
 "nbformat_minor": 4
}
