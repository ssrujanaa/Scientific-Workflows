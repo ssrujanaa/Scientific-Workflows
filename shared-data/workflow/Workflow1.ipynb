{
 "cells": [
  {
   "cell_type": "code",
   "execution_count": 3,
   "metadata": {},
   "outputs": [
    {
     "data": {
      "text/plain": [
       "<Pegasus.api.workflow.Workflow at 0x7fb2d7db0dd8>"
      ]
     },
     "execution_count": 3,
     "metadata": {},
     "output_type": "execute_result"
    }
   ],
   "source": [
    "import logging\n",
    "\n",
    "from pathlib import Path\n",
    "\n",
    "from Pegasus.api import *\n",
    "\n",
    "logging.basicConfig(level=logging.DEBUG)\n",
    "\n",
    "#Properties\n",
    "props = Properties()\n",
    "props[\"pegasus.data.configuration\"] = \"condorio\"\n",
    "props[\"dagman.retry\"] = \"2\"\n",
    "props.write()\n",
    "\n",
    "\n",
    "#transformation\n",
    "echo =  Transformation(\n",
    "                \"echo\",\n",
    "                site=\"condorpool\",\n",
    "                pfn=\"/bin/echo\",\n",
    "                is_stageable=False,\n",
    "                arch=Arch.X86_64,\n",
    "                os_type=OS.LINUX\n",
    "            )\n",
    "tc = TransformationCatalog()\\\n",
    "    .add_transformations(echo)\\\n",
    "    .write()\n",
    "\n",
    "wf = Workflow(\"helloworld\")\n",
    "job_echo =  Job(echo)\\\n",
    "        .add_args(\"Hello World!!!\")\\\n",
    "        .set_stdout(\"out.txt\")\n",
    "\n",
    "wf.add_jobs(job_echo)\n",
    "\n"
   ]
  },
  {
   "cell_type": "code",
   "execution_count": null,
   "metadata": {},
   "outputs": [
    {
     "name": "stderr",
     "output_type": "stream",
     "text": [
      "Plan:\n",
      "[main] WARN  schema.JsonMetaSchema  - Unknown keyword $defs - you should define your own Meta Schema. If the keyword is irrelevant for validation, just use a NonValidationKeyword\n",
      "[main] WARN  schema.JsonMetaSchema  - Unknown keyword additionalItems - you should define your own Meta Schema. If the keyword is irrelevant for validation, just use a NonValidationKeyword\n",
      "[main] WARN  schema.JsonMetaSchema  - Unknown keyword examples - you should define your own Meta Schema. If the keyword is irrelevant for validation, just use a NonValidationKeyword\n",
      "2020.07.10 04:05:58.155 UTC:    \n",
      "2020.07.10 04:05:58.160 UTC:   ----------------------------------------------------------------------- \n",
      "2020.07.10 04:05:58.166 UTC:   File for submitting this DAG to HTCondor           : helloworld-0.dag.condor.sub \n",
      "2020.07.10 04:05:58.171 UTC:   Log of DAGMan debugging messages                 : helloworld-0.dag.dagman.out \n",
      "2020.07.10 04:05:58.177 UTC:   Log of HTCondor library output                     : helloworld-0.dag.lib.out \n",
      "2020.07.10 04:05:58.183 UTC:   Log of HTCondor library error messages             : helloworld-0.dag.lib.err \n",
      "2020.07.10 04:05:58.189 UTC:   Log of the life of condor_dagman itself          : helloworld-0.dag.dagman.log \n",
      "2020.07.10 04:05:58.196 UTC:    \n",
      "2020.07.10 04:05:58.203 UTC:   -no_submit given, not submitting DAG to HTCondor.  You can do this with: \n",
      "2020.07.10 04:05:58.214 UTC:   ----------------------------------------------------------------------- \n",
      "2020.07.10 04:05:58.925 UTC:   Your database is compatible with Pegasus version: 5.0.0dev \n",
      "2020.07.10 04:05:59.927 UTC:   Created Pegasus database in: sqlite:////home/scitech/shared-data/workflow/scitech/pegasus/helloworld/run0001/helloworld-0.replicas.db \n",
      "2020.07.10 04:05:59.933 UTC:   Your database is compatible with Pegasus version: 5.0.0dev \n",
      "2020.07.10 04:05:59.972 UTC:   Output replica catalog set to jdbc:sqlite:/home/scitech/shared-data/workflow/scitech/pegasus/helloworld/run0001/helloworld-0.replicas.db \n",
      "2020.07.10 04:06:00.159 UTC:   Submitting to condor helloworld-0.dag.condor.sub \n",
      "2020.07.10 04:06:00.181 UTC:    \n",
      "2020.07.10 04:06:00.186 UTC:   Your workflow has been started and is running in the base directory: \n",
      "2020.07.10 04:06:00.191 UTC:    \n",
      "2020.07.10 04:06:00.197 UTC:   /home/scitech/shared-data/workflow/scitech/pegasus/helloworld/run0001 \n",
      "2020.07.10 04:06:00.202 UTC:    \n",
      "2020.07.10 04:06:00.208 UTC:   *** To monitor the workflow you can run *** \n",
      "2020.07.10 04:06:00.214 UTC:    \n",
      "2020.07.10 04:06:00.220 UTC:   pegasus-status -l /home/scitech/shared-data/workflow/scitech/pegasus/helloworld/run0001 \n",
      "2020.07.10 04:06:00.226 UTC:    \n",
      "2020.07.10 04:06:00.232 UTC:   *** To remove your workflow run *** \n",
      "2020.07.10 04:06:00.238 UTC:    \n",
      "2020.07.10 04:06:00.244 UTC:   pegasus-remove /home/scitech/shared-data/workflow/scitech/pegasus/helloworld/run0001 \n",
      "2020.07.10 04:06:01.064 UTC:   Time taken to execute is 2.879 seconds \n",
      " \n",
      "2020.07.10 04:05:57.417 UTC: [WARNING]  --dax option is deprecated. The abstract workflow is passed via the last positional argument on the commandline. \n",
      "\n"
     ]
    },
    {
     "name": "stdout",
     "output_type": "stream",
     "text": [
      "[\u001b[1;32m#################\u001b[0m---------------------------------]  33.3% ..Running (\u001b[1;32mCompleted: 2\u001b[0m, \u001b[1;33mQueued: 0\u001b[0m, \u001b[1;36mRunning: 0\u001b[0m, \u001b[1;31mFailed: 0\u001b[0m)"
     ]
    }
   ],
   "source": [
    "try:\n",
    "     wf.plan(submit=True)\\\n",
    "        .wait()\\\n",
    "        .analyze()\\\n",
    "        .statistics()\n",
    "except PegasusClientError as e:\n",
    "    print(e.output)"
   ]
  },
  {
   "cell_type": "code",
   "execution_count": null,
   "metadata": {},
   "outputs": [],
   "source": []
  }
 ],
 "metadata": {
  "kernelspec": {
   "display_name": "Python 3",
   "language": "python",
   "name": "python3"
  },
  "language_info": {
   "codemirror_mode": {
    "name": "ipython",
    "version": 3
   },
   "file_extension": ".py",
   "mimetype": "text/x-python",
   "name": "python",
   "nbconvert_exporter": "python",
   "pygments_lexer": "ipython3",
   "version": "3.6.8"
  }
 },
 "nbformat": 4,
 "nbformat_minor": 4
}
