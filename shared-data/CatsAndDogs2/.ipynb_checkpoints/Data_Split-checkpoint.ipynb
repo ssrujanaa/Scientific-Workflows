{
 "cells": [
  {
   "cell_type": "code",
   "execution_count": 21,
   "metadata": {},
   "outputs": [],
   "source": [
    "#!/usr/bin/env python3\n",
    "# coding: utf-8\n",
    "from sklearn.model_selection import train_test_split\n",
    "from glob import glob\n",
    "input_images = glob('Aug_resized_*.jpg')\n",
    "cat = []\n",
    "dog = []\n",
    "\n",
    "for i in range(len(input_images)):\n",
    "    if 'resized_Cat' in input_images[i]:\n",
    "        cat.append(input_images[i])\n",
    "    else:\n",
    "        dog.append(input_images[i]) \n",
    "        \n",
    "train_cat, test_cat = train_test_split(cat, test_size=0.3, random_state=42, shuffle=True)\n",
    "train_dog, test_dog = train_test_split(dog, test_size=0.3, random_state=42, shuffle=True)\n",
    "\n",
    "training_data = train_cat + train_dog\n",
    "testing_data = test_cat + test_dog\n",
    "\n",
    "import pickle\n",
    "with open('training.pkl', 'wb') as f:\n",
    "    pickle.dump(training_data, f)\n",
    "    \n",
    "with open('testing.pkl', 'wb') as f:\n",
    "    pickle.dump(testing_data, f)"
   ]
  },
  {
   "cell_type": "code",
   "execution_count": null,
   "metadata": {},
   "outputs": [],
   "source": []
  },
  {
   "cell_type": "code",
   "execution_count": null,
   "metadata": {},
   "outputs": [],
   "source": []
  },
  {
   "cell_type": "code",
   "execution_count": null,
   "metadata": {},
   "outputs": [],
   "source": []
  },
  {
   "cell_type": "code",
   "execution_count": null,
   "metadata": {},
   "outputs": [],
   "source": []
  },
  {
   "cell_type": "code",
   "execution_count": null,
   "metadata": {},
   "outputs": [],
   "source": []
  }
 ],
 "metadata": {
  "kernelspec": {
   "display_name": "Python 3",
   "language": "python",
   "name": "python3"
  },
  "language_info": {
   "codemirror_mode": {
    "name": "ipython",
    "version": 3
   },
   "file_extension": ".py",
   "mimetype": "text/x-python",
   "name": "python",
   "nbconvert_exporter": "python",
   "pygments_lexer": "ipython3",
   "version": "3.6.8"
  }
 },
 "nbformat": 4,
 "nbformat_minor": 4
}
