{
 "cells": [
  {
   "cell_type": "code",
   "execution_count": 1,
   "metadata": {},
   "outputs": [],
   "source": [
    "# #!/usr/bin/env python3\n",
    "# import os\n",
    "# import logging\n",
    "# from pathlib import Path\n",
    "# import requests from optkeras.optkeras import OptKeras\n",
    "# import optkeras\n",
    "# import pickle\n",
    "# from os import listdir\n",
    "# from numpy import asarray\n",
    "# from numpy import save\n",
    "# from keras.preprocessing.image import load_img\n",
    "# from keras.preprocessing.image import img_to_array\n",
    "# import numpy as np\n",
    "# from keras import layers\n",
    "# from keras.layers import Input,Dense,BatchNormalization,Flatten,Dropout,GlobalAveragePooling2D\n",
    "# from keras.models import Model, load_model\n",
    "# from keras.utils import layer_utils\n",
    "# from keras.optimizers import Adam\n",
    "# from keras.callbacks import ModelCheckpoint\n",
    "# from keras.callbacks import EarlyStopping\n",
    "# import keras.backend as K\n",
    "# from keras.applications.vgg16 import VGG16\n",
    "# from keras.models import Model,load_model\n",
    "# from keras.optimizers import RMSprop\n",
    "\n",
    "# import optuna\n",
    "# from zipfile import ZipFile\n",
    "\n",
    "# logging.basicConfig(level=logging.DEBUG)\n",
    "\n",
    "# #Import Pegasus API\n",
    "# from Pegasus.api import *\n",
    "\n",
    "# #Downloading dataset\n",
    "# zipurl = 'https://download.microsoft.com/download/3/E/1/3E1C3F21-ECDB-4869-8368-6DEBA77B919F/kagglecatsanddogs_3367a.zip'    \n",
    "# r = requests.get(zipurl, stream = True) \n",
    "  \n",
    "# with open(\"dataset.zip\",\"wb\") as pdf: \n",
    "#     for chunk in r.iter_content(chunk_size=1024): \n",
    "#          if chunk: \n",
    "#             pdf.write(chunk)\n",
    "            \n",
    "# # Extract all the contents of zip file in current directory            \n",
    "# with ZipFile('dataset.zip', 'r') as zipObj:\n",
    "#     zipObj.extractall()"
   ]
  },
  {
   "cell_type": "code",
   "execution_count": 3,
   "metadata": {},
   "outputs": [
    {
     "name": "stderr",
     "output_type": "stream",
     "text": [
      "Using TensorFlow backend.\n",
      "/usr/local/lib/python3.6/site-packages/tensorflow/python/framework/dtypes.py:526: FutureWarning: Passing (type, 1) or '1type' as a synonym of type is deprecated; in a future version of numpy, it will be understood as (type, (1,)) / '(1,)type'.\n",
      "  _np_qint8 = np.dtype([(\"qint8\", np.int8, 1)])\n",
      "/usr/local/lib/python3.6/site-packages/tensorflow/python/framework/dtypes.py:527: FutureWarning: Passing (type, 1) or '1type' as a synonym of type is deprecated; in a future version of numpy, it will be understood as (type, (1,)) / '(1,)type'.\n",
      "  _np_quint8 = np.dtype([(\"quint8\", np.uint8, 1)])\n",
      "/usr/local/lib/python3.6/site-packages/tensorflow/python/framework/dtypes.py:528: FutureWarning: Passing (type, 1) or '1type' as a synonym of type is deprecated; in a future version of numpy, it will be understood as (type, (1,)) / '(1,)type'.\n",
      "  _np_qint16 = np.dtype([(\"qint16\", np.int16, 1)])\n",
      "/usr/local/lib/python3.6/site-packages/tensorflow/python/framework/dtypes.py:529: FutureWarning: Passing (type, 1) or '1type' as a synonym of type is deprecated; in a future version of numpy, it will be understood as (type, (1,)) / '(1,)type'.\n",
      "  _np_quint16 = np.dtype([(\"quint16\", np.uint16, 1)])\n",
      "/usr/local/lib/python3.6/site-packages/tensorflow/python/framework/dtypes.py:530: FutureWarning: Passing (type, 1) or '1type' as a synonym of type is deprecated; in a future version of numpy, it will be understood as (type, (1,)) / '(1,)type'.\n",
      "  _np_qint32 = np.dtype([(\"qint32\", np.int32, 1)])\n",
      "/usr/local/lib/python3.6/site-packages/tensorflow/python/framework/dtypes.py:535: FutureWarning: Passing (type, 1) or '1type' as a synonym of type is deprecated; in a future version of numpy, it will be understood as (type, (1,)) / '(1,)type'.\n",
      "  np_resource = np.dtype([(\"resource\", np.ubyte, 1)])\n",
      "/usr/local/lib/python3.6/site-packages/optuna/structs.py:21: FutureWarning: `structs` is deprecated. Classes have moved to the following modules. `structs.StudyDirection`->`study.StudyDirection`, `structs.StudySummary`->`study.StudySummary`, `structs.FrozenTrial`->`trial.FrozenTrial`, `structs.TrialState`->`trial.TrialState`, `structs.TrialPruned`->`exceptions.TrialPruned`.\n",
      "  warnings.warn(_message, FutureWarning)\n"
     ]
    }
   ],
   "source": [
    "from optkeras.optkeras import OptKeras\n",
    "import optkeras\n",
    "import pickle\n",
    "from os import listdir\n",
    "from numpy import asarray\n",
    "from numpy import save\n",
    "from keras.preprocessing.image import load_img\n",
    "from keras.preprocessing.image import img_to_array\n",
    "import numpy as np\n",
    "from keras import layers\n",
    "from keras.layers import Input,Dense,BatchNormalization,Flatten,Dropout,GlobalAveragePooling2D\n",
    "from keras.models import Model, load_model\n",
    "from keras.utils import layer_utils\n",
    "from keras.optimizers import Adam\n",
    "from keras.callbacks import ModelCheckpoint\n",
    "from keras.callbacks import EarlyStopping\n",
    "import keras.backend as K\n",
    "from keras.applications.vgg16 import VGG16\n",
    "from keras.models import Model,load_model\n",
    "from keras.optimizers import RMSprop\n",
    "\n",
    "import optuna"
   ]
  },
  {
   "cell_type": "code",
   "execution_count": 1,
   "metadata": {},
   "outputs": [
    {
     "name": "stdout",
     "output_type": "stream",
     "text": [
      "Collecting pip\n",
      "  Downloading pip-20.2.3-py2.py3-none-any.whl (1.5 MB)\n",
      "\u001b[K     |████████████████████████████████| 1.5 MB 357 kB/s eta 0:00:01\n",
      "\u001b[?25hInstalling collected packages: pip\n",
      "  Attempting uninstall: pip\n",
      "    Found existing installation: pip 20.2.2\n",
      "    Uninstalling pip-20.2.2:\n",
      "      Successfully uninstalled pip-20.2.2\n",
      "Successfully installed pip-20.2.3\n"
     ]
    }
   ],
   "source": [
    "!sudo pip3 install --upgrade pip"
   ]
  },
  {
   "cell_type": "code",
   "execution_count": 2,
   "metadata": {
    "scrolled": true
   },
   "outputs": [
    {
     "name": "stdout",
     "output_type": "stream",
     "text": [
      "Requirement already up-to-date: pip in /usr/local/lib/python3.6/site-packages (20.2.3)\n",
      "Collecting keras==2.1.5\n",
      "  Downloading Keras-2.1.5-py2.py3-none-any.whl (334 kB)\n",
      "\u001b[K     |████████████████████████████████| 334 kB 349 kB/s eta 0:00:01\n",
      "\u001b[?25hCollecting tensorflow==1.13.1\n",
      "  Downloading tensorflow-1.13.1-cp36-cp36m-manylinux1_x86_64.whl (92.5 MB)\n",
      "\u001b[K     |████████████████████████████████| 92.5 MB 8.4 MB/s eta 0:00:011    |████▋                           | 13.2 MB 8.0 MB/s eta 0:00:10     |█████████▍                      | 27.1 MB 8.6 MB/s eta 0:00:08     |█████████▉                      | 28.5 MB 8.6 MB/s eta 0:00:08     |████████████████▏               | 46.9 MB 5.1 MB/s eta 0:00:10\n",
      "\u001b[?25hCollecting numpy\n",
      "  Downloading numpy-1.19.2-cp36-cp36m-manylinux2010_x86_64.whl (14.5 MB)\n",
      "\u001b[K     |████████████████████████████████| 14.5 MB 583 kB/s eta 0:00:01\n",
      "\u001b[?25hCollecting pandas\n",
      "  Downloading pandas-1.1.2-cp36-cp36m-manylinux1_x86_64.whl (10.5 MB)\n",
      "\u001b[K     |████████████████████████████████| 10.5 MB 2.8 MB/s eta 0:00:01    |██▎                             | 747 kB 1.5 MB/s eta 0:00:07     |████████████████████████▉       | 8.1 MB 2.9 MB/s eta 0:00:01\n",
      "\u001b[?25hCollecting pillow\n",
      "  Downloading Pillow-7.2.0-cp36-cp36m-manylinux1_x86_64.whl (2.2 MB)\n",
      "\u001b[K     |████████████████████████████████| 2.2 MB 1.5 MB/s eta 0:00:01\n",
      "\u001b[?25hCollecting sklearn\n",
      "  Downloading sklearn-0.0.tar.gz (1.1 kB)\n",
      "Collecting optuna\n",
      "  Downloading optuna-2.1.0.tar.gz (232 kB)\n",
      "\u001b[K     |████████████████████████████████| 232 kB 5.6 MB/s eta 0:00:01\n",
      "\u001b[?25h  Installing build dependencies ... \u001b[?25ldone\n",
      "\u001b[?25h  Getting requirements to build wheel ... \u001b[?25ldone\n",
      "\u001b[?25h    Preparing wheel metadata ... \u001b[?25ldone\n",
      "\u001b[?25hCollecting scikit-image\n",
      "  Downloading scikit_image-0.17.2-cp36-cp36m-manylinux1_x86_64.whl (12.4 MB)\n",
      "\u001b[K     |████████████████████████████████| 12.4 MB 3.8 MB/s eta 0:00:01\n",
      "\u001b[?25hCollecting optkeras\n",
      "  Downloading optkeras-0.0.7-py3-none-any.whl (6.9 kB)\n",
      "Requirement already satisfied, skipping upgrade: pyyaml in /usr/lib64/python3.6/site-packages (from keras==2.1.5) (3.13)\n",
      "Collecting scipy>=0.14\n",
      "  Downloading scipy-1.5.2-cp36-cp36m-manylinux1_x86_64.whl (25.9 MB)\n",
      "\u001b[K     |████████████████████████████████| 25.9 MB 3.0 MB/s eta 0:00:01\n",
      "\u001b[?25hRequirement already satisfied, skipping upgrade: six>=1.9.0 in /usr/lib/python3.6/site-packages (from keras==2.1.5) (1.14.0)\n",
      "Collecting gast>=0.2.0\n",
      "  Downloading gast-0.4.0-py3-none-any.whl (9.8 kB)\n",
      "Collecting keras-preprocessing>=1.0.5\n",
      "  Downloading Keras_Preprocessing-1.1.2-py2.py3-none-any.whl (42 kB)\n",
      "\u001b[K     |████████████████████████████████| 42 kB 2.2 MB/s  eta 0:00:01\n",
      "\u001b[?25hCollecting keras-applications>=1.0.6\n",
      "  Downloading Keras_Applications-1.0.8-py3-none-any.whl (50 kB)\n",
      "\u001b[K     |████████████████████████████████| 50 kB 6.9 MB/s eta 0:00:011\n",
      "\u001b[?25hCollecting astor>=0.6.0\n",
      "  Downloading astor-0.8.1-py2.py3-none-any.whl (27 kB)\n",
      "Collecting termcolor>=1.1.0\n",
      "  Downloading termcolor-1.1.0.tar.gz (3.9 kB)\n",
      "Collecting tensorflow-estimator<1.14.0rc0,>=1.13.0\n",
      "  Downloading tensorflow_estimator-1.13.0-py2.py3-none-any.whl (367 kB)\n",
      "\u001b[K     |████████████████████████████████| 367 kB 13.6 MB/s eta 0:00:01\n",
      "\u001b[?25hCollecting absl-py>=0.1.6\n",
      "  Downloading absl_py-0.10.0-py3-none-any.whl (127 kB)\n",
      "\u001b[K     |████████████████████████████████| 127 kB 15.9 MB/s eta 0:00:01\n",
      "\u001b[?25hCollecting wheel>=0.26\n",
      "  Using cached wheel-0.35.1-py2.py3-none-any.whl (33 kB)\n",
      "Collecting grpcio>=1.8.6\n",
      "  Downloading grpcio-1.32.0-cp36-cp36m-manylinux2014_x86_64.whl (3.8 MB)\n",
      "\u001b[K     |████████████████████████████████| 3.8 MB 12.8 MB/s eta 0:00:01\n",
      "\u001b[?25hCollecting tensorboard<1.14.0,>=1.13.0\n",
      "  Downloading tensorboard-1.13.1-py3-none-any.whl (3.2 MB)\n",
      "\u001b[K     |████████████████████████████████| 3.2 MB 16.9 MB/s eta 0:00:01\n",
      "\u001b[?25hCollecting protobuf>=3.6.1\n",
      "  Downloading protobuf-3.13.0-cp36-cp36m-manylinux1_x86_64.whl (1.3 MB)\n",
      "\u001b[K     |████████████████████████████████| 1.3 MB 13.3 MB/s eta 0:00:01\n",
      "\u001b[?25hRequirement already satisfied, skipping upgrade: python-dateutil>=2.7.3 in /usr/local/lib/python3.6/site-packages (from pandas) (2.8.1)\n",
      "Requirement already satisfied, skipping upgrade: pytz>=2017.2 in /usr/local/lib/python3.6/site-packages (from pandas) (2020.1)\n",
      "Collecting scikit-learn\n",
      "  Downloading scikit_learn-0.23.2-cp36-cp36m-manylinux1_x86_64.whl (6.8 MB)\n",
      "\u001b[K     |████████████████████████████████| 6.8 MB 17.2 MB/s eta 0:00:01\n",
      "\u001b[?25hCollecting joblib\n",
      "  Downloading joblib-0.16.0-py3-none-any.whl (300 kB)\n",
      "\u001b[K     |████████████████████████████████| 300 kB 14.3 MB/s eta 0:00:01\n",
      "\u001b[?25hCollecting colorlog\n",
      "  Downloading colorlog-4.2.1-py2.py3-none-any.whl (14 kB)\n",
      "Collecting cmaes>=0.6.0\n",
      "  Downloading cmaes-0.6.1-py3-none-any.whl (9.7 kB)\n",
      "Collecting sqlalchemy>=1.1.0\n",
      "  Downloading SQLAlchemy-1.3.19-cp36-cp36m-manylinux2010_x86_64.whl (1.3 MB)\n",
      "\u001b[K     |████████████████████████████████| 1.3 MB 14.7 MB/s eta 0:00:01\n",
      "\u001b[?25hCollecting tqdm\n",
      "  Downloading tqdm-4.49.0-py2.py3-none-any.whl (69 kB)\n",
      "\u001b[K     |████████████████████████████████| 69 kB 7.8 MB/s  eta 0:00:01\n",
      "\u001b[?25hRequirement already satisfied, skipping upgrade: packaging>=20.0 in /usr/local/lib/python3.6/site-packages (from optuna) (20.4)\n",
      "Collecting alembic\n",
      "  Downloading alembic-1.4.3-py2.py3-none-any.whl (159 kB)\n",
      "\u001b[K     |████████████████████████████████| 159 kB 13.4 MB/s eta 0:00:01\n",
      "\u001b[?25hCollecting cliff\n",
      "  Downloading cliff-3.4.0-py3-none-any.whl (76 kB)\n",
      "\u001b[K     |████████████████████████████████| 76 kB 5.6 MB/s eta 0:00:011\n",
      "\u001b[?25hCollecting matplotlib!=3.0.0,>=2.0.0\n",
      "  Downloading matplotlib-3.3.2-cp36-cp36m-manylinux1_x86_64.whl (11.6 MB)\n",
      "\u001b[K     |████████████████████████████████| 11.6 MB 13.2 MB/s eta 0:00:01\n",
      "\u001b[?25hCollecting imageio>=2.3.0\n",
      "  Downloading imageio-2.9.0-py3-none-any.whl (3.3 MB)\n",
      "\u001b[K     |████████████████████████████████| 3.3 MB 13.2 MB/s eta 0:00:01\n",
      "\u001b[?25hCollecting networkx>=2.0\n",
      "  Downloading networkx-2.5-py3-none-any.whl (1.6 MB)\n",
      "\u001b[K     |████████████████████████████████| 1.6 MB 17.3 MB/s eta 0:00:01\n",
      "\u001b[?25hCollecting PyWavelets>=1.1.1\n",
      "  Downloading PyWavelets-1.1.1-cp36-cp36m-manylinux1_x86_64.whl (4.4 MB)\n",
      "\u001b[K     |████████████████████████████████| 4.4 MB 20.9 MB/s eta 0:00:01\n",
      "\u001b[?25hCollecting tifffile>=2019.7.26\n",
      "  Downloading tifffile-2020.9.3-py3-none-any.whl (148 kB)\n",
      "\u001b[K     |████████████████████████████████| 148 kB 21.8 MB/s eta 0:00:01\n",
      "\u001b[?25hCollecting h5py\n",
      "  Downloading h5py-2.10.0-cp36-cp36m-manylinux1_x86_64.whl (2.9 MB)\n",
      "\u001b[K     |████████████████████████████████| 2.9 MB 16.5 MB/s eta 0:00:01\n",
      "\u001b[?25hCollecting mock>=2.0.0\n",
      "  Downloading mock-4.0.2-py3-none-any.whl (28 kB)\n",
      "Collecting werkzeug>=0.11.15\n",
      "  Downloading Werkzeug-1.0.1-py2.py3-none-any.whl (298 kB)\n",
      "\u001b[K     |████████████████████████████████| 298 kB 13.0 MB/s eta 0:00:01\n",
      "\u001b[?25hCollecting markdown>=2.6.8\n",
      "  Downloading Markdown-3.2.2-py3-none-any.whl (88 kB)\n",
      "\u001b[K     |████████████████████████████████| 88 kB 8.5 MB/s  eta 0:00:01\n",
      "\u001b[?25hRequirement already satisfied, skipping upgrade: setuptools in /usr/lib/python3.6/site-packages (from protobuf>=3.6.1->tensorflow==1.13.1) (39.2.0)\n",
      "Collecting threadpoolctl>=2.0.0\n",
      "  Downloading threadpoolctl-2.1.0-py3-none-any.whl (12 kB)\n",
      "Requirement already satisfied, skipping upgrade: pyparsing>=2.0.2 in /usr/local/lib/python3.6/site-packages (from packaging>=20.0->optuna) (2.4.7)\n",
      "Collecting Mako\n",
      "  Downloading Mako-1.1.3-py2.py3-none-any.whl (75 kB)\n",
      "\u001b[K     |████████████████████████████████| 75 kB 6.2 MB/s  eta 0:00:01\n",
      "\u001b[?25hCollecting python-editor>=0.3\n",
      "  Downloading python_editor-1.0.4-py3-none-any.whl (4.9 kB)\n",
      "Collecting cmd2!=0.8.3,>=0.8.0\n",
      "  Downloading cmd2-1.3.9-py3-none-any.whl (131 kB)\n",
      "\u001b[K     |████████████████████████████████| 131 kB 15.8 MB/s eta 0:00:01\n",
      "\u001b[?25hCollecting PrettyTable<0.8,>=0.7.2\n",
      "  Downloading prettytable-0.7.2.tar.bz2 (21 kB)\n",
      "Collecting pbr!=2.1.0,>=2.0.0\n",
      "  Downloading pbr-5.5.0-py2.py3-none-any.whl (106 kB)\n",
      "\u001b[K     |████████████████████████████████| 106 kB 10.1 MB/s eta 0:00:01\n",
      "\u001b[?25hCollecting stevedore>=2.0.1\n",
      "  Downloading stevedore-3.2.2-py3-none-any.whl (42 kB)\n",
      "\u001b[K     |████████████████████████████████| 42 kB 1.9 MB/s  eta 0:00:01\n",
      "\u001b[?25hCollecting cycler>=0.10\n",
      "  Downloading cycler-0.10.0-py2.py3-none-any.whl (6.5 kB)\n",
      "Collecting kiwisolver>=1.0.1\n",
      "  Downloading kiwisolver-1.2.0-cp36-cp36m-manylinux1_x86_64.whl (88 kB)\n",
      "\u001b[K     |████████████████████████████████| 88 kB 6.6 MB/s  eta 0:00:01\n"
     ]
    },
    {
     "name": "stdout",
     "output_type": "stream",
     "text": [
      "\u001b[?25hRequirement already satisfied, skipping upgrade: certifi>=2020.06.20 in /usr/local/lib/python3.6/site-packages (from matplotlib!=3.0.0,>=2.0.0->scikit-image) (2020.6.20)\n",
      "Requirement already satisfied, skipping upgrade: decorator>=4.3.0 in /usr/local/lib/python3.6/site-packages (from networkx>=2.0->scikit-image) (4.4.2)\n",
      "Requirement already satisfied, skipping upgrade: importlib-metadata; python_version < \"3.8\" in /usr/local/lib/python3.6/site-packages (from markdown>=2.6.8->tensorboard<1.14.0,>=1.13.0->tensorflow==1.13.1) (1.7.0)\n",
      "Requirement already satisfied, skipping upgrade: MarkupSafe>=0.9.2 in /usr/local/lib64/python3.6/site-packages (from Mako->alembic->optuna) (1.1.1)\n",
      "Requirement already satisfied, skipping upgrade: attrs>=16.3.0 in /usr/local/lib/python3.6/site-packages (from cmd2!=0.8.3,>=0.8.0->cliff->optuna) (20.1.0)\n",
      "Requirement already satisfied, skipping upgrade: wcwidth>=0.1.7 in /usr/local/lib/python3.6/site-packages (from cmd2!=0.8.3,>=0.8.0->cliff->optuna) (0.2.5)\n",
      "Collecting pyperclip>=1.6\n",
      "  Downloading pyperclip-1.8.0.tar.gz (16 kB)\n",
      "Collecting colorama>=0.3.7\n",
      "  Downloading colorama-0.4.3-py2.py3-none-any.whl (15 kB)\n",
      "Requirement already satisfied, skipping upgrade: zipp>=0.5 in /usr/local/lib/python3.6/site-packages (from importlib-metadata; python_version < \"3.8\"->markdown>=2.6.8->tensorboard<1.14.0,>=1.13.0->tensorflow==1.13.1) (3.1.0)\n",
      "Using legacy 'setup.py install' for sklearn, since package 'wheel' is not installed.\n",
      "Using legacy 'setup.py install' for termcolor, since package 'wheel' is not installed.\n",
      "Using legacy 'setup.py install' for PrettyTable, since package 'wheel' is not installed.\n",
      "Using legacy 'setup.py install' for pyperclip, since package 'wheel' is not installed.\n",
      "Building wheels for collected packages: optuna\n",
      "  Building wheel for optuna (PEP 517) ... \u001b[?25ldone\n",
      "\u001b[?25h  Created wheel for optuna: filename=optuna-2.1.0-py3-none-any.whl size=321090 sha256=d26c7b41fa728c3073d690f4398bffce25190a91afd792d84e144326f378af72\n",
      "  Stored in directory: /root/.cache/pip/wheels/23/13/e3/e2c767339ab685a3fae35e10741b5c4345369a901352cc8d5a\n",
      "Successfully built optuna\n",
      "Installing collected packages: numpy, scipy, keras, gast, keras-preprocessing, h5py, keras-applications, astor, termcolor, mock, absl-py, tensorflow-estimator, wheel, grpcio, werkzeug, protobuf, markdown, tensorboard, tensorflow, pandas, pillow, threadpoolctl, joblib, scikit-learn, sklearn, colorlog, cmaes, sqlalchemy, tqdm, Mako, python-editor, alembic, pyperclip, colorama, cmd2, PrettyTable, pbr, stevedore, cliff, optuna, cycler, kiwisolver, matplotlib, imageio, networkx, PyWavelets, tifffile, scikit-image, optkeras\n",
      "    Running setup.py install for termcolor ... \u001b[?25ldone\n",
      "\u001b[?25h    Running setup.py install for sklearn ... \u001b[?25ldone\n",
      "\u001b[?25h    Running setup.py install for pyperclip ... \u001b[?25ldone\n",
      "\u001b[?25h    Running setup.py install for PrettyTable ... \u001b[?25ldone\n",
      "\u001b[?25hSuccessfully installed Mako-1.1.3 PrettyTable-0.7.2 PyWavelets-1.1.1 absl-py-0.10.0 alembic-1.4.3 astor-0.8.1 cliff-3.4.0 cmaes-0.6.1 cmd2-1.3.9 colorama-0.4.3 colorlog-4.2.1 cycler-0.10.0 gast-0.4.0 grpcio-1.32.0 h5py-2.10.0 imageio-2.9.0 joblib-0.16.0 keras-2.1.5 keras-applications-1.0.8 keras-preprocessing-1.1.2 kiwisolver-1.2.0 markdown-3.2.2 matplotlib-3.3.2 mock-4.0.2 networkx-2.5 numpy-1.19.2 optkeras-0.0.7 optuna-2.1.0 pandas-1.1.2 pbr-5.5.0 pillow-7.2.0 protobuf-3.13.0 pyperclip-1.8.0 python-editor-1.0.4 scikit-image-0.17.2 scikit-learn-0.23.2 scipy-1.5.2 sklearn-0.0 sqlalchemy-1.3.19 stevedore-3.2.2 tensorboard-1.13.1 tensorflow-1.13.1 tensorflow-estimator-1.13.0 termcolor-1.1.0 threadpoolctl-2.1.0 tifffile-2020.9.3 tqdm-4.49.0 werkzeug-1.0.1 wheel-0.35.1\n"
     ]
    }
   ],
   "source": [
    "!sudo pip3 install --upgrade pip keras==2.1.5 tensorflow==1.13.1 numpy pandas pillow sklearn optuna scikit-image  optkeras"
   ]
  },
  {
   "cell_type": "code",
   "execution_count": 3,
   "metadata": {
    "scrolled": true
   },
   "outputs": [],
   "source": [
    "# !sudo pip3 install optkeras"
   ]
  },
  {
   "cell_type": "code",
   "execution_count": null,
   "metadata": {
    "scrolled": true
   },
   "outputs": [],
   "source": []
  },
  {
   "cell_type": "code",
   "execution_count": null,
   "metadata": {},
   "outputs": [],
   "source": []
  },
  {
   "cell_type": "code",
   "execution_count": 4,
   "metadata": {},
   "outputs": [],
   "source": [
    "\n",
    "import os\n",
    "import signal\n",
    "import sys\n",
    "import time\n",
    "import traceback\n",
    "\n",
    "from pathlib import Path"
   ]
  },
  {
   "cell_type": "code",
   "execution_count": 5,
   "metadata": {},
   "outputs": [
    {
     "data": {
      "text/plain": [
       "<Pegasus.api.workflow.Workflow at 0x7f6c29b76a90>"
      ]
     },
     "execution_count": 5,
     "metadata": {},
     "output_type": "execute_result"
    }
   ],
   "source": [
    "#!/usr/bin/env python3\n",
    "import os\n",
    "import logging\n",
    "from pathlib import Path\n",
    "import requests \n",
    "from glob import glob\n",
    "from zipfile import ZipFile\n",
    "\n",
    "logging.basicConfig(level=logging.DEBUG)\n",
    "\n",
    "#Import Pegasus API\n",
    "from Pegasus.api import *\n",
    "\n",
    "#Properties\n",
    "props = Properties()\n",
    "props[\"pegasus.data.configuration\"] = \"condorio\"\n",
    "props[\"dagman.retry\"] = \"100\"\n",
    "props.write()\n",
    "\n",
    "#Replica Catalog\n",
    "rc = ReplicaCatalog()\n",
    "input_files = glob('*.jpg')\n",
    "input_files.sort()\n",
    "in_files=[]\n",
    "\n",
    "import os\n",
    "import pickle\n",
    "        \n",
    "checkpoint_file = \"study_checkpoint.pkl\"\n",
    "if not os.path.isfile(checkpoint_file):\n",
    "    with open(checkpoint_file,'wb') as file:\n",
    "        pickle.dump(\"0\", file)\n",
    "        \n",
    "checkpoint_final = \"final_checkpoint.pkl\"\n",
    "# if not os.path.isfile(checkpoint_final):\n",
    "#     with open(checkpoint_final,'wb') as file:\n",
    "#         pickle.dump(\"0\", file)\n",
    "\n",
    "\n",
    "for file in input_files:\n",
    "    in_files.append(File(file))\n",
    "    rc.add_replica(\"local\", File(file), str(Path(\".\").resolve() / file))  \n",
    "rc.add_replica(\"local\", File(checkpoint_file), str(Path(\".\").resolve() / file)) \n",
    "rc.write()\n",
    "\n",
    "\n",
    "#Transformation\n",
    "pre_process_resize = Transformation( \"preprocess1.py\",\n",
    "        site = \"local\",\n",
    "        pfn = \"/home/scitech/shared-data/CatsAndDogs/preprocess1.py\",\n",
    "        is_stageable=True)\n",
    "\n",
    "pre_process_augment = Transformation( \"Augmentation.py\",\n",
    "        site = \"local\",\n",
    "        pfn = \"/home/scitech/shared-data/CatsAndDogs/Augmentation.py\",\n",
    "        is_stageable=True)\n",
    "\n",
    "data_split  = Transformation( \"Data_Split.py\",\n",
    "        site = \"local\",\n",
    "        pfn = \"/home/scitech/shared-data/CatsAndDogs/Data_Split.py\",\n",
    "        is_stageable=True)\n",
    "\n",
    "vgg_model  = Transformation( \"VGG_model.py\",\n",
    "        site = \"local\",\n",
    "        pfn = \"/home/scitech/shared-data/CatsAndDogs/VGG_model.py\",\n",
    "        is_stageable=True)\n",
    "\n",
    "hpo =  Transformation( \"hpo_checkpointing.py\",\n",
    "        site = \"local\",\n",
    "        pfn = \"/home/scitech/shared-data/CatsAndDogs/hpo_checkpointing.py\",\n",
    "        is_stageable=True)\n",
    "                    \n",
    "tc = TransformationCatalog()\\\n",
    "    .add_transformations(pre_process_resize,pre_process_augment,data_split,vgg_model,hpo)\\\n",
    "    .write()\n",
    "\n",
    "#Workflow\n",
    "wf = Workflow(\"Cats_and_Dogs\", infer_dependencies=True)\n",
    "\n",
    "\n",
    "resized_images = File('resized_images.txt')\n",
    "all_files = [File(\"resized_{}\".format(f.lfn)) for f in in_files]\n",
    "labels = File('labels.txt')\n",
    "\n",
    "job_preprocess1 = Job(pre_process_resize)\\\n",
    "                    .add_inputs(*in_files)\\\n",
    "                    .add_outputs(*all_files,resized_images,labels) \n",
    "\n",
    "aug_images_txt = File('augmentation.txt')\n",
    "aug_labels_txt = File('aug_labels.txt')\n",
    "augmented_files = []\n",
    "for f in all_files:\n",
    "    augmented_files.extend([File(str(f).replace(\"{}\".format(os.path.splitext(str(f))[0]), \"Aug_{}_{}\".format(os.path.splitext(str(f))[0],i))) for i in range(3)])\n",
    "\n",
    "    \n",
    "job_preprocess2 = Job(pre_process_augment)\\\n",
    "                    .add_inputs(*all_files,labels)\\\n",
    "                    .add_outputs(aug_images_txt,aug_labels_txt,*augmented_files)\n",
    "\n",
    "training_data = File('training.pkl')\n",
    "testing_data = File('testing.pkl')\n",
    "val_data = File('validation.pkl')\n",
    "\n",
    "job_data_split = Job(data_split)\\\n",
    "                    .add_inputs(*augmented_files,labels)\\\n",
    "                    .add_outputs(training_data,testing_data,val_data)\n",
    "\n",
    "model = File('model.h5')\n",
    "\n",
    "job_vgg_model = Job(vgg_model)\\\n",
    "                    .add_inputs(*augmented_files,training_data,testing_data,val_data)\\\n",
    "                    .add_outputs(model)\n",
    "\n",
    "# final_checkpoint_file = File(\"final_checkpoint.pkl\")\n",
    "\n",
    "\n",
    "job_hpo = Job(hpo)\\\n",
    "                    .add_checkpoint(File(checkpoint_file), stage_out=True)\\\n",
    "                    .add_inputs(model,*augmented_files,training_data,testing_data,val_data)\\\n",
    "                    .add_profiles(Namespace.PEGASUS, key=\"maxwalltime\", value=10)\\\n",
    "                    .add_outputs(File(checkpoint_final))\n",
    "\n",
    "\n",
    "wf.add_jobs(job_preprocess1,job_preprocess2,job_data_split,job_vgg_model,job_hpo)                                    "
   ]
  },
  {
   "cell_type": "code",
   "execution_count": null,
   "metadata": {
    "scrolled": true
   },
   "outputs": [
    {
     "name": "stderr",
     "output_type": "stream",
     "text": [
      "\n",
      "################\n",
      "# pegasus-plan #\n",
      "################\n",
      "[main] WARN  schema.JsonMetaSchema  - Unknown keyword $defs - you should define your own Meta Schema. If the keyword is irrelevant for validation, just use a NonValidationKeyword\n",
      "[main] WARN  schema.JsonMetaSchema  - Unknown keyword additionalItems - you should define your own Meta Schema. If the keyword is irrelevant for validation, just use a NonValidationKeyword\n",
      "[main] WARN  schema.JsonMetaSchema  - Unknown keyword examples - you should define your own Meta Schema. If the keyword is irrelevant for validation, just use a NonValidationKeyword\n",
      "2020.09.16 17:25:12.090 UTC:\n",
      "2020.09.16 17:25:12.095 UTC:   -----------------------------------------------------------------------\n",
      "2020.09.16 17:25:12.100 UTC:   File for submitting this DAG to HTCondor           : Cats_and_Dogs-0.dag.condor.sub\n",
      "2020.09.16 17:25:12.106 UTC:   Log of DAGMan debugging messages                 : Cats_and_Dogs-0.dag.dagman.out\n",
      "2020.09.16 17:25:12.111 UTC:   Log of HTCondor library output                     : Cats_and_Dogs-0.dag.lib.out\n",
      "2020.09.16 17:25:12.117 UTC:   Log of HTCondor library error messages             : Cats_and_Dogs-0.dag.lib.err\n",
      "2020.09.16 17:25:12.122 UTC:   Log of the life of condor_dagman itself          : Cats_and_Dogs-0.dag.dagman.log\n",
      "2020.09.16 17:25:12.128 UTC:\n",
      "2020.09.16 17:25:12.133 UTC:   -no_submit given, not submitting DAG to HTCondor.  You can do this with:\n",
      "2020.09.16 17:25:12.145 UTC:   -----------------------------------------------------------------------\n",
      "2020.09.16 17:25:13.093 UTC:   Your database is compatible with Pegasus version: 5.0.0dev\n",
      "2020.09.16 17:25:14.096 UTC:   Created Pegasus database in: sqlite:////home/scitech/shared-data/CatsAndDogs/scitech/pegasus/Cats_and_Dogs/run0015/Cats_and_Dogs-0.replicas.db\n",
      "2020.09.16 17:25:14.101 UTC:   Your database is compatible with Pegasus version: 5.0.0dev\n",
      "2020.09.16 17:25:14.151 UTC:   Output replica catalog set to jdbc:sqlite:/home/scitech/shared-data/CatsAndDogs/scitech/pegasus/Cats_and_Dogs/run0015/Cats_and_Dogs-0.replicas.db\n",
      "2020.09.16 17:25:14.336 UTC:   Submitting to condor Cats_and_Dogs-0.dag.condor.sub\n",
      "2020.09.16 17:25:14.358 UTC:\n",
      "2020.09.16 17:25:14.364 UTC:   Your workflow has been started and is running in the base directory:\n",
      "2020.09.16 17:25:14.369 UTC:\n",
      "2020.09.16 17:25:14.375 UTC:   /home/scitech/shared-data/CatsAndDogs/scitech/pegasus/Cats_and_Dogs/run0015\n",
      "2020.09.16 17:25:14.380 UTC:\n",
      "2020.09.16 17:25:14.385 UTC:   *** To monitor the workflow you can run ***\n",
      "2020.09.16 17:25:14.391 UTC:\n",
      "2020.09.16 17:25:14.396 UTC:   pegasus-status -l /home/scitech/shared-data/CatsAndDogs/scitech/pegasus/Cats_and_Dogs/run0015\n",
      "2020.09.16 17:25:14.402 UTC:\n",
      "2020.09.16 17:25:14.407 UTC:   *** To remove your workflow run ***\n",
      "2020.09.16 17:25:14.413 UTC:\n",
      "2020.09.16 17:25:14.418 UTC:   pegasus-remove /home/scitech/shared-data/CatsAndDogs/scitech/pegasus/Cats_and_Dogs/run0015\n",
      "2020.09.16 17:25:14.736 UTC:   Time taken to execute is 4.273 seconds\n",
      "\n"
     ]
    },
    {
     "name": "stdout",
     "output_type": "stream",
     "text": [
      "[--------------------------------------------------]   0.0% ..--------------------------------------------------]   0.0% ..Running (Completed: 0, Queued: 0, Running: 0, Failed: 0)--------------------------------------------------]   0.0% ..Running (Completed: 0, Queued: 0, Running: 1, Failed: 0)--------------------------------------------------]   0.0% ..Running (Completed: 0, Queued: 0, Running: 0, Failed: 0)##------------------------------------------------]   3.3% ..Running (Completed: 1, Queued: 7, Running: 0, Failed: 0)##------------------------------------------------]   3.3% ..Running (Completed: 1, Queued: 0, Running: 7, Failed: 0)##------------------------------------------------]   3.3% ..Running (Completed: 1, Queued: 0, Running: 7, Failed: 0)##------------------------------------------------]   3.3% ..Running (Completed: 1, Queued: 0, Running: 1, Failed: 0)############--------------------------------------]  23.3% ..Running (Completed: 7, Queued: 0, Running: 1, Failed: 0)############--------------------------------------]  23.3% ..Running (Completed: 7, Queued: 0, Running: 1, Failed: 0)############--------------------------------------]  23.3% ..Running (Completed: 7, Queued: 0, Running: 0, Failed: 0)#############-------------------------------------]  26.7% ..Running (Completed: 8, Queued: 1, Running: 0, Failed: 0)#############-------------------------------------]  26.7% ..Running (Completed: 8, Queued: 0, Running: 1, Failed: 0)#############-------------------------------------]  26.7% ..Running (Completed: 8, Queued: 0, Running: 1, Failed: 0)#############-------------------------------------]  26.7% ..Running (Completed: 8, Queued: 0, Running: 1, Failed: 0)#############-------------------------------------]  26.7% ..Running (Completed: 8, Queued: 0, Running: 0, Failed: 0)###############-----------------------------------]  30.0% ..Running (Completed: 9, Queued: 3, Running: 0, Failed: 0)###############-----------------------------------]  30.0% ..Running (Completed: 9, Queued: 0, Running: 3, Failed: 0)###############-----------------------------------]  30.0% ..Running (Completed: 9, Queued: 0, Running: 3, Failed: 0)###############-----------------------------------]  30.0% ..Running (Completed: 9, Queued: 0, Running: 3, Failed: 0)###############-----------------------------------]  30.0% ..Running (Completed: 9, Queued: 0, Running: 3, Failed: 0)###############-----------------------------------]  30.0% ..Running (Completed: 9, Queued: 0, Running: 1, Failed: 0)##################--------------------------------]  36.7% ..Running (Completed: 11, Queued: 2, Running: 0, Failed: 0)####################------------------------------]  40.0% ..Running (Completed: 12, Queued: 2, Running: 2, Failed: 0)####################------------------------------]  40.0% ..Running (Completed: 12, Queued: 0, Running: 4, Failed: 0)####################------------------------------]  40.0% ..Running (Completed: 12, Queued: 0, Running: 4, Failed: 0)#######################---------------------------]  46.7% ..Running (Completed: 14, Queued: 2, Running: 2, Failed: 0)#######################---------------------------]  46.7% ..Running (Completed: 14, Queued: 0, Running: 3, Failed: 0)#########################-------------------------]  50.0% ..Running (Completed: 15, Queued: 0, Running: 2, Failed: 0)###########################-----------------------]  53.3% ..Running (Completed: 16, Queued: 1, Running: 2, Failed: 0)###########################-----------------------]  53.3% ..Running (Completed: 16, Queued: 0, Running: 3, Failed: 0)###########################-----------------------]  53.3% ..Running (Completed: 16, Queued: 0, Running: 3, Failed: 0)###########################-----------------------]  53.3% ..Running (Completed: 16, Queued: 0, Running: 2, Failed: 0)############################----------------------]  56.7% ..Running (Completed: 17, Queued: 0, Running: 1, Failed: 0)##############################--------------------]  60.0% ..Running (Completed: 18, Queued: 2, Running: 1, Failed: 0)##############################--------------------]  60.0% ..Running (Completed: 18, Queued: 0, Running: 3, Failed: 0)##############################--------------------]  60.0% ..Running (Completed: 18, Queued: 0, Running: 2, Failed: 0)################################------------------]  63.3% ..Running (Completed: 19, Queued: 0, Running: 2, Failed: 0)################################------------------]  63.3% ..Running (Completed: 19, Queued: 0, Running: 1, Failed: 0)#################################-----------------]  66.7% ..Running (Completed: 20, Queued: 0, Running: 1, Failed: 0)#################################-----------------]  66.7% ..Running (Completed: 20, Queued: 0, Running: 1, Failed: 0)#################################-----------------]  66.7% ..Running (Completed: 20, Queued: 0, Running: 1, Failed: 0)#################################-----------------]  66.7% ..Running (Completed: 20, Queued: 0, Running: 1, Failed: 0)#################################-----------------]  66.7% ..Running (Completed: 20, Queued: 0, Running: 1, Failed: 0)#################################-----------------]  66.7% ..Running (Completed: 20, Queued: 0, Running: 1, Failed: 0)#################################-----------------]  66.7% ..Running (Completed: 20, Queued: 0, Running: 1, Failed: 0)#################################-----------------]  66.7% ..Running (Completed: 20, Queued: 0, Running: 1, Failed: 0)#################################-----------------]  66.7% ..Running (Completed: 20, Queued: 0, Running: 1, Failed: 0)#################################-----------------]  66.7% ..Running (Completed: 20, Queued: 0, Running: 1, Failed: 0)#################################-----------------]  66.7% ..Running (Completed: 20, Queued: 0, Running: 1, Failed: 0)#################################-----------------]  66.7% ..Running (Completed: 20, Queued: 0, Running: 1, Failed: 0)#################################-----------------]  66.7% ..Running (Completed: 20, Queued: 0, Running: 1, Failed: 0)#################################-----------------]  66.7% ..Running (Completed: 20, Queued: 0, Running: 1, Failed: 0)#################################-----------------]  66.7% ..Running (Completed: 20, Queued: 0, Running: 1, Failed: 0)#################################-----------------]  66.7% ..Running (Completed: 20, Queued: 0, Running: 1, Failed: 0)#################################-----------------]  66.7% ..Running (Completed: 20, Queued: 0, Running: 1, Failed: 0)#################################-----------------]  66.7% ..Running (Completed: 20, Queued: 0, Running: 1, Failed: 0)#################################-----------------]  66.7% ..Running (Completed: 20, Queued: 0, Running: 1, Failed: 0)#################################-----------------]  66.7% ..Running (Completed: 20, Queued: 0, Running: 1, Failed: 0)#################################-----------------]  66.7% ..Running (Completed: 20, Queued: 0, Running: 1, Failed: 0)#################################-----------------]  66.7% ..Running (Completed: 20, Queued: 0, Running: 1, Failed: 0)#################################-----------------]  66.7% ..Running (Completed: 20, Queued: 0, Running: 1, Failed: 0)#################################-----------------]  66.7% ..Running (Completed: 20, Queued: 0, Running: 1, Failed: 0)#################################-----------------]  66.7% ..Running (Completed: 20, Queued: 0, Running: 1, Failed: 0)#################################-----------------]  66.7% ..Running (Completed: 20, Queued: 0, Running: 1, Failed: 0)#################################-----------------]  66.7% ..Running (Completed: 20, Queued: 0, Running: 1, Failed: 0)#################################-----------------]  66.7% ..Running (Completed: 20, Queued: 0, Running: 1, Failed: 0)#################################-----------------]  66.7% ..Running (Completed: 20, Queued: 0, Running: 1, Failed: 0)#################################-----------------]  66.7% ..Running (Completed: 20, Queued: 0, Running: 1, Failed: 0)#################################-----------------]  66.7% ..Running (Completed: 20, Queued: 0, Running: 1, Failed: 0)#################################"
     ]
    },
    {
     "name": "stdout",
     "output_type": "stream",
     "text": [
      "[----------------]  66.7% ..Running (Completed: 20, Queued: 0, Running: 1, Failed: 0)#################################-----------------]  66.7% ..Running (Completed: 20, Queued: 0, Running: 1, Failed: 0)#################################-----------------]  66.7% ..Running (Completed: 20, Queued: 0, Running: 1, Failed: 0)#################################-----------------]  66.7% ..Running (Completed: 20, Queued: 0, Running: 1, Failed: 0)#################################-----------------]  66.7% ..Running (Completed: 20, Queued: 0, Running: 1, Failed: 0)#################################-----------------]  66.7% ..Running (Completed: 20, Queued: 0, Running: 1, Failed: 0)#################################-----------------]  66.7% ..Running (Completed: 20, Queued: 0, Running: 1, Failed: 0)#################################-----------------]  66.7% ..Running (Completed: 20, Queued: 0, Running: 1, Failed: 0)#################################-----------------]  66.7% ..Running (Completed: 20, Queued: 0, Running: 1, Failed: 0)#################################-----------------]  66.7% ..Running (Completed: 20, Queued: 0, Running: 1, Failed: 0)#################################-----------------]  66.7% ..Running (Completed: 20, Queued: 0, Running: 1, Failed: 0)#################################-----------------]  66.7% ..Running (Completed: 20, Queued: 0, Running: 1, Failed: 0)#################################-----------------]  66.7% ..Running (Completed: 20, Queued: 0, Running: 1, Failed: 0)#################################-----------------]  66.7% ..Running (Completed: 20, Queued: 0, Running: 1, Failed: 0)#################################-----------------]  66.7% ..Running (Completed: 20, Queued: 0, Running: 1, Failed: 0)#################################-----------------]  66.7% ..Running (Completed: 20, Queued: 0, Running: 1, Failed: 0)#################################-----------------]  66.7% ..Running (Completed: 20, Queued: 0, Running: 1, Failed: 0)#################################-----------------]  66.7% ..Running (Completed: 20, Queued: 0, Running: 1, Failed: 0)#################################-----------------]  66.7% ..Running (Completed: 20, Queued: 0, Running: 1, Failed: 0)#################################-----------------]  66.7% ..Running (Completed: 20, Queued: 0, Running: 1, Failed: 0)#################################-----------------]  66.7% ..Running (Completed: 20, Queued: 0, Running: 1, Failed: 0)#################################-----------------]  66.7% ..Running (Completed: 20, Queued: 0, Running: 1, Failed: 0)#################################-----------------]  66.7% ..Running (Completed: 20, Queued: 0, Running: 1, Failed: 0)#################################-----------------]  66.7% ..Running (Completed: 20, Queued: 0, Running: 1, Failed: 0)#################################-----------------]  66.7% ..Running (Completed: 20, Queued: 0, Running: 1, Failed: 0)#################################-----------------]  66.7% ..Running (Completed: 20, Queued: 0, Running: 1, Failed: 0)#################################-----------------]  66.7% ..Running (Completed: 20, Queued: 0, Running: 1, Failed: 0)#################################-----------------]  66.7% ..Running (Completed: 20, Queued: 0, Running: 1, Failed: 0)#################################-----------------]  66.7% ..Running (Completed: 20, Queued: 0, Running: 1, Failed: 0)#################################-----------------]  66.7% ..Running (Completed: 20, Queued: 0, Running: 1, Failed: 0)#################################-----------------]  66.7% ..Running (Completed: 20, Queued: 0, Running: 1, Failed: 0)#################################-----------------]  66.7% ..Running (Completed: 20, Queued: 0, Running: 1, Failed: 0)#################################-----------------]  66.7% ..Running (Completed: 20, Queued: 0, Running: 1, Failed: 0)#################################-----------------]  66.7% ..Running (Completed: 20, Queued: 0, Running: 1, Failed: 0)#################################-----------------]  66.7% ..Running (Completed: 20, Queued: 0, Running: 1, Failed: 0)#################################-----------------]  66.7% ..Running (Completed: 20, Queued: 0, Running: 1, Failed: 0)#################################-----------------]  66.7% ..Running (Completed: 20, Queued: 0, Running: 1, Failed: 0)#################################-----------------]  66.7% ..Running (Completed: 20, Queued: 0, Running: 1, Failed: 0)#################################-----------------]  66.7% ..Running (Completed: 20, Queued: 0, Running: 1, Failed: 0)#################################-----------------]  66.7% ..Running (Completed: 20, Queued: 0, Running: 1, Failed: 0)#################################-----------------]  66.7% ..Running (Completed: 20, Queued: 0, Running: 1, Failed: 0)#################################-----------------]  66.7% ..Running (Completed: 20, Queued: 0, Running: 1, Failed: 0)#################################-----------------]  66.7% ..Running (Completed: 20, Queued: 0, Running: 1, Failed: 0)#################################-----------------]  66.7% ..Running (Completed: 20, Queued: 0, Running: 1, Failed: 0)#################################-----------------]  66.7% ..Running (Completed: 20, Queued: 0, Running: 1, Failed: 0)#################################-----------------]  66.7% ..Running (Completed: 20, Queued: 0, Running: 1, Failed: 0)#################################-----------------]  66.7% ..Running (Completed: 20, Queued: 0, Running: 1, Failed: 0)#################################-----------------]  66.7% ..Running (Completed: 20, Queued: 0, Running: 1, Failed: 0)#################################-----------------]  66.7% ..Running (Completed: 20, Queued: 0, Running: 1, Failed: 0)#################################-----------------]  66.7% ..Running (Completed: 20, Queued: 0, Running: 1, Failed: 0)#################################-----------------]  66.7% ..Running (Completed: 20, Queued: 0, Running: 1, Failed: 0)#################################-----------------]  66.7% ..Running (Completed: 20, Queued: 0, Running: 1, Failed: 0)#################################-----------------]  66.7% ..Running (Completed: 20, Queued: 0, Running: 1, Failed: 0)#################################-----------------]  66.7% ..Running (Completed: 20, Queued: 0, Running: 1, Failed: 0)#################################-----------------]  66.7% ..Running (Completed: 20, Queued: 0, Running: 1, Failed: 0)#################################-----------------]  66.7% ..Running (Completed: 20, Queued: 0, Running: 1, Failed: 0)#################################-----------------]  66.7% ..Running (Completed: 20, Queued: 0, Running: 1, Failed: 0)#################################-----------------]  66.7% ..Running (Completed: 20, Queued: 0, Running: 1, Failed: 0)#################################-----------------]  66.7% ..Running (Completed: 20, Queued: 0, Running: 1, Failed: 0)#################################-----------------]  66.7% ..Running (Completed: 20, Queued: 0, Running: 1, Failed: 0)#################################-----------------]  66.7% ..Running (Completed: 20, Queued: 0, Running: 1, Failed: 0)#################################-----------------]  66.7% ..Running (Completed: 20, Queued: 0, Running: 1, Failed: 0)#################################-----------------]  66.7% ..Running (Completed: 20, Queued: 0, Running: 1, Failed: 0)#################################-----------------]  66.7% ..Running (Completed: 20, Queued: 0, Running: 1, Failed: 0)#################################-----------------]  66.7% ..Running (Completed: 20, Queued: 0, Running: 1, Failed: 0)#################################-----------------]  66.7% ..Running (Completed: 20, Queued: 0, Running: 1, Failed: 0)#################################-----------------]  66.7% ..Running (Completed: 20, Queued: 0, Running: 1, Failed: 0)#################################-----------------]  66.7% ..Running (Completed: 20, Queued: 0, Running: 1, Failed: 0)#################################-----------------]  66.7% ..Running (Completed: 20, Queued: 0, Running: 1, Failed: 0)#################################-----------------]  66.7% ..Running (Completed: 20, "
     ]
    },
    {
     "name": "stdout",
     "output_type": "stream",
     "text": [
      "[ueued: 0, Running: 1, Failed: 0)#################################-----------------]  66.7% ..Running (Completed: 20, Queued: 0, Running: 1, Failed: 0)#################################-----------------]  66.7% ..Running (Completed: 20, Queued: 0, Running: 1, Failed: 0)#################################-----------------]  66.7% ..Running (Completed: 20, Queued: 0, Running: 1, Failed: 0)#################################-----------------]  66.7% ..Running (Completed: 20, Queued: 0, Running: 1, Failed: 0)#################################-----------------]  66.7% ..Running (Completed: 20, Queued: 0, Running: 1, Failed: 0)#################################-----------------]  66.7% ..Running (Completed: 20, Queued: 0, Running: 1, Failed: 0)#################################-----------------]  66.7% ..Running (Completed: 20, Queued: 0, Running: 1, Failed: 0)#################################-----------------]  66.7% ..Running (Completed: 20, Queued: 0, Running: 1, Failed: 0)#################################-----------------]  66.7% ..Running (Completed: 20, Queued: 0, Running: 1, Failed: 0)#################################-----------------]  66.7% ..Running (Completed: 20, Queued: 0, Running: 1, Failed: 0)#################################-----------------]  66.7% ..Running (Completed: 20, Queued: 0, Running: 1, Failed: 0)#################################-----------------]  66.7% ..Running (Completed: 20, Queued: 0, Running: 1, Failed: 0)#################################-----------------]  66.7% ..Running (Completed: 20, Queued: 0, Running: 1, Failed: 0)#################################-----------------]  66.7% ..Running (Completed: 20, Queued: 0, Running: 1, Failed: 0)#################################-----------------]  66.7% ..Running (Completed: 20, Queued: 0, Running: 1, Failed: 0)#################################-----------------]  66.7% ..Running (Completed: 20, Queued: 0, Running: 1, Failed: 0)#################################-----------------]  66.7% ..Running (Completed: 20, Queued: 0, Running: 1, Failed: 0)#################################-----------------]  66.7% ..Running (Completed: 20, Queued: 0, Running: 1, Failed: 0)#################################-----------------]  66.7% ..Running (Completed: 20, Queued: 0, Running: 1, Failed: 0)#################################-----------------]  66.7% ..Running (Completed: 20, Queued: 0, Running: 1, Failed: 0)#################################-----------------]  66.7% ..Running (Completed: 20, Queued: 0, Running: 1, Failed: 0)#################################-----------------]  66.7% ..Running (Completed: 20, Queued: 0, Running: 1, Failed: 0)#################################-----------------]  66.7% ..Running (Completed: 20, Queued: 0, Running: 1, Failed: 0)#################################-----------------]  66.7% ..Running (Completed: 20, Queued: 0, Running: 1, Failed: 0)#################################-----------------]  66.7% ..Running (Completed: 20, Queued: 0, Running: 1, Failed: 0)#################################-----------------]  66.7% ..Running (Completed: 20, Queued: 0, Running: 1, Failed: 0)#################################-----------------]  66.7% ..Running (Completed: 20, Queued: 0, Running: 1, Failed: 0)#################################-----------------]  66.7% ..Running (Completed: 20, Queued: 0, Running: 1, Failed: 0)#################################-----------------]  66.7% ..Running (Completed: 20, Queued: 0, Running: 1, Failed: 0)#################################-----------------]  66.7% ..Running (Completed: 20, Queued: 0, Running: 1, Failed: 0)#################################-----------------]  66.7% ..Running (Completed: 20, Queued: 0, Running: 1, Failed: 0)#################################-----------------]  66.7% ..Running (Completed: 20, Queued: 0, Running: 1, Failed: 0)#################################-----------------]  66.7% ..Running (Completed: 20, Queued: 0, Running: 1, Failed: 0)#################################-----------------]  66.7% ..Running (Completed: 20, Queued: 0, Running: 1, Failed: 0)#################################-----------------]  66.7% ..Running (Completed: 20, Queued: 0, Running: 1, Failed: 0)#################################-----------------]  66.7% ..Running (Completed: 20, Queued: 0, Running: 0, Failed: 0)###################################---------------]  70.0% ..Running (Completed: 21, Queued: 3, Running: 0, Failed: 0)###################################---------------]  70.0% ..Running (Completed: 21, Queued: 0, Running: 3, Failed: 0)###################################---------------]  70.0% ..Running (Completed: 21, Queued: 0, Running: 3, Failed: 0)###################################---------------]  70.0% ..Running (Completed: 21, Queued: 0, Running: 1, Failed: 0)######################################------------]  76.7% ..Running (Completed: 23, Queued: 1, Running: 1, Failed: 0)######################################------------]  76.7% ..Running (Completed: 23, Queued: 0, Running: 2, Failed: 0)######################################------------]  76.7% ..Running (Completed: 23, Queued: 0, Running: 1, Failed: 0)########################################----------]  80.0% ..Running (Completed: 24, Queued: 0, Running: 1, Failed: 0)########################################----------]  80.0% ..Running (Completed: 24, Queued: 0, Running: 1, Failed: 0)########################################----------]  80.0% ..Running (Completed: 24, Queued: 0, Running: 1, Failed: 0)########################################----------]  80.0% ..Running (Completed: 24, Queued: 0, Running: 1, Failed: 0)########################################----------]  80.0% ..Running (Completed: 24, Queued: 0, Running: 1, Failed: 0)########################################----------]  80.0% ..Running (Completed: 24, Queued: 0, Running: 1, Failed: 0)########################################----------]  80.0% ..Running (Completed: 24, Queued: 0, Running: 1, Failed: 0)########################################----------]  80.0% ..Running (Completed: 24, Queued: 0, Running: 1, Failed: 0)########################################----------]  80.0% ..Running (Completed: 24, Queued: 0, Running: 1, Failed: 0)########################################----------]  80.0% ..Running (Completed: 24, Queued: 0, Running: 1, Failed: 0)########################################----------]  80.0% ..Running (Completed: 24, Queued: 0, Running: 1, Failed: 0)########################################----------]  80.0% ..Running (Completed: 24, Queued: 0, Running: 1, Failed: 0)########################################----------]  80.0% ..Running (Completed: 24, Queued: 0, Running: 1, Failed: 0)########################################----------]  80.0% ..Running (Completed: 24, Queued: 0, Running: 1, Failed: 0)########################################----------]  80.0% ..Running (Completed: 24, Queued: 0, Running: 1, Failed: 0)########################################----------]  80.0% ..Running (Completed: 24, Queued: 0, Running: 1, Failed: 0)########################################----------]  80.0% ..Running (Completed: 24, Queued: 0, Running: 1, Failed: 0)########################################----------]  80.0% ..Running (Completed: 24, Queued: 0, Running: 1, Failed: 0)########################################----------]  80.0% ..Running (Completed: 24, Queued: 0, Running: 1, Failed: 0)########################################----------]  80.0% ..Running (Completed: 24, Queued: 0, Running: 1, Failed: 0)########################################----------]  80.0% ..Running (Completed: 24, Queued: 0, Running: 1, Failed: 0)########################################----------]  80.0% ..Running (Completed: 24, Queued: 0, Running: 1, Failed: 0)########################################----------]  80.0% ..Running (Completed: 24, Queued: 0, Running: 1, Failed: 0)########################################----------]  80.0% ..Running (Completed: 24, Queued: 0, Running: 1, Failed: 0)########################################----------]  80.0% ..Running (Completed: 24, Queued: 0, Running: 1, Failed: 0)########################################----------]  80.0% ..Running (Completed: 24, Queued: 0, Running: 1, Failed: 0)########################################"
     ]
    },
    {
     "name": "stdout",
     "output_type": "stream",
     "text": [
      "[---------]  80.0% ..Running (Completed: 24, Queued: 0, Running: 1, Failed: 0)########################################----------]  80.0% ..Running (Completed: 24, Queued: 0, Running: 1, Failed: 0)########################################----------]  80.0% ..Running (Completed: 24, Queued: 0, Running: 1, Failed: 0)########################################----------]  80.0% ..Running (Completed: 24, Queued: 0, Running: 1, Failed: 0)########################################----------]  80.0% ..Running (Completed: 24, Queued: 0, Running: 1, Failed: 0)########################################----------]  80.0% ..Running (Completed: 24, Queued: 0, Running: 1, Failed: 0)########################################----------]  80.0% ..Running (Completed: 24, Queued: 0, Running: 1, Failed: 0)########################################----------]  80.0% ..Running (Completed: 24, Queued: 0, Running: 1, Failed: 0)"
     ]
    }
   ],
   "source": [
    "try:\n",
    "     wf.plan(submit=True)\\\n",
    "        .wait()\\\n",
    "        .analyze()\\\n",
    "        .statistics()\n",
    "except PegasusClientError as e:\n",
    "    print(e.output)"
   ]
  },
  {
   "cell_type": "code",
   "execution_count": null,
   "metadata": {},
   "outputs": [],
   "source": []
  },
  {
   "cell_type": "code",
   "execution_count": 19,
   "metadata": {},
   "outputs": [],
   "source": [
    "import pickle\n",
    "import gzip"
   ]
  },
  {
   "cell_type": "code",
   "execution_count": 23,
   "metadata": {},
   "outputs": [
    {
     "name": "stdout",
     "output_type": "stream",
     "text": [
      "Collecting update\n",
      "  Downloading update-0.0.1-py2.py3-none-any.whl (2.9 kB)\n",
      "Requirement already satisfied: joblib in /usr/local/lib/python3.6/site-packages (0.16.0)\n",
      "Collecting style==1.1.0\n",
      "  Downloading style-1.1.0-py2.py3-none-any.whl (6.4 kB)\n",
      "Installing collected packages: style, update\n",
      "Successfully installed style-1.1.0 update-0.0.1\n"
     ]
    }
   ],
   "source": [
    "!sudo pip3 install update joblib"
   ]
  },
  {
   "cell_type": "code",
   "execution_count": 24,
   "metadata": {},
   "outputs": [
    {
     "ename": "KeyError",
     "evalue": "255",
     "output_type": "error",
     "traceback": [
      "\u001b[0;31m---------------------------------------------------------------------------\u001b[0m",
      "\u001b[0;31mKeyError\u001b[0m                                  Traceback (most recent call last)",
      "\u001b[0;32m<ipython-input-24-94339b601658>\u001b[0m in \u001b[0;36m<module>\u001b[0;34m\u001b[0m\n\u001b[1;32m      1\u001b[0m \u001b[0;32mimport\u001b[0m \u001b[0mjoblib\u001b[0m\u001b[0;34m\u001b[0m\u001b[0;34m\u001b[0m\u001b[0m\n\u001b[0;32m----> 2\u001b[0;31m \u001b[0mloaded_model\u001b[0m \u001b[0;34m=\u001b[0m \u001b[0mjoblib\u001b[0m\u001b[0;34m.\u001b[0m\u001b[0mload\u001b[0m\u001b[0;34m(\u001b[0m\u001b[0;34m'wf-output/final_checkpoint.pkl'\u001b[0m\u001b[0;34m)\u001b[0m\u001b[0;34m\u001b[0m\u001b[0;34m\u001b[0m\u001b[0m\n\u001b[0m",
      "\u001b[0;32m/usr/local/lib/python3.6/site-packages/joblib/numpy_pickle.py\u001b[0m in \u001b[0;36mload\u001b[0;34m(filename, mmap_mode)\u001b[0m\n\u001b[1;32m    583\u001b[0m                     \u001b[0;32mreturn\u001b[0m \u001b[0mload_compatibility\u001b[0m\u001b[0;34m(\u001b[0m\u001b[0mfobj\u001b[0m\u001b[0;34m)\u001b[0m\u001b[0;34m\u001b[0m\u001b[0;34m\u001b[0m\u001b[0m\n\u001b[1;32m    584\u001b[0m \u001b[0;34m\u001b[0m\u001b[0m\n\u001b[0;32m--> 585\u001b[0;31m                 \u001b[0mobj\u001b[0m \u001b[0;34m=\u001b[0m \u001b[0m_unpickle\u001b[0m\u001b[0;34m(\u001b[0m\u001b[0mfobj\u001b[0m\u001b[0;34m,\u001b[0m \u001b[0mfilename\u001b[0m\u001b[0;34m,\u001b[0m \u001b[0mmmap_mode\u001b[0m\u001b[0;34m)\u001b[0m\u001b[0;34m\u001b[0m\u001b[0;34m\u001b[0m\u001b[0m\n\u001b[0m\u001b[1;32m    586\u001b[0m     \u001b[0;32mreturn\u001b[0m \u001b[0mobj\u001b[0m\u001b[0;34m\u001b[0m\u001b[0;34m\u001b[0m\u001b[0m\n",
      "\u001b[0;32m/usr/local/lib/python3.6/site-packages/joblib/numpy_pickle.py\u001b[0m in \u001b[0;36m_unpickle\u001b[0;34m(fobj, filename, mmap_mode)\u001b[0m\n\u001b[1;32m    502\u001b[0m     \u001b[0mobj\u001b[0m \u001b[0;34m=\u001b[0m \u001b[0;32mNone\u001b[0m\u001b[0;34m\u001b[0m\u001b[0;34m\u001b[0m\u001b[0m\n\u001b[1;32m    503\u001b[0m     \u001b[0;32mtry\u001b[0m\u001b[0;34m:\u001b[0m\u001b[0;34m\u001b[0m\u001b[0;34m\u001b[0m\u001b[0m\n\u001b[0;32m--> 504\u001b[0;31m         \u001b[0mobj\u001b[0m \u001b[0;34m=\u001b[0m \u001b[0munpickler\u001b[0m\u001b[0;34m.\u001b[0m\u001b[0mload\u001b[0m\u001b[0;34m(\u001b[0m\u001b[0;34m)\u001b[0m\u001b[0;34m\u001b[0m\u001b[0;34m\u001b[0m\u001b[0m\n\u001b[0m\u001b[1;32m    505\u001b[0m         \u001b[0;32mif\u001b[0m \u001b[0munpickler\u001b[0m\u001b[0;34m.\u001b[0m\u001b[0mcompat_mode\u001b[0m\u001b[0;34m:\u001b[0m\u001b[0;34m\u001b[0m\u001b[0;34m\u001b[0m\u001b[0m\n\u001b[1;32m    506\u001b[0m             warnings.warn(\"The file '%s' has been generated with a \"\n",
      "\u001b[0;32m/usr/lib64/python3.6/pickle.py\u001b[0m in \u001b[0;36mload\u001b[0;34m(self)\u001b[0m\n\u001b[1;32m   1048\u001b[0m                     \u001b[0;32mraise\u001b[0m \u001b[0mEOFError\u001b[0m\u001b[0;34m\u001b[0m\u001b[0;34m\u001b[0m\u001b[0m\n\u001b[1;32m   1049\u001b[0m                 \u001b[0;32massert\u001b[0m \u001b[0misinstance\u001b[0m\u001b[0;34m(\u001b[0m\u001b[0mkey\u001b[0m\u001b[0;34m,\u001b[0m \u001b[0mbytes_types\u001b[0m\u001b[0;34m)\u001b[0m\u001b[0;34m\u001b[0m\u001b[0;34m\u001b[0m\u001b[0m\n\u001b[0;32m-> 1050\u001b[0;31m                 \u001b[0mdispatch\u001b[0m\u001b[0;34m[\u001b[0m\u001b[0mkey\u001b[0m\u001b[0;34m[\u001b[0m\u001b[0;36m0\u001b[0m\u001b[0;34m]\u001b[0m\u001b[0;34m]\u001b[0m\u001b[0;34m(\u001b[0m\u001b[0mself\u001b[0m\u001b[0;34m)\u001b[0m\u001b[0;34m\u001b[0m\u001b[0;34m\u001b[0m\u001b[0m\n\u001b[0m\u001b[1;32m   1051\u001b[0m         \u001b[0;32mexcept\u001b[0m \u001b[0m_Stop\u001b[0m \u001b[0;32mas\u001b[0m \u001b[0mstopinst\u001b[0m\u001b[0;34m:\u001b[0m\u001b[0;34m\u001b[0m\u001b[0;34m\u001b[0m\u001b[0m\n\u001b[1;32m   1052\u001b[0m             \u001b[0;32mreturn\u001b[0m \u001b[0mstopinst\u001b[0m\u001b[0;34m.\u001b[0m\u001b[0mvalue\u001b[0m\u001b[0;34m\u001b[0m\u001b[0;34m\u001b[0m\u001b[0m\n",
      "\u001b[0;31mKeyError\u001b[0m: 255"
     ]
    }
   ],
   "source": [
    "import joblib\n",
    "loaded_model = joblib.load('wf-output/final_checkpoint.pkl')"
   ]
  },
  {
   "cell_type": "code",
   "execution_count": 15,
   "metadata": {},
   "outputs": [],
   "source": [
    "file = open('wf-output/study_checkpoint.pkl', 'rb')"
   ]
  },
  {
   "cell_type": "code",
   "execution_count": 16,
   "metadata": {
    "scrolled": true
   },
   "outputs": [
    {
     "ename": "UnpicklingError",
     "evalue": "invalid load key, '\\xff'.",
     "output_type": "error",
     "traceback": [
      "\u001b[0;31m---------------------------------------------------------------------------\u001b[0m",
      "\u001b[0;31mUnpicklingError\u001b[0m                           Traceback (most recent call last)",
      "\u001b[0;32m<ipython-input-16-0f109e70f79a>\u001b[0m in \u001b[0;36m<module>\u001b[0;34m\u001b[0m\n\u001b[0;32m----> 1\u001b[0;31m \u001b[0mdata\u001b[0m \u001b[0;34m=\u001b[0m \u001b[0mpickle\u001b[0m\u001b[0;34m.\u001b[0m\u001b[0mload\u001b[0m\u001b[0;34m(\u001b[0m\u001b[0mfile\u001b[0m\u001b[0;34m)\u001b[0m\u001b[0;34m\u001b[0m\u001b[0;34m\u001b[0m\u001b[0m\n\u001b[0m",
      "\u001b[0;31mUnpicklingError\u001b[0m: invalid load key, '\\xff'."
     ]
    }
   ],
   "source": [
    "data = pickle.load(file)"
   ]
  },
  {
   "cell_type": "code",
   "execution_count": 14,
   "metadata": {},
   "outputs": [
    {
     "data": {
      "text/plain": [
       "'0'"
      ]
     },
     "execution_count": 14,
     "metadata": {},
     "output_type": "execute_result"
    }
   ],
   "source": [
    "data"
   ]
  },
  {
   "cell_type": "code",
   "execution_count": null,
   "metadata": {},
   "outputs": [],
   "source": []
  },
  {
   "cell_type": "code",
   "execution_count": null,
   "metadata": {},
   "outputs": [],
   "source": []
  },
  {
   "cell_type": "code",
   "execution_count": null,
   "metadata": {},
   "outputs": [],
   "source": []
  },
  {
   "cell_type": "code",
   "execution_count": null,
   "metadata": {},
   "outputs": [],
   "source": [
    "# augmented_files = []\n",
    "# for f in all_files:\n",
    "#     augmented_files.extend([File(str(f).replace(\"{}\".format(os.path.splitext(str(f))[0]), \"Aug_{}_{}\".format(os.path.splitext(str(f))[0],i))) for i in range(3)])"
   ]
  },
  {
   "cell_type": "code",
   "execution_count": null,
   "metadata": {},
   "outputs": [],
   "source": [
    "# len(augmented_files)"
   ]
  },
  {
   "cell_type": "code",
   "execution_count": null,
   "metadata": {},
   "outputs": [],
   "source": [
    "# len(all_files)"
   ]
  },
  {
   "cell_type": "code",
   "execution_count": null,
   "metadata": {},
   "outputs": [],
   "source": [
    "\n"
   ]
  },
  {
   "cell_type": "code",
   "execution_count": null,
   "metadata": {},
   "outputs": [],
   "source": []
  }
 ],
 "metadata": {
  "kernelspec": {
   "display_name": "Python 3",
   "language": "python",
   "name": "python3"
  },
  "language_info": {
   "codemirror_mode": {
    "name": "ipython",
    "version": 3
   },
   "file_extension": ".py",
   "mimetype": "text/x-python",
   "name": "python",
   "nbconvert_exporter": "python",
   "pygments_lexer": "ipython3",
   "version": "3.6.8"
  }
 },
 "nbformat": 4,
 "nbformat_minor": 4
}
