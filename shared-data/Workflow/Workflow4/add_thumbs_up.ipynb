{
 "cells": [
  {
   "cell_type": "code",
   "execution_count": null,
   "metadata": {},
   "outputs": [],
   "source": [
    "#!/usr/bin/env python3\n",
    "import emoji\n",
    "import sys\n",
    "\n",
    "input_file = sys.argv[1]\n",
    "output_file = sys.argv[2]\n",
    "\n",
    "with open(input_file, 'r') as f,open(output_file,'w',encoding='utf-8-sig') as f1:\n",
    "    input_txt = f.readlines()\n",
    "    f1.write(input_txt)\n",
    "    f1.write(emoji.emojize(':thumbs_up:'))"
   ]
  },
  {
   "cell_type": "code",
   "execution_count": null,
   "metadata": {},
   "outputs": [],
   "source": []
  },
  {
   "cell_type": "code",
   "execution_count": null,
   "metadata": {},
   "outputs": [],
   "source": []
  }
 ],
 "metadata": {
  "kernelspec": {
   "display_name": "Python 3",
   "language": "python",
   "name": "python3"
  },
  "language_info": {
   "codemirror_mode": {
    "name": "ipython",
    "version": 3
   },
   "file_extension": ".py",
   "mimetype": "text/x-python",
   "name": "python",
   "nbconvert_exporter": "python",
   "pygments_lexer": "ipython3",
   "version": "3.6.8"
  }
 },
 "nbformat": 4,
 "nbformat_minor": 4
}
