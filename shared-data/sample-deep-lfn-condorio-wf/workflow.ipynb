{
 "cells": [
  {
   "cell_type": "code",
   "execution_count": 4,
   "metadata": {},
   "outputs": [
    {
     "name": "stdout",
     "output_type": "stream",
     "text": [
      "Added file: nested-dir/dogs/dog_sounds.txt, lfn: 9ed1913037f173c9e346ee9111cc4c31c3cd1a9c4536c80ae8a7d4f95cf0dd6f_dog_sounds.txt, pfn: /home/scitech/shared-data/sample-deep-lfn-condorio-wf/nested-dir/dogs/dog_sounds.txt\n",
      "Added file: nested-dir/cats/cat_sounds.txt, lfn: c38546df40a0c17b18c407c37bb762eff252ac7fe4cd4f324f5c84d69f53ffdf_cat_sounds.txt, pfn: /home/scitech/shared-data/sample-deep-lfn-condorio-wf/nested-dir/cats/cat_sounds.txt\n"
     ]
    },
    {
     "name": "stderr",
     "output_type": "stream",
     "text": [
      "Plan:\n",
      "[main] WARN  schema.JsonMetaSchema  - Unknown keyword $defs - you should define your own Meta Schema. If the keyword is irrelevant for validation, just use a NonValidationKeyword\n",
      "[main] WARN  schema.JsonMetaSchema  - Unknown keyword additionalItems - you should define your own Meta Schema. If the keyword is irrelevant for validation, just use a NonValidationKeyword\n",
      "[main] WARN  schema.JsonMetaSchema  - Unknown keyword examples - you should define your own Meta Schema. If the keyword is irrelevant for validation, just use a NonValidationKeyword\n",
      "2020.06.12 01:03:35.337 UTC:    \n",
      "2020.06.12 01:03:35.344 UTC:   ----------------------------------------------------------------------- \n",
      "2020.06.12 01:03:35.350 UTC:   File for submitting this DAG to HTCondor           : nested-dir-tutorial-0.dag.condor.sub \n",
      "2020.06.12 01:03:35.357 UTC:   Log of DAGMan debugging messages                 : nested-dir-tutorial-0.dag.dagman.out \n",
      "2020.06.12 01:03:35.363 UTC:   Log of HTCondor library output                     : nested-dir-tutorial-0.dag.lib.out \n",
      "2020.06.12 01:03:35.370 UTC:   Log of HTCondor library error messages             : nested-dir-tutorial-0.dag.lib.err \n",
      "2020.06.12 01:03:35.377 UTC:   Log of the life of condor_dagman itself          : nested-dir-tutorial-0.dag.dagman.log \n",
      "2020.06.12 01:03:35.384 UTC:    \n",
      "2020.06.12 01:03:35.392 UTC:   -no_submit given, not submitting DAG to HTCondor.  You can do this with: \n",
      "2020.06.12 01:03:35.404 UTC:   ----------------------------------------------------------------------- \n",
      "2020.06.12 01:03:36.114 UTC:   Your database is compatible with Pegasus version: 5.0.0dev \n",
      "2020.06.12 01:03:38.258 UTC:   Created Pegasus database in: sqlite:////home/scitech/shared-data/sample-deep-lfn-condorio-wf/scitech/pegasus/nested-dir-tutorial/run0020/nested-dir-tutorial-0.replicas.db \n",
      "2020.06.12 01:03:38.276 UTC:   Your database is compatible with Pegasus version: 5.0.0dev \n",
      "2020.06.12 01:03:38.303 UTC:   Output replica catalog set to jdbc:sqlite:/home/scitech/shared-data/sample-deep-lfn-condorio-wf/scitech/pegasus/nested-dir-tutorial/run0020/nested-dir-tutorial-0.replicas.db \n",
      "2020.06.12 01:03:38.479 UTC:   Submitting to condor nested-dir-tutorial-0.dag.condor.sub \n",
      "2020.06.12 01:03:38.526 UTC:    \n",
      "2020.06.12 01:03:38.550 UTC:   Your workflow has been started and is running in the base directory: \n",
      "2020.06.12 01:03:38.558 UTC:    \n",
      "2020.06.12 01:03:38.564 UTC:   /home/scitech/shared-data/sample-deep-lfn-condorio-wf/scitech/pegasus/nested-dir-tutorial/run0020 \n",
      "2020.06.12 01:03:38.572 UTC:    \n",
      "2020.06.12 01:03:38.579 UTC:   *** To monitor the workflow you can run *** \n",
      "2020.06.12 01:03:38.585 UTC:    \n",
      "2020.06.12 01:03:38.592 UTC:   pegasus-status -l /home/scitech/shared-data/sample-deep-lfn-condorio-wf/scitech/pegasus/nested-dir-tutorial/run0020 \n",
      "2020.06.12 01:03:38.599 UTC:    \n",
      "2020.06.12 01:03:38.605 UTC:   *** To remove your workflow run *** \n",
      "2020.06.12 01:03:38.612 UTC:    \n",
      "2020.06.12 01:03:38.619 UTC:   pegasus-remove /home/scitech/shared-data/sample-deep-lfn-condorio-wf/scitech/pegasus/nested-dir-tutorial/run0020 \n",
      "2020.06.12 01:03:38.813 UTC:   Time taken to execute is 4.73 seconds \n",
      " \n",
      "\n"
     ]
    },
    {
     "name": "stdout",
     "output_type": "stream",
     "text": [
      "[\u001b[1;32m##################################################\u001b[0m] 100.0% ..Success (\u001b[1;32mCompleted: 6\u001b[0m, \u001b[1;33mQueued: 0\u001b[0m, \u001b[1;36mRunning: 0\u001b[0m, \u001b[1;31mFailed: 0\u001b[0m)\n"
     ]
    }
   ],
   "source": [
    "import logging\n",
    "import urllib.request\n",
    "import shutil\n",
    "import tarfile\n",
    "\n",
    "from hashlib import sha256\n",
    "from pathlib import Path\n",
    "\n",
    "from Pegasus.api import *\n",
    "\n",
    "logging.basicConfig(level=logging.DEBUG)\n",
    "\n",
    "\n",
    "# Download the initial input (not using a pegasus job, because we will need\n",
    "# iterate through it and add all files to the rc)\n",
    "with urllib.request.urlopen(\"http://www.isi.edu/~tanaka/nested-dir.tar.gz\") as response,\\\n",
    "    open(\"nested-dir.tar.gz\", \"wb\") as f:\n",
    "    shutil.copyfileobj(response, f)\n",
    "\n",
    "with tarfile.open(\"nested-dir.tar.gz\") as tar:\n",
    "    tar.extractall()\n",
    "    \n",
    "rc = ReplicaCatalog()\n",
    "\n",
    "# Iterate through the directories adding files\n",
    "# nested-dir\n",
    "# ├── cats\n",
    "# │   └── cat_sounds.txt\n",
    "# └── dogs\n",
    "#     └── dog_sounds.txt\n",
    "\n",
    "in_files = list()\n",
    "def get_files(d: Path) -> None:\n",
    "    for p in d.iterdir():\n",
    "        if p.is_file():\n",
    "            lfn = \"_\".join([sha256(p.name.encode()).hexdigest(), p.name])\n",
    "            f = File(lfn)\n",
    "            in_files.append(f)\n",
    "            rc.add_replica(\"local\", lfn, str(p.resolve()))\n",
    "            \n",
    "            print(\"Added file: {}, lfn: {}, pfn: {}\".format(\n",
    "                    str(p),\n",
    "                    lfn,\n",
    "                    p.resolve()\n",
    "                ))\n",
    "        else:\n",
    "            get_files(p)\n",
    "\n",
    "get_files(Path(\"nested-dir\"))\n",
    "\n",
    "rc.write()\n",
    "\n",
    "tc = TransformationCatalog()\\\n",
    "        .add_transformations(\n",
    "            Transformation(\n",
    "                \"print_file_contents\",\n",
    "                site=\"local\",\n",
    "                pfn=\"/home/scitech/shared-data/sample-deep-lfn-condorio-wf/print_file_contents.py\",\n",
    "                is_stageable=True\n",
    "            )\n",
    "        ).write()\n",
    "\n",
    "wf = Workflow(\"nested-dir-tutorial\")\n",
    "wf.add_jobs(\n",
    "    Job(\"print_file_contents\")\n",
    "        .add_inputs(*in_files)\n",
    "        .set_stdout(\"out.txt\")\n",
    ")\n",
    "\n",
    "\n",
    "try:\n",
    "    wf.plan(submit=True).wait()\n",
    "except PegasusClientError as e:\n",
    "    print(e.output)\n"
   ]
  },
  {
   "cell_type": "code",
   "execution_count": null,
   "metadata": {},
   "outputs": [],
   "source": []
  },
  {
   "cell_type": "code",
   "execution_count": null,
   "metadata": {},
   "outputs": [],
   "source": []
  }
 ],
 "metadata": {
  "kernelspec": {
   "display_name": "Python 3",
   "language": "python",
   "name": "python3"
  },
  "language_info": {
   "codemirror_mode": {
    "name": "ipython",
    "version": 3
   },
   "file_extension": ".py",
   "mimetype": "text/x-python",
   "name": "python",
   "nbconvert_exporter": "python",
   "pygments_lexer": "ipython3",
   "version": "3.6.8"
  }
 },
 "nbformat": 4,
 "nbformat_minor": 4
}
