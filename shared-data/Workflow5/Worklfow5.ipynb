{
 "cells": [
  {
   "cell_type": "code",
   "execution_count": 10,
   "metadata": {},
   "outputs": [],
   "source": [
    "#!/usr/bin/env python3\n",
    "import logging\n",
    "from pathlib import Path\n",
    "\n",
    "from Pegasus.api import *\n",
    "\n",
    "logging.basicConfig(level=logging.DEBUG)\n",
    "\n",
    "# Properties\n",
    "props = Properties()\n",
    "props[\"pegasus.data.configuration\"] = \"condorio\"\n",
    "props[\"dagman.retry\"] = \"5\"\n",
    "props.write()\n",
    "\n",
    "#Replica\n",
    "rc = ReplicaCatalog()\\\n",
    "        .add_replica(\"local\", \"saved_stated.txt\", Path(\".\").resolve() / \"saved_stated.txt\")\\\n",
    "        .write()\n",
    "\n",
    "# Transformation\n",
    "check = Transformation(\n",
    "        \"print_nums.py\",\n",
    "        site=\"local\",\n",
    "        pfn=str(Path(\".\").resolve() / \"print_nums.py\"),\n",
    "        is_stageable=True\n",
    "    )\n",
    "\n",
    "tc = TransformationCatalog().add_transformations(check).write()\n",
    "\n",
    "# Workflow\n",
    "job = Job(check)\\\n",
    "        .add_checkpoint(File(\"saved_stated.txt\"), stage_out=True)\\\n",
    "        .set_stdout(\"output.txt\")\\\n",
    "        .add_profiles(Namespace.PEGASUS, key=\"checkpoint.time\", value=1)\\\n",
    "        .add_profiles(Namespace.PEGASUS, key=\"maxwalltime\", value=2)\n",
    "\n",
    "\n",
    "wf = Workflow(\"checkpoint-wf\").add_jobs(job)"
   ]
  },
  {
   "cell_type": "code",
   "execution_count": null,
   "metadata": {},
   "outputs": [
    {
     "name": "stderr",
     "output_type": "stream",
     "text": [
      "Plan:\n",
      "[main] WARN  schema.JsonMetaSchema  - Unknown keyword $defs - you should define your own Meta Schema. If the keyword is irrelevant for validation, just use a NonValidationKeyword\n",
      "[main] WARN  schema.JsonMetaSchema  - Unknown keyword additionalItems - you should define your own Meta Schema. If the keyword is irrelevant for validation, just use a NonValidationKeyword\n",
      "[main] WARN  schema.JsonMetaSchema  - Unknown keyword examples - you should define your own Meta Schema. If the keyword is irrelevant for validation, just use a NonValidationKeyword\n",
      "2020.07.20 21:45:41.256 UTC:    \n",
      "2020.07.20 21:45:41.261 UTC:   ----------------------------------------------------------------------- \n",
      "2020.07.20 21:45:41.267 UTC:   File for submitting this DAG to HTCondor           : checkpoint-wf-0.dag.condor.sub \n",
      "2020.07.20 21:45:41.273 UTC:   Log of DAGMan debugging messages                 : checkpoint-wf-0.dag.dagman.out \n",
      "2020.07.20 21:45:41.278 UTC:   Log of HTCondor library output                     : checkpoint-wf-0.dag.lib.out \n",
      "2020.07.20 21:45:41.284 UTC:   Log of HTCondor library error messages             : checkpoint-wf-0.dag.lib.err \n",
      "2020.07.20 21:45:41.290 UTC:   Log of the life of condor_dagman itself          : checkpoint-wf-0.dag.dagman.log \n",
      "2020.07.20 21:45:41.296 UTC:    \n",
      "2020.07.20 21:45:41.302 UTC:   -no_submit given, not submitting DAG to HTCondor.  You can do this with: \n",
      "2020.07.20 21:45:41.314 UTC:   ----------------------------------------------------------------------- \n",
      "2020.07.20 21:45:42.305 UTC:   Your database is compatible with Pegasus version: 5.0.0dev \n",
      "2020.07.20 21:45:44.059 UTC:   Created Pegasus database in: sqlite:////home/scitech/shared-data/Workflow5/scitech/pegasus/checkpoint-wf/run0010/checkpoint-wf-0.replicas.db \n",
      "2020.07.20 21:45:44.064 UTC:   Your database is compatible with Pegasus version: 5.0.0dev \n",
      "2020.07.20 21:45:44.124 UTC:   Output replica catalog set to jdbc:sqlite:/home/scitech/shared-data/Workflow5/scitech/pegasus/checkpoint-wf/run0010/checkpoint-wf-0.replicas.db \n",
      "2020.07.20 21:45:44.371 UTC:   Submitting to condor checkpoint-wf-0.dag.condor.sub \n",
      "2020.07.20 21:45:44.404 UTC:    \n",
      "2020.07.20 21:45:44.409 UTC:   Your workflow has been started and is running in the base directory: \n",
      "2020.07.20 21:45:44.415 UTC:    \n",
      "2020.07.20 21:45:44.421 UTC:   /home/scitech/shared-data/Workflow5/scitech/pegasus/checkpoint-wf/run0010 \n",
      "2020.07.20 21:45:44.426 UTC:    \n",
      "2020.07.20 21:45:44.432 UTC:   *** To monitor the workflow you can run *** \n",
      "2020.07.20 21:45:44.438 UTC:    \n",
      "2020.07.20 21:45:44.443 UTC:   pegasus-status -l /home/scitech/shared-data/Workflow5/scitech/pegasus/checkpoint-wf/run0010 \n",
      "2020.07.20 21:45:44.449 UTC:    \n",
      "2020.07.20 21:45:44.455 UTC:   *** To remove your workflow run *** \n",
      "2020.07.20 21:45:44.462 UTC:    \n",
      "2020.07.20 21:45:44.469 UTC:   pegasus-remove /home/scitech/shared-data/Workflow5/scitech/pegasus/checkpoint-wf/run0010 \n",
      "2020.07.20 21:45:45.251 UTC:   Time taken to execute is 5.131 seconds \n",
      " \n",
      "\n"
     ]
    },
    {
     "name": "stdout",
     "output_type": "stream",
     "text": [
      "[\u001b[1;32m############################################\u001b[0m------]  88.9% ..Running (\u001b[1;32mCompleted: 8\u001b[0m, \u001b[1;33mQueued: 1\u001b[0m, \u001b[1;36mRunning: 0\u001b[0m, \u001b[1;31mFailed: 0\u001b[0m)"
     ]
    }
   ],
   "source": [
    "try:\n",
    "    wf.plan(submit=True)\\\n",
    "        .wait()\\\n",
    "        .analyze()\\\n",
    "        .statistics()\n",
    "except PegasusClientError as e:\n",
    "    print(e.output)"
   ]
  },
  {
   "cell_type": "code",
   "execution_count": null,
   "metadata": {},
   "outputs": [],
   "source": []
  }
 ],
 "metadata": {
  "kernelspec": {
   "display_name": "Python 3",
   "language": "python",
   "name": "python3"
  },
  "language_info": {
   "codemirror_mode": {
    "name": "ipython",
    "version": 3
   },
   "file_extension": ".py",
   "mimetype": "text/x-python",
   "name": "python",
   "nbconvert_exporter": "python",
   "pygments_lexer": "ipython3",
   "version": "3.6.8"
  }
 },
 "nbformat": 4,
 "nbformat_minor": 4
}
